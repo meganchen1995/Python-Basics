{
 "cells": [
  {
   "cell_type": "code",
   "execution_count": 2,
   "metadata": {},
   "outputs": [
    {
     "name": "stdout",
     "output_type": "stream",
     "text": [
      "Populating the interactive namespace from numpy and matplotlib\n"
     ]
    }
   ],
   "source": [
    "from pandas import Series, DataFrame\n",
    "import pandas as pd\n",
    "%pylab inline"
   ]
  },
  {
   "cell_type": "markdown",
   "metadata": {},
   "source": [
    "## Series"
   ]
  },
  {
   "cell_type": "code",
   "execution_count": 3,
   "metadata": {},
   "outputs": [
    {
     "data": {
      "text/plain": [
       "0     500\n",
       "1     200\n",
       "2     100\n",
       "3    2000\n",
       "4    5000\n",
       "dtype: int64"
      ]
     },
     "execution_count": 3,
     "metadata": {},
     "output_type": "execute_result"
    }
   ],
   "source": [
    "unit_prices = [500, 200, 100, 2000, 5000]\n",
    "obj = Series(unit_prices) # initializing a Series from a list\n",
    "obj"
   ]
  },
  {
   "cell_type": "code",
   "execution_count": 4,
   "metadata": {},
   "outputs": [
    {
     "data": {
      "text/plain": [
       "array([ 500,  200,  100, 2000, 5000])"
      ]
     },
     "execution_count": 4,
     "metadata": {},
     "output_type": "execute_result"
    }
   ],
   "source": [
    "obj.values"
   ]
  },
  {
   "cell_type": "code",
   "execution_count": 5,
   "metadata": {},
   "outputs": [
    {
     "data": {
      "text/plain": [
       "RangeIndex(start=0, stop=5, step=1)"
      ]
     },
     "execution_count": 5,
     "metadata": {},
     "output_type": "execute_result"
    }
   ],
   "source": [
    "obj.index"
   ]
  },
  {
   "cell_type": "markdown",
   "metadata": {},
   "source": [
    "#### Create a series by two lists"
   ]
  },
  {
   "cell_type": "code",
   "execution_count": 6,
   "metadata": {},
   "outputs": [
    {
     "data": {
      "text/plain": [
       "Wheels      500\n",
       "Doors       200\n",
       "Windows     100\n",
       "Engine     2000\n",
       "Body       5000\n",
       "dtype: int64"
      ]
     },
     "execution_count": 6,
     "metadata": {},
     "output_type": "execute_result"
    }
   ],
   "source": [
    "part_names = ['Wheels', 'Doors', 'Windows', 'Engine', 'Body']\n",
    "unit_price_series = Series(unit_prices, index=part_names)\n",
    "unit_price_series"
   ]
  },
  {
   "cell_type": "markdown",
   "metadata": {},
   "source": [
    "#### Create a series with dictionary"
   ]
  },
  {
   "cell_type": "code",
   "execution_count": 7,
   "metadata": {
    "scrolled": true
   },
   "outputs": [
    {
     "data": {
      "text/plain": [
       "Body       5000\n",
       "Doors       200\n",
       "Engine     2000\n",
       "Wheels      500\n",
       "Windows     100\n",
       "dtype: int64"
      ]
     },
     "execution_count": 7,
     "metadata": {},
     "output_type": "execute_result"
    }
   ],
   "source": [
    "obj2 = Series({'Wheels':500, 'Doors':200, 'Windows':100, 'Engine':2000, 'Body':5000})\n",
    "obj2"
   ]
  },
  {
   "cell_type": "markdown",
   "metadata": {},
   "source": [
    "#### Dictionary-style access to Series"
   ]
  },
  {
   "cell_type": "code",
   "execution_count": 8,
   "metadata": {},
   "outputs": [
    {
     "data": {
      "text/plain": [
       "Body       5000\n",
       "Doors       200\n",
       "Windows     100\n",
       "dtype: int64"
      ]
     },
     "execution_count": 8,
     "metadata": {},
     "output_type": "execute_result"
    }
   ],
   "source": [
    "unit_price_series[['Body', 'Doors', 'Windows']]"
   ]
  },
  {
   "cell_type": "code",
   "execution_count": 9,
   "metadata": {},
   "outputs": [
    {
     "data": {
      "text/plain": [
       "True"
      ]
     },
     "execution_count": 9,
     "metadata": {},
     "output_type": "execute_result"
    }
   ],
   "source": [
    "'Body' in unit_price_series #look for index"
   ]
  },
  {
   "cell_type": "markdown",
   "metadata": {},
   "source": [
    "#### List-style access"
   ]
  },
  {
   "cell_type": "code",
   "execution_count": 10,
   "metadata": {},
   "outputs": [
    {
     "data": {
      "text/plain": [
       "200"
      ]
     },
     "execution_count": 10,
     "metadata": {},
     "output_type": "execute_result"
    }
   ],
   "source": [
    "unit_price_series[1]"
   ]
  },
  {
   "cell_type": "code",
   "execution_count": 11,
   "metadata": {},
   "outputs": [
    {
     "data": {
      "text/plain": [
       "Wheels     500\n",
       "Doors      200\n",
       "Windows    100\n",
       "dtype: int64"
      ]
     },
     "execution_count": 11,
     "metadata": {},
     "output_type": "execute_result"
    }
   ],
   "source": [
    "unit_price_series['Wheels':'Windows']"
   ]
  },
  {
   "cell_type": "markdown",
   "metadata": {},
   "source": [
    "#### Difference with Dictionary"
   ]
  },
  {
   "cell_type": "code",
   "execution_count": 12,
   "metadata": {},
   "outputs": [
    {
     "data": {
      "text/plain": [
       "Wheels     500\n",
       "Wheels     200\n",
       "Wheels     100\n",
       "Wheels    2000\n",
       "Wheels    5000\n",
       "dtype: int64"
      ]
     },
     "execution_count": 12,
     "metadata": {},
     "output_type": "execute_result"
    }
   ],
   "source": [
    "labels_copy = ['Wheels'] * 5  # recall: the '*'-operator repeats list items\n",
    "obj3 = Series(unit_prices, index=labels_copy)\n",
    "obj3['Wheels']  # Returns a Series; not just one value like for dictionaries!"
   ]
  },
  {
   "cell_type": "markdown",
   "metadata": {},
   "source": [
    "#### Filtering a Series"
   ]
  },
  {
   "cell_type": "code",
   "execution_count": 13,
   "metadata": {},
   "outputs": [
    {
     "data": {
      "text/plain": [
       "Doors      200\n",
       "Windows    100\n",
       "dtype: int64"
      ]
     },
     "execution_count": 13,
     "metadata": {},
     "output_type": "execute_result"
    }
   ],
   "source": [
    "mask = (unit_price_series < 400) #Mask returns boolean results\n",
    "unit_price_series[mask]"
   ]
  },
  {
   "cell_type": "code",
   "execution_count": 14,
   "metadata": {},
   "outputs": [
    {
     "data": {
      "text/plain": [
       "Body       1\n",
       "Doors      4\n",
       "Engine     1\n",
       "Wheels     4\n",
       "Windows    4\n",
       "dtype: int64"
      ]
     },
     "execution_count": 14,
     "metadata": {},
     "output_type": "execute_result"
    }
   ],
   "source": [
    "num_units_series = Series({'Wheels':4, 'Doors':4, 'Windows':4, 'Engine':1, 'Body':1})\n",
    "num_units_series"
   ]
  },
  {
   "cell_type": "code",
   "execution_count": 15,
   "metadata": {},
   "outputs": [
    {
     "data": {
      "text/plain": [
       "Engine    2000\n",
       "Body      5000\n",
       "dtype: int64"
      ]
     },
     "execution_count": 15,
     "metadata": {},
     "output_type": "execute_result"
    }
   ],
   "source": [
    "mask = (num_units_series == 1) \n",
    "unit_price_series[mask]"
   ]
  },
  {
   "cell_type": "markdown",
   "metadata": {},
   "source": [
    "#### Operation on Series"
   ]
  },
  {
   "cell_type": "code",
   "execution_count": 16,
   "metadata": {},
   "outputs": [
    {
     "name": "stdout",
     "output_type": "stream",
     "text": [
      "Mean = 1560.0\n",
      "Variance = 4283000.0\n",
      "Max = 5000  for car part = Body\n"
     ]
    }
   ],
   "source": [
    "import math\n",
    "unit_price_series * 1.03\n",
    "unit_price_series.map(math.sqrt) #map for series\n",
    "print 'Mean =', unit_price_series.mean()  # Average unit price\n",
    "print 'Variance =', unit_price_series.var() # Variance of unit prices\n",
    "print 'Max =', unit_price_series.max(), ' for car part =', unit_price_series.idxmax()"
   ]
  },
  {
   "cell_type": "markdown",
   "metadata": {},
   "source": [
    "#### Missing Values"
   ]
  },
  {
   "cell_type": "code",
   "execution_count": 17,
   "metadata": {},
   "outputs": [
    {
     "data": {
      "text/plain": [
       "Transmission   NaN\n",
       "dtype: float64"
      ]
     },
     "execution_count": 17,
     "metadata": {},
     "output_type": "execute_result"
    }
   ],
   "source": [
    "missing_series = unit_price_series[['Engine', 'Transmission', 'Body']]\n",
    "mask = missing_series.isnull()\n",
    "missing_series[mask]"
   ]
  },
  {
   "cell_type": "code",
   "execution_count": 18,
   "metadata": {},
   "outputs": [
    {
     "data": {
      "text/plain": [
       "Engine    2000.0\n",
       "Body      5000.0\n",
       "dtype: float64"
      ]
     },
     "execution_count": 18,
     "metadata": {},
     "output_type": "execute_result"
    }
   ],
   "source": [
    "missing_series.dropna()"
   ]
  },
  {
   "cell_type": "code",
   "execution_count": 19,
   "metadata": {},
   "outputs": [
    {
     "data": {
      "text/plain": [
       "Engine          2000.0\n",
       "Transmission    3500.0\n",
       "Body            5000.0\n",
       "dtype: float64"
      ]
     },
     "execution_count": 19,
     "metadata": {},
     "output_type": "execute_result"
    }
   ],
   "source": [
    "missing_series.fillna(missing_series.mean())"
   ]
  },
  {
   "cell_type": "markdown",
   "metadata": {},
   "source": [
    "## Dataframe"
   ]
  },
  {
   "cell_type": "code",
   "execution_count": 162,
   "metadata": {},
   "outputs": [
    {
     "data": {
      "text/html": [
       "<div>\n",
       "<style>\n",
       "    .dataframe thead tr:only-child th {\n",
       "        text-align: right;\n",
       "    }\n",
       "\n",
       "    .dataframe thead th {\n",
       "        text-align: left;\n",
       "    }\n",
       "\n",
       "    .dataframe tbody tr th {\n",
       "        vertical-align: top;\n",
       "    }\n",
       "</style>\n",
       "<table border=\"1\" class=\"dataframe\">\n",
       "  <thead>\n",
       "    <tr style=\"text-align: right;\">\n",
       "      <th></th>\n",
       "      <th>number of units</th>\n",
       "      <th>unit price</th>\n",
       "    </tr>\n",
       "  </thead>\n",
       "  <tbody>\n",
       "    <tr>\n",
       "      <th>Wheels</th>\n",
       "      <td>4</td>\n",
       "      <td>500</td>\n",
       "    </tr>\n",
       "    <tr>\n",
       "      <th>Doors</th>\n",
       "      <td>4</td>\n",
       "      <td>200</td>\n",
       "    </tr>\n",
       "    <tr>\n",
       "      <th>Windows</th>\n",
       "      <td>4</td>\n",
       "      <td>100</td>\n",
       "    </tr>\n",
       "    <tr>\n",
       "      <th>Engine</th>\n",
       "      <td>1</td>\n",
       "      <td>2000</td>\n",
       "    </tr>\n",
       "    <tr>\n",
       "      <th>Body</th>\n",
       "      <td>1</td>\n",
       "      <td>5000</td>\n",
       "    </tr>\n",
       "  </tbody>\n",
       "</table>\n",
       "</div>"
      ],
      "text/plain": [
       "         number of units  unit price\n",
       "Wheels                 4         500\n",
       "Doors                  4         200\n",
       "Windows                4         100\n",
       "Engine                 1        2000\n",
       "Body                   1        5000"
      ]
     },
     "execution_count": 162,
     "metadata": {},
     "output_type": "execute_result"
    }
   ],
   "source": [
    "data = {'unit price': [500, 200, 100, 2000, 5000], 'number of units':[4, 4, 4, 1, 1]}\n",
    "car_table = DataFrame(data, index=part_names)\n",
    "car_table"
   ]
  },
  {
   "cell_type": "markdown",
   "metadata": {},
   "source": [
    "#### Accessing elements"
   ]
  },
  {
   "cell_type": "code",
   "execution_count": 21,
   "metadata": {},
   "outputs": [
    {
     "data": {
      "text/html": [
       "<div>\n",
       "<style>\n",
       "    .dataframe thead tr:only-child th {\n",
       "        text-align: right;\n",
       "    }\n",
       "\n",
       "    .dataframe thead th {\n",
       "        text-align: left;\n",
       "    }\n",
       "\n",
       "    .dataframe tbody tr th {\n",
       "        vertical-align: top;\n",
       "    }\n",
       "</style>\n",
       "<table border=\"1\" class=\"dataframe\">\n",
       "  <thead>\n",
       "    <tr style=\"text-align: right;\">\n",
       "      <th></th>\n",
       "      <th>number of units</th>\n",
       "      <th>unit price</th>\n",
       "      <th>Total unit price</th>\n",
       "    </tr>\n",
       "  </thead>\n",
       "  <tbody>\n",
       "    <tr>\n",
       "      <th>Wheels</th>\n",
       "      <td>4</td>\n",
       "      <td>500</td>\n",
       "      <td>2000</td>\n",
       "    </tr>\n",
       "    <tr>\n",
       "      <th>Doors</th>\n",
       "      <td>4</td>\n",
       "      <td>200</td>\n",
       "      <td>800</td>\n",
       "    </tr>\n",
       "    <tr>\n",
       "      <th>Windows</th>\n",
       "      <td>4</td>\n",
       "      <td>100</td>\n",
       "      <td>400</td>\n",
       "    </tr>\n",
       "    <tr>\n",
       "      <th>Engine</th>\n",
       "      <td>1</td>\n",
       "      <td>2000</td>\n",
       "      <td>2000</td>\n",
       "    </tr>\n",
       "    <tr>\n",
       "      <th>Body</th>\n",
       "      <td>1</td>\n",
       "      <td>5000</td>\n",
       "      <td>5000</td>\n",
       "    </tr>\n",
       "  </tbody>\n",
       "</table>\n",
       "</div>"
      ],
      "text/plain": [
       "         number of units  unit price  Total unit price\n",
       "Wheels                 4         500              2000\n",
       "Doors                  4         200               800\n",
       "Windows                4         100               400\n",
       "Engine                 1        2000              2000\n",
       "Body                   1        5000              5000"
      ]
     },
     "execution_count": 21,
     "metadata": {},
     "output_type": "execute_result"
    }
   ],
   "source": [
    "car_table['Total unit price'] = car_table['number of units'] * car_table['unit price']\n",
    "car_table"
   ]
  },
  {
   "cell_type": "code",
   "execution_count": 22,
   "metadata": {},
   "outputs": [
    {
     "data": {
      "text/html": [
       "<div>\n",
       "<style>\n",
       "    .dataframe thead tr:only-child th {\n",
       "        text-align: right;\n",
       "    }\n",
       "\n",
       "    .dataframe thead th {\n",
       "        text-align: left;\n",
       "    }\n",
       "\n",
       "    .dataframe tbody tr th {\n",
       "        vertical-align: top;\n",
       "    }\n",
       "</style>\n",
       "<table border=\"1\" class=\"dataframe\">\n",
       "  <thead>\n",
       "    <tr style=\"text-align: right;\">\n",
       "      <th></th>\n",
       "      <th>number of units</th>\n",
       "      <th>unit price</th>\n",
       "      <th>Total unit price</th>\n",
       "    </tr>\n",
       "  </thead>\n",
       "  <tbody>\n",
       "    <tr>\n",
       "      <th>Engine</th>\n",
       "      <td>1</td>\n",
       "      <td>2000</td>\n",
       "      <td>2000</td>\n",
       "    </tr>\n",
       "    <tr>\n",
       "      <th>Body</th>\n",
       "      <td>1</td>\n",
       "      <td>5000</td>\n",
       "      <td>5000</td>\n",
       "    </tr>\n",
       "  </tbody>\n",
       "</table>\n",
       "</div>"
      ],
      "text/plain": [
       "        number of units  unit price  Total unit price\n",
       "Engine                1        2000              2000\n",
       "Body                  1        5000              5000"
      ]
     },
     "execution_count": 22,
     "metadata": {},
     "output_type": "execute_result"
    }
   ],
   "source": [
    "#rows NOTE THAT COLUMN ONLY DOES NOT NEED loc\n",
    "car_table.loc[['Engine', 'Body']]"
   ]
  },
  {
   "cell_type": "code",
   "execution_count": 23,
   "metadata": {},
   "outputs": [
    {
     "data": {
      "text/html": [
       "<div>\n",
       "<style>\n",
       "    .dataframe thead tr:only-child th {\n",
       "        text-align: right;\n",
       "    }\n",
       "\n",
       "    .dataframe thead th {\n",
       "        text-align: left;\n",
       "    }\n",
       "\n",
       "    .dataframe tbody tr th {\n",
       "        vertical-align: top;\n",
       "    }\n",
       "</style>\n",
       "<table border=\"1\" class=\"dataframe\">\n",
       "  <thead>\n",
       "    <tr style=\"text-align: right;\">\n",
       "      <th></th>\n",
       "      <th>Total unit price</th>\n",
       "    </tr>\n",
       "  </thead>\n",
       "  <tbody>\n",
       "    <tr>\n",
       "      <th>Wheels</th>\n",
       "      <td>2000</td>\n",
       "    </tr>\n",
       "    <tr>\n",
       "      <th>Doors</th>\n",
       "      <td>800</td>\n",
       "    </tr>\n",
       "  </tbody>\n",
       "</table>\n",
       "</div>"
      ],
      "text/plain": [
       "        Total unit price\n",
       "Wheels              2000\n",
       "Doors                800"
      ]
     },
     "execution_count": 23,
     "metadata": {},
     "output_type": "execute_result"
    }
   ],
   "source": [
    "#rows & columns\n",
    "car_table.loc[['Wheels', 'Doors'], ['Total unit price']]"
   ]
  },
  {
   "cell_type": "code",
   "execution_count": 24,
   "metadata": {
    "scrolled": true
   },
   "outputs": [
    {
     "data": {
      "text/html": [
       "<div>\n",
       "<style>\n",
       "    .dataframe thead tr:only-child th {\n",
       "        text-align: right;\n",
       "    }\n",
       "\n",
       "    .dataframe thead th {\n",
       "        text-align: left;\n",
       "    }\n",
       "\n",
       "    .dataframe tbody tr th {\n",
       "        vertical-align: top;\n",
       "    }\n",
       "</style>\n",
       "<table border=\"1\" class=\"dataframe\">\n",
       "  <thead>\n",
       "    <tr style=\"text-align: right;\">\n",
       "      <th></th>\n",
       "      <th>number of units</th>\n",
       "      <th>unit price</th>\n",
       "    </tr>\n",
       "  </thead>\n",
       "  <tbody>\n",
       "    <tr>\n",
       "      <th>Wheels</th>\n",
       "      <td>4</td>\n",
       "      <td>500</td>\n",
       "    </tr>\n",
       "    <tr>\n",
       "      <th>Doors</th>\n",
       "      <td>4</td>\n",
       "      <td>200</td>\n",
       "    </tr>\n",
       "  </tbody>\n",
       "</table>\n",
       "</div>"
      ],
      "text/plain": [
       "        number of units  unit price\n",
       "Wheels                4         500\n",
       "Doors                 4         200"
      ]
     },
     "execution_count": 24,
     "metadata": {},
     "output_type": "execute_result"
    }
   ],
   "source": [
    "car_table.iloc[:2, :2]"
   ]
  },
  {
   "cell_type": "markdown",
   "metadata": {},
   "source": [
    "#### Filtering"
   ]
  },
  {
   "cell_type": "code",
   "execution_count": 25,
   "metadata": {},
   "outputs": [
    {
     "data": {
      "text/html": [
       "<div>\n",
       "<style>\n",
       "    .dataframe thead tr:only-child th {\n",
       "        text-align: right;\n",
       "    }\n",
       "\n",
       "    .dataframe thead th {\n",
       "        text-align: left;\n",
       "    }\n",
       "\n",
       "    .dataframe tbody tr th {\n",
       "        vertical-align: top;\n",
       "    }\n",
       "</style>\n",
       "<table border=\"1\" class=\"dataframe\">\n",
       "  <thead>\n",
       "    <tr style=\"text-align: right;\">\n",
       "      <th></th>\n",
       "      <th>number of units</th>\n",
       "      <th>unit price</th>\n",
       "      <th>Total unit price</th>\n",
       "      <th>car-2 unit price</th>\n",
       "      <th>car-2 Total unit price</th>\n",
       "    </tr>\n",
       "  </thead>\n",
       "  <tbody>\n",
       "    <tr>\n",
       "      <th>Wheels</th>\n",
       "      <td>4</td>\n",
       "      <td>500</td>\n",
       "      <td>2000</td>\n",
       "      <td>300</td>\n",
       "      <td>1200</td>\n",
       "    </tr>\n",
       "    <tr>\n",
       "      <th>Doors</th>\n",
       "      <td>4</td>\n",
       "      <td>200</td>\n",
       "      <td>800</td>\n",
       "      <td>400</td>\n",
       "      <td>1600</td>\n",
       "    </tr>\n",
       "    <tr>\n",
       "      <th>Windows</th>\n",
       "      <td>4</td>\n",
       "      <td>100</td>\n",
       "      <td>400</td>\n",
       "      <td>500</td>\n",
       "      <td>2000</td>\n",
       "    </tr>\n",
       "    <tr>\n",
       "      <th>Engine</th>\n",
       "      <td>1</td>\n",
       "      <td>2000</td>\n",
       "      <td>2000</td>\n",
       "      <td>3000</td>\n",
       "      <td>3000</td>\n",
       "    </tr>\n",
       "    <tr>\n",
       "      <th>Body</th>\n",
       "      <td>1</td>\n",
       "      <td>5000</td>\n",
       "      <td>5000</td>\n",
       "      <td>4000</td>\n",
       "      <td>4000</td>\n",
       "    </tr>\n",
       "  </tbody>\n",
       "</table>\n",
       "</div>"
      ],
      "text/plain": [
       "         number of units  unit price  Total unit price  car-2 unit price  \\\n",
       "Wheels                 4         500              2000               300   \n",
       "Doors                  4         200               800               400   \n",
       "Windows                4         100               400               500   \n",
       "Engine                 1        2000              2000              3000   \n",
       "Body                   1        5000              5000              4000   \n",
       "\n",
       "         car-2 Total unit price  \n",
       "Wheels                     1200  \n",
       "Doors                      1600  \n",
       "Windows                    2000  \n",
       "Engine                     3000  \n",
       "Body                       4000  "
      ]
     },
     "execution_count": 25,
     "metadata": {},
     "output_type": "execute_result"
    }
   ],
   "source": [
    "car_table['car-2 unit price'] = [300, 400, 500, 3000, 4000]\n",
    "car_table['car-2 Total unit price'] = car_table['car-2 unit price'] * car_table['number of units']\n",
    "car_table"
   ]
  },
  {
   "cell_type": "code",
   "execution_count": 26,
   "metadata": {
    "scrolled": true
   },
   "outputs": [
    {
     "data": {
      "text/html": [
       "<div>\n",
       "<style>\n",
       "    .dataframe thead tr:only-child th {\n",
       "        text-align: right;\n",
       "    }\n",
       "\n",
       "    .dataframe thead th {\n",
       "        text-align: left;\n",
       "    }\n",
       "\n",
       "    .dataframe tbody tr th {\n",
       "        vertical-align: top;\n",
       "    }\n",
       "</style>\n",
       "<table border=\"1\" class=\"dataframe\">\n",
       "  <thead>\n",
       "    <tr style=\"text-align: right;\">\n",
       "      <th></th>\n",
       "      <th>number of units</th>\n",
       "      <th>unit price</th>\n",
       "      <th>Total unit price</th>\n",
       "      <th>car-2 unit price</th>\n",
       "      <th>car-2 Total unit price</th>\n",
       "    </tr>\n",
       "  </thead>\n",
       "  <tbody>\n",
       "    <tr>\n",
       "      <th>Doors</th>\n",
       "      <td>4</td>\n",
       "      <td>200</td>\n",
       "      <td>800</td>\n",
       "      <td>400</td>\n",
       "      <td>1600</td>\n",
       "    </tr>\n",
       "    <tr>\n",
       "      <th>Windows</th>\n",
       "      <td>4</td>\n",
       "      <td>100</td>\n",
       "      <td>400</td>\n",
       "      <td>500</td>\n",
       "      <td>2000</td>\n",
       "    </tr>\n",
       "    <tr>\n",
       "      <th>Engine</th>\n",
       "      <td>1</td>\n",
       "      <td>2000</td>\n",
       "      <td>2000</td>\n",
       "      <td>3000</td>\n",
       "      <td>3000</td>\n",
       "    </tr>\n",
       "  </tbody>\n",
       "</table>\n",
       "</div>"
      ],
      "text/plain": [
       "         number of units  unit price  Total unit price  car-2 unit price  \\\n",
       "Doors                  4         200               800               400   \n",
       "Windows                4         100               400               500   \n",
       "Engine                 1        2000              2000              3000   \n",
       "\n",
       "         car-2 Total unit price  \n",
       "Doors                      1600  \n",
       "Windows                    2000  \n",
       "Engine                     3000  "
      ]
     },
     "execution_count": 26,
     "metadata": {},
     "output_type": "execute_result"
    }
   ],
   "source": [
    "mask = (car_table['car-2 unit price'] > car_table['unit price'])\n",
    "car_table[mask]"
   ]
  },
  {
   "cell_type": "markdown",
   "metadata": {},
   "source": [
    "#### Transpose"
   ]
  },
  {
   "cell_type": "code",
   "execution_count": 27,
   "metadata": {},
   "outputs": [
    {
     "data": {
      "text/html": [
       "<div>\n",
       "<style>\n",
       "    .dataframe thead tr:only-child th {\n",
       "        text-align: right;\n",
       "    }\n",
       "\n",
       "    .dataframe thead th {\n",
       "        text-align: left;\n",
       "    }\n",
       "\n",
       "    .dataframe tbody tr th {\n",
       "        vertical-align: top;\n",
       "    }\n",
       "</style>\n",
       "<table border=\"1\" class=\"dataframe\">\n",
       "  <thead>\n",
       "    <tr style=\"text-align: right;\">\n",
       "      <th></th>\n",
       "      <th>Wheels</th>\n",
       "      <th>Doors</th>\n",
       "      <th>Windows</th>\n",
       "      <th>Engine</th>\n",
       "      <th>Body</th>\n",
       "    </tr>\n",
       "  </thead>\n",
       "  <tbody>\n",
       "    <tr>\n",
       "      <th>number of units</th>\n",
       "      <td>4</td>\n",
       "      <td>4</td>\n",
       "      <td>4</td>\n",
       "      <td>1</td>\n",
       "      <td>1</td>\n",
       "    </tr>\n",
       "    <tr>\n",
       "      <th>unit price</th>\n",
       "      <td>500</td>\n",
       "      <td>200</td>\n",
       "      <td>100</td>\n",
       "      <td>2000</td>\n",
       "      <td>5000</td>\n",
       "    </tr>\n",
       "    <tr>\n",
       "      <th>Total unit price</th>\n",
       "      <td>2000</td>\n",
       "      <td>800</td>\n",
       "      <td>400</td>\n",
       "      <td>2000</td>\n",
       "      <td>5000</td>\n",
       "    </tr>\n",
       "    <tr>\n",
       "      <th>car-2 unit price</th>\n",
       "      <td>300</td>\n",
       "      <td>400</td>\n",
       "      <td>500</td>\n",
       "      <td>3000</td>\n",
       "      <td>4000</td>\n",
       "    </tr>\n",
       "    <tr>\n",
       "      <th>car-2 Total unit price</th>\n",
       "      <td>1200</td>\n",
       "      <td>1600</td>\n",
       "      <td>2000</td>\n",
       "      <td>3000</td>\n",
       "      <td>4000</td>\n",
       "    </tr>\n",
       "  </tbody>\n",
       "</table>\n",
       "</div>"
      ],
      "text/plain": [
       "                        Wheels  Doors  Windows  Engine  Body\n",
       "number of units              4      4        4       1     1\n",
       "unit price                 500    200      100    2000  5000\n",
       "Total unit price          2000    800      400    2000  5000\n",
       "car-2 unit price           300    400      500    3000  4000\n",
       "car-2 Total unit price    1200   1600     2000    3000  4000"
      ]
     },
     "execution_count": 27,
     "metadata": {},
     "output_type": "execute_result"
    }
   ],
   "source": [
    "car_table.T"
   ]
  },
  {
   "cell_type": "markdown",
   "metadata": {},
   "source": [
    "#### Reading from CSV files"
   ]
  },
  {
   "cell_type": "code",
   "execution_count": 28,
   "metadata": {},
   "outputs": [
    {
     "data": {
      "text/html": [
       "<div>\n",
       "<style>\n",
       "    .dataframe thead tr:only-child th {\n",
       "        text-align: right;\n",
       "    }\n",
       "\n",
       "    .dataframe thead th {\n",
       "        text-align: left;\n",
       "    }\n",
       "\n",
       "    .dataframe tbody tr th {\n",
       "        vertical-align: top;\n",
       "    }\n",
       "</style>\n",
       "<table border=\"1\" class=\"dataframe\">\n",
       "  <thead>\n",
       "    <tr style=\"text-align: right;\">\n",
       "      <th></th>\n",
       "      <th>Part name</th>\n",
       "      <th>Number of units</th>\n",
       "      <th>Price per unit</th>\n",
       "      <th>Total price</th>\n",
       "    </tr>\n",
       "  </thead>\n",
       "  <tbody>\n",
       "    <tr>\n",
       "      <th>0</th>\n",
       "      <td>Wheels</td>\n",
       "      <td>4</td>\n",
       "      <td>500</td>\n",
       "      <td>2000</td>\n",
       "    </tr>\n",
       "    <tr>\n",
       "      <th>1</th>\n",
       "      <td>Doors</td>\n",
       "      <td>4</td>\n",
       "      <td>200</td>\n",
       "      <td>800</td>\n",
       "    </tr>\n",
       "    <tr>\n",
       "      <th>2</th>\n",
       "      <td>Windows</td>\n",
       "      <td>4</td>\n",
       "      <td>100</td>\n",
       "      <td>400</td>\n",
       "    </tr>\n",
       "    <tr>\n",
       "      <th>3</th>\n",
       "      <td>Engine</td>\n",
       "      <td>1</td>\n",
       "      <td>2000</td>\n",
       "      <td>2000</td>\n",
       "    </tr>\n",
       "    <tr>\n",
       "      <th>4</th>\n",
       "      <td>Body</td>\n",
       "      <td>1</td>\n",
       "      <td>5000</td>\n",
       "      <td>5000</td>\n",
       "    </tr>\n",
       "  </tbody>\n",
       "</table>\n",
       "</div>"
      ],
      "text/plain": [
       "  Part name  Number of units  Price per unit  Total price\n",
       "0    Wheels                4             500         2000\n",
       "1     Doors                4             200          800\n",
       "2   Windows                4             100          400\n",
       "3    Engine                1            2000         2000\n",
       "4      Body                1            5000         5000"
      ]
     },
     "execution_count": 28,
     "metadata": {},
     "output_type": "execute_result"
    }
   ],
   "source": [
    "df = pd.read_csv('/Users/meganchen/Desktop/MIS_381/dataset/CarParts.csv')\n",
    "df"
   ]
  },
  {
   "cell_type": "code",
   "execution_count": 29,
   "metadata": {},
   "outputs": [
    {
     "name": "stdout",
     "output_type": "stream",
     "text": [
      "['Wheels' 'Doors' 'Windows' 'Engine' 'Body']\n"
     ]
    }
   ],
   "source": [
    "df.set_index('Part name', inplace=True)\n",
    "print df.index.values #important"
   ]
  },
  {
   "cell_type": "markdown",
   "metadata": {},
   "source": [
    "#### Operations on a DataFrame"
   ]
  },
  {
   "cell_type": "code",
   "execution_count": 30,
   "metadata": {},
   "outputs": [
    {
     "data": {
      "text/plain": [
       "Number of units       3\n",
       "Price per unit     4900\n",
       "Total price        4600\n",
       "dtype: int64"
      ]
     },
     "execution_count": 30,
     "metadata": {},
     "output_type": "execute_result"
    }
   ],
   "source": [
    "def get_column_range(x):\n",
    "    return x.max() - x.min()\n",
    "\n",
    "# \"Apply\" to each column of the DataFrame\n",
    "df.apply(get_column_range)"
   ]
  },
  {
   "cell_type": "code",
   "execution_count": 31,
   "metadata": {},
   "outputs": [
    {
     "data": {
      "text/html": [
       "<div>\n",
       "<style>\n",
       "    .dataframe thead tr:only-child th {\n",
       "        text-align: right;\n",
       "    }\n",
       "\n",
       "    .dataframe thead th {\n",
       "        text-align: left;\n",
       "    }\n",
       "\n",
       "    .dataframe tbody tr th {\n",
       "        vertical-align: top;\n",
       "    }\n",
       "</style>\n",
       "<table border=\"1\" class=\"dataframe\">\n",
       "  <thead>\n",
       "    <tr style=\"text-align: right;\">\n",
       "      <th></th>\n",
       "      <th>Number of units</th>\n",
       "      <th>Price per unit</th>\n",
       "      <th>Total price</th>\n",
       "    </tr>\n",
       "    <tr>\n",
       "      <th>Part name</th>\n",
       "      <th></th>\n",
       "      <th></th>\n",
       "      <th></th>\n",
       "    </tr>\n",
       "  </thead>\n",
       "  <tbody>\n",
       "    <tr>\n",
       "      <th>Body</th>\n",
       "      <td>1</td>\n",
       "      <td>5000</td>\n",
       "      <td>5000</td>\n",
       "    </tr>\n",
       "    <tr>\n",
       "      <th>Doors</th>\n",
       "      <td>4</td>\n",
       "      <td>200</td>\n",
       "      <td>800</td>\n",
       "    </tr>\n",
       "    <tr>\n",
       "      <th>Engine</th>\n",
       "      <td>1</td>\n",
       "      <td>2000</td>\n",
       "      <td>2000</td>\n",
       "    </tr>\n",
       "    <tr>\n",
       "      <th>Wheels</th>\n",
       "      <td>4</td>\n",
       "      <td>500</td>\n",
       "      <td>2000</td>\n",
       "    </tr>\n",
       "    <tr>\n",
       "      <th>Windows</th>\n",
       "      <td>4</td>\n",
       "      <td>100</td>\n",
       "      <td>400</td>\n",
       "    </tr>\n",
       "  </tbody>\n",
       "</table>\n",
       "</div>"
      ],
      "text/plain": [
       "           Number of units  Price per unit  Total price\n",
       "Part name                                              \n",
       "Body                     1            5000         5000\n",
       "Doors                    4             200          800\n",
       "Engine                   1            2000         2000\n",
       "Wheels                   4             500         2000\n",
       "Windows                  4             100          400"
      ]
     },
     "execution_count": 31,
     "metadata": {},
     "output_type": "execute_result"
    }
   ],
   "source": [
    "df.sort_index()"
   ]
  },
  {
   "cell_type": "code",
   "execution_count": 32,
   "metadata": {},
   "outputs": [
    {
     "data": {
      "text/html": [
       "<div>\n",
       "<style>\n",
       "    .dataframe thead tr:only-child th {\n",
       "        text-align: right;\n",
       "    }\n",
       "\n",
       "    .dataframe thead th {\n",
       "        text-align: left;\n",
       "    }\n",
       "\n",
       "    .dataframe tbody tr th {\n",
       "        vertical-align: top;\n",
       "    }\n",
       "</style>\n",
       "<table border=\"1\" class=\"dataframe\">\n",
       "  <thead>\n",
       "    <tr style=\"text-align: right;\">\n",
       "      <th></th>\n",
       "      <th>Number of units</th>\n",
       "      <th>Price per unit</th>\n",
       "      <th>Total price</th>\n",
       "    </tr>\n",
       "    <tr>\n",
       "      <th>Part name</th>\n",
       "      <th></th>\n",
       "      <th></th>\n",
       "      <th></th>\n",
       "    </tr>\n",
       "  </thead>\n",
       "  <tbody>\n",
       "    <tr>\n",
       "      <th>Windows</th>\n",
       "      <td>4</td>\n",
       "      <td>100</td>\n",
       "      <td>400</td>\n",
       "    </tr>\n",
       "    <tr>\n",
       "      <th>Doors</th>\n",
       "      <td>4</td>\n",
       "      <td>200</td>\n",
       "      <td>800</td>\n",
       "    </tr>\n",
       "    <tr>\n",
       "      <th>Wheels</th>\n",
       "      <td>4</td>\n",
       "      <td>500</td>\n",
       "      <td>2000</td>\n",
       "    </tr>\n",
       "    <tr>\n",
       "      <th>Engine</th>\n",
       "      <td>1</td>\n",
       "      <td>2000</td>\n",
       "      <td>2000</td>\n",
       "    </tr>\n",
       "    <tr>\n",
       "      <th>Body</th>\n",
       "      <td>1</td>\n",
       "      <td>5000</td>\n",
       "      <td>5000</td>\n",
       "    </tr>\n",
       "  </tbody>\n",
       "</table>\n",
       "</div>"
      ],
      "text/plain": [
       "           Number of units  Price per unit  Total price\n",
       "Part name                                              \n",
       "Windows                  4             100          400\n",
       "Doors                    4             200          800\n",
       "Wheels                   4             500         2000\n",
       "Engine                   1            2000         2000\n",
       "Body                     1            5000         5000"
      ]
     },
     "execution_count": 32,
     "metadata": {},
     "output_type": "execute_result"
    }
   ],
   "source": [
    "df.sort_values(by='Price per unit')"
   ]
  },
  {
   "cell_type": "markdown",
   "metadata": {},
   "source": [
    "## Example"
   ]
  },
  {
   "cell_type": "code",
   "execution_count": 33,
   "metadata": {
    "collapsed": true
   },
   "outputs": [],
   "source": [
    "orig_data = pd.read_csv('/Users/meganchen/Desktop/MIS_381/dataset/311_calls_2months.csv',\n",
    "                        nrows=100000,\n",
    "                        dtype=unicode,\n",
    "                        parse_dates=['Created Date'])"
   ]
  },
  {
   "cell_type": "code",
   "execution_count": 34,
   "metadata": {},
   "outputs": [
    {
     "data": {
      "text/plain": [
       "HEAT/HOT WATER            20286\n",
       "Blocked Driveway           5760\n",
       "Street Light Condition     5288\n",
       "Street Condition           4495\n",
       "Illegal Parking            4045\n",
       "UNSANITARY CONDITION       3855\n",
       "PAINT/PLASTER              3384\n",
       "PLUMBING                   2846\n",
       "Noise - Commercial         2542\n",
       "Opinion for the Mayor      2373\n",
       "Name: Complaint Type, dtype: int64"
      ]
     },
     "execution_count": 34,
     "metadata": {},
     "output_type": "execute_result"
    }
   ],
   "source": [
    "vc = orig_data['Complaint Type'].value_counts()\n",
    "vc[:10]"
   ]
  },
  {
   "cell_type": "code",
   "execution_count": 35,
   "metadata": {},
   "outputs": [
    {
     "data": {
      "text/plain": [
       "Standpipe - Mechanical               1\n",
       "Window Guard                         1\n",
       "Transportation Provider Complaint    1\n",
       "Illegal Fireworks                    1\n",
       "DHS Income Savings Requirement       1\n",
       "Rangehood                            1\n",
       "Ferry Permit                         1\n",
       "Squeegee                             1\n",
       "Tanning                              1\n",
       "Invitation                           1\n",
       "Name: Complaint Type, dtype: int64"
      ]
     },
     "execution_count": 35,
     "metadata": {},
     "output_type": "execute_result"
    }
   ],
   "source": [
    "vc[-10:]"
   ]
  },
  {
   "cell_type": "code",
   "execution_count": 36,
   "metadata": {},
   "outputs": [
    {
     "data": {
      "text/plain": [
       "<matplotlib.axes._subplots.AxesSubplot at 0x118631290>"
      ]
     },
     "execution_count": 36,
     "metadata": {},
     "output_type": "execute_result"
    },
    {
     "data": {
      "image/png": "[encoded data removed]",
      "text/plain": [
       "<matplotlib.figure.Figure at 0x11136ed90>"
      ]
     },
     "metadata": {},
     "output_type": "display_data"
    }
   ],
   "source": [
    "top_20_vc = vc[:20]\n",
    "top_20_vc.plot(kind='bar')"
   ]
  },
  {
   "cell_type": "code",
   "execution_count": 37,
   "metadata": {},
   "outputs": [
    {
     "data": {
      "text/plain": [
       "<matplotlib.axes._subplots.AxesSubplot at 0x111677c90>"
      ]
     },
     "execution_count": 37,
     "metadata": {},
     "output_type": "execute_result"
    },
    {
     "data": {
      "image/png": "[encoded data removed]",
      "text/plain": [
       "<matplotlib.figure.Figure at 0x1155b0e50>"
      ]
     },
     "metadata": {},
     "output_type": "display_data"
    }
   ],
   "source": [
    "top_20_vc_fraction = top_20_vc / vc.sum()\n",
    "top_20_vc_fraction.plot(kind='bar')"
   ]
  },
  {
   "cell_type": "code",
   "execution_count": 38,
   "metadata": {},
   "outputs": [
    {
     "data": {
      "text/plain": [
       "<matplotlib.axes._subplots.AxesSubplot at 0x11163afd0>"
      ]
     },
     "execution_count": 38,
     "metadata": {},
     "output_type": "execute_result"
    },
    {
     "data": {
      "image/png": "[encoded data removed]",
      "text/plain": [
       "<matplotlib.figure.Figure at 0x111450450>"
      ]
     },
     "metadata": {},
     "output_type": "display_data"
    }
   ],
   "source": [
    "orig_data['Borough'].value_counts().plot(kind='bar')"
   ]
  },
  {
   "cell_type": "code",
   "execution_count": 39,
   "metadata": {},
   "outputs": [
    {
     "data": {
      "text/plain": [
       "<matplotlib.axes._subplots.AxesSubplot at 0x111937cd0>"
      ]
     },
     "execution_count": 39,
     "metadata": {},
     "output_type": "execute_result"
    },
    {
     "data": {
      "image/png": "[encoded data removed]",
      "text/plain": [
       "<matplotlib.figure.Figure at 0x111433090>"
      ]
     },
     "metadata": {},
     "output_type": "display_data"
    }
   ],
   "source": [
    "mask = (orig_data['Borough'] == 'Unspecified')\n",
    "orig_data.loc[mask, 'Borough'] = np.nan # This sets the value to NaN\n",
    "\n",
    "# Let's redo the bar plot\n",
    "orig_data['Borough'].value_counts().plot(kind='bar')"
   ]
  },
  {
   "cell_type": "code",
   "execution_count": 40,
   "metadata": {
    "scrolled": true
   },
   "outputs": [
    {
     "data": {
      "text/html": [
       "<div>\n",
       "<style>\n",
       "    .dataframe thead tr:only-child th {\n",
       "        text-align: right;\n",
       "    }\n",
       "\n",
       "    .dataframe thead th {\n",
       "        text-align: left;\n",
       "    }\n",
       "\n",
       "    .dataframe tbody tr th {\n",
       "        vertical-align: top;\n",
       "    }\n",
       "</style>\n",
       "<table border=\"1\" class=\"dataframe\">\n",
       "  <thead>\n",
       "    <tr style=\"text-align: right;\">\n",
       "      <th></th>\n",
       "      <th>Borough</th>\n",
       "      <th>Incident Zip</th>\n",
       "    </tr>\n",
       "  </thead>\n",
       "  <tbody>\n",
       "    <tr>\n",
       "      <th>0</th>\n",
       "      <td>NaN</td>\n",
       "      <td>NaN</td>\n",
       "    </tr>\n",
       "    <tr>\n",
       "      <th>1</th>\n",
       "      <td>QUEENS</td>\n",
       "      <td>11372</td>\n",
       "    </tr>\n",
       "    <tr>\n",
       "      <th>2</th>\n",
       "      <td>QUEENS</td>\n",
       "      <td>11416</td>\n",
       "    </tr>\n",
       "    <tr>\n",
       "      <th>3</th>\n",
       "      <td>BROOKLYN</td>\n",
       "      <td>11233</td>\n",
       "    </tr>\n",
       "    <tr>\n",
       "      <th>4</th>\n",
       "      <td>MANHATTAN</td>\n",
       "      <td>10022</td>\n",
       "    </tr>\n",
       "  </tbody>\n",
       "</table>\n",
       "</div>"
      ],
      "text/plain": [
       "     Borough Incident Zip\n",
       "0        NaN          NaN\n",
       "1     QUEENS        11372\n",
       "2     QUEENS        11416\n",
       "3   BROOKLYN        11233\n",
       "4  MANHATTAN        10022"
      ]
     },
     "execution_count": 40,
     "metadata": {},
     "output_type": "execute_result"
    }
   ],
   "source": [
    "borough_zip = orig_data[['Borough', 'Incident Zip']]\n",
    "borough_zip[:5]"
   ]
  },
  {
   "cell_type": "markdown",
   "metadata": {},
   "source": [
    "#### Drop NA"
   ]
  },
  {
   "cell_type": "code",
   "execution_count": 41,
   "metadata": {},
   "outputs": [
    {
     "data": {
      "text/html": [
       "<div>\n",
       "<style>\n",
       "    .dataframe thead tr:only-child th {\n",
       "        text-align: right;\n",
       "    }\n",
       "\n",
       "    .dataframe thead th {\n",
       "        text-align: left;\n",
       "    }\n",
       "\n",
       "    .dataframe tbody tr th {\n",
       "        vertical-align: top;\n",
       "    }\n",
       "</style>\n",
       "<table border=\"1\" class=\"dataframe\">\n",
       "  <thead>\n",
       "    <tr style=\"text-align: right;\">\n",
       "      <th></th>\n",
       "      <th>Borough</th>\n",
       "      <th>Incident Zip</th>\n",
       "    </tr>\n",
       "  </thead>\n",
       "  <tbody>\n",
       "    <tr>\n",
       "      <th>1</th>\n",
       "      <td>QUEENS</td>\n",
       "      <td>11372</td>\n",
       "    </tr>\n",
       "    <tr>\n",
       "      <th>2</th>\n",
       "      <td>QUEENS</td>\n",
       "      <td>11416</td>\n",
       "    </tr>\n",
       "    <tr>\n",
       "      <th>3</th>\n",
       "      <td>BROOKLYN</td>\n",
       "      <td>11233</td>\n",
       "    </tr>\n",
       "    <tr>\n",
       "      <th>4</th>\n",
       "      <td>MANHATTAN</td>\n",
       "      <td>10022</td>\n",
       "    </tr>\n",
       "    <tr>\n",
       "      <th>5</th>\n",
       "      <td>QUEENS</td>\n",
       "      <td>11368</td>\n",
       "    </tr>\n",
       "  </tbody>\n",
       "</table>\n",
       "</div>"
      ],
      "text/plain": [
       "     Borough Incident Zip\n",
       "1     QUEENS        11372\n",
       "2     QUEENS        11416\n",
       "3   BROOKLYN        11233\n",
       "4  MANHATTAN        10022\n",
       "5     QUEENS        11368"
      ]
     },
     "execution_count": 41,
     "metadata": {},
     "output_type": "execute_result"
    }
   ],
   "source": [
    "mask_borough = borough_zip['Borough'].notnull()\n",
    "mask_zip = borough_zip['Incident Zip'].notnull()\n",
    "mask = (mask_borough & mask_zip) \n",
    "borough_zip_clean = borough_zip[mask]\n",
    "borough_zip_clean[:5]"
   ]
  },
  {
   "cell_type": "code",
   "execution_count": 42,
   "metadata": {},
   "outputs": [
    {
     "data": {
      "text/html": [
       "<div>\n",
       "<style>\n",
       "    .dataframe thead tr:only-child th {\n",
       "        text-align: right;\n",
       "    }\n",
       "\n",
       "    .dataframe thead th {\n",
       "        text-align: left;\n",
       "    }\n",
       "\n",
       "    .dataframe tbody tr th {\n",
       "        vertical-align: top;\n",
       "    }\n",
       "</style>\n",
       "<table border=\"1\" class=\"dataframe\">\n",
       "  <thead>\n",
       "    <tr style=\"text-align: right;\">\n",
       "      <th></th>\n",
       "      <th>Borough</th>\n",
       "      <th>Incident Zip</th>\n",
       "    </tr>\n",
       "  </thead>\n",
       "  <tbody>\n",
       "    <tr>\n",
       "      <th>1</th>\n",
       "      <td>QUEENS</td>\n",
       "      <td>11372</td>\n",
       "    </tr>\n",
       "    <tr>\n",
       "      <th>2</th>\n",
       "      <td>QUEENS</td>\n",
       "      <td>11416</td>\n",
       "    </tr>\n",
       "    <tr>\n",
       "      <th>3</th>\n",
       "      <td>BROOKLYN</td>\n",
       "      <td>11233</td>\n",
       "    </tr>\n",
       "    <tr>\n",
       "      <th>4</th>\n",
       "      <td>MANHATTAN</td>\n",
       "      <td>10022</td>\n",
       "    </tr>\n",
       "    <tr>\n",
       "      <th>5</th>\n",
       "      <td>QUEENS</td>\n",
       "      <td>11368</td>\n",
       "    </tr>\n",
       "  </tbody>\n",
       "</table>\n",
       "</div>"
      ],
      "text/plain": [
       "     Borough Incident Zip\n",
       "1     QUEENS        11372\n",
       "2     QUEENS        11416\n",
       "3   BROOKLYN        11233\n",
       "4  MANHATTAN        10022\n",
       "5     QUEENS        11368"
      ]
     },
     "execution_count": 42,
     "metadata": {},
     "output_type": "execute_result"
    }
   ],
   "source": [
    "#Use this!!!!!!!!\n",
    "borough_zip_clean = borough_zip.dropna(how='any')\n",
    "borough_zip_clean[:5]"
   ]
  },
  {
   "cell_type": "markdown",
   "metadata": {},
   "source": [
    "#### Drop Duplicates"
   ]
  },
  {
   "cell_type": "code",
   "execution_count": 43,
   "metadata": {},
   "outputs": [
    {
     "data": {
      "text/html": [
       "<div>\n",
       "<style>\n",
       "    .dataframe thead tr:only-child th {\n",
       "        text-align: right;\n",
       "    }\n",
       "\n",
       "    .dataframe thead th {\n",
       "        text-align: left;\n",
       "    }\n",
       "\n",
       "    .dataframe tbody tr th {\n",
       "        vertical-align: top;\n",
       "    }\n",
       "</style>\n",
       "<table border=\"1\" class=\"dataframe\">\n",
       "  <thead>\n",
       "    <tr style=\"text-align: right;\">\n",
       "      <th></th>\n",
       "      <th>Borough</th>\n",
       "      <th>Incident Zip</th>\n",
       "    </tr>\n",
       "  </thead>\n",
       "  <tbody>\n",
       "    <tr>\n",
       "      <th>1</th>\n",
       "      <td>QUEENS</td>\n",
       "      <td>11372</td>\n",
       "    </tr>\n",
       "    <tr>\n",
       "      <th>2</th>\n",
       "      <td>QUEENS</td>\n",
       "      <td>11416</td>\n",
       "    </tr>\n",
       "    <tr>\n",
       "      <th>3</th>\n",
       "      <td>BROOKLYN</td>\n",
       "      <td>11233</td>\n",
       "    </tr>\n",
       "    <tr>\n",
       "      <th>4</th>\n",
       "      <td>MANHATTAN</td>\n",
       "      <td>10022</td>\n",
       "    </tr>\n",
       "    <tr>\n",
       "      <th>5</th>\n",
       "      <td>QUEENS</td>\n",
       "      <td>11368</td>\n",
       "    </tr>\n",
       "  </tbody>\n",
       "</table>\n",
       "</div>"
      ],
      "text/plain": [
       "     Borough Incident Zip\n",
       "1     QUEENS        11372\n",
       "2     QUEENS        11416\n",
       "3   BROOKLYN        11233\n",
       "4  MANHATTAN        10022\n",
       "5     QUEENS        11368"
      ]
     },
     "execution_count": 43,
     "metadata": {},
     "output_type": "execute_result"
    }
   ],
   "source": [
    "borough_zip_dedup = borough_zip_clean.drop_duplicates(subset='Incident Zip')\n",
    "borough_zip_dedup[:5]"
   ]
  },
  {
   "cell_type": "code",
   "execution_count": 44,
   "metadata": {
    "scrolled": true
   },
   "outputs": [
    {
     "data": {
      "text/plain": [
       "Incident Zip\n",
       "11372       QUEENS\n",
       "11416       QUEENS\n",
       "11233     BROOKLYN\n",
       "10022    MANHATTAN\n",
       "11368       QUEENS\n",
       "Name: Borough, dtype: object"
      ]
     },
     "execution_count": 44,
     "metadata": {},
     "output_type": "execute_result"
    }
   ],
   "source": [
    "tmp_df = borough_zip_dedup.set_index('Incident Zip')\n",
    "borough_zip_series = tmp_df['Borough']\n",
    "borough_zip_series[:5]"
   ]
  },
  {
   "cell_type": "markdown",
   "metadata": {},
   "source": [
    "#### Rename a series"
   ]
  },
  {
   "cell_type": "code",
   "execution_count": 45,
   "metadata": {},
   "outputs": [
    {
     "data": {
      "text/plain": [
       "BROOKLYN    1758\n",
       "BRONX       1632\n",
       "BRONX       1554\n",
       "BRONX       1373\n",
       "BRONX       1372\n",
       "Name: Incident Zip, dtype: int64"
      ]
     },
     "execution_count": 45,
     "metadata": {},
     "output_type": "execute_result"
    }
   ],
   "source": [
    "vc = orig_data['Incident Zip'].value_counts()\n",
    "vc_renamed = vc.rename(borough_zip_series)\n",
    "vc_renamed[:5]"
   ]
  },
  {
   "cell_type": "code",
   "execution_count": 46,
   "metadata": {},
   "outputs": [
    {
     "data": {
      "text/plain": [
       "QUEENS           65\n",
       "MANHATTAN        58\n",
       "BROOKLYN         40\n",
       "BRONX            26\n",
       "STATEN ISLAND    12\n",
       "Name: Borough, dtype: int64"
      ]
     },
     "execution_count": 46,
     "metadata": {},
     "output_type": "execute_result"
    }
   ],
   "source": [
    "zip_per_borough = orig_data[['Borough', 'Incident Zip']].dropna(how='any') \\\n",
    "                                                        .drop_duplicates() \\\n",
    "                                                        ['Borough'] \\\n",
    "                                                        .value_counts()\n",
    "zip_per_borough"
   ]
  },
  {
   "cell_type": "code",
   "execution_count": 47,
   "metadata": {},
   "outputs": [
    {
     "name": "stdout",
     "output_type": "stream",
     "text": [
      "True\n",
      "False\n"
     ]
    }
   ],
   "source": [
    "import re\n",
    "def noisy(s):\n",
    "    \"\"\"Given a Complaint Type string, return True if it is\n",
    "       a noise-related complaint.\"\"\"\n",
    "    return (len(re.findall('Noise', s)) > 0)\n",
    "print noisy('Noise - Commercial')\n",
    "print noisy('ELEVATOR')"
   ]
  },
  {
   "cell_type": "code",
   "execution_count": 48,
   "metadata": {},
   "outputs": [
    {
     "data": {
      "text/html": [
       "<div>\n",
       "<style>\n",
       "    .dataframe thead tr:only-child th {\n",
       "        text-align: right;\n",
       "    }\n",
       "\n",
       "    .dataframe thead th {\n",
       "        text-align: left;\n",
       "    }\n",
       "\n",
       "    .dataframe tbody tr th {\n",
       "        vertical-align: top;\n",
       "    }\n",
       "</style>\n",
       "<table border=\"1\" class=\"dataframe\">\n",
       "  <thead>\n",
       "    <tr style=\"text-align: right;\">\n",
       "      <th></th>\n",
       "      <th>Unique Key</th>\n",
       "      <th>Created Date</th>\n",
       "      <th>Closed Date</th>\n",
       "      <th>Agency</th>\n",
       "      <th>Agency Name</th>\n",
       "      <th>Complaint Type</th>\n",
       "      <th>Descriptor</th>\n",
       "      <th>Location Type</th>\n",
       "      <th>Incident Zip</th>\n",
       "      <th>Incident Address</th>\n",
       "      <th>...</th>\n",
       "      <th>Bridge Highway Name</th>\n",
       "      <th>Bridge Highway Direction</th>\n",
       "      <th>Road Ramp</th>\n",
       "      <th>Bridge Highway Segment</th>\n",
       "      <th>Garage Lot Name</th>\n",
       "      <th>Ferry Direction</th>\n",
       "      <th>Ferry Terminal Name</th>\n",
       "      <th>Latitude</th>\n",
       "      <th>Longitude</th>\n",
       "      <th>Location</th>\n",
       "    </tr>\n",
       "  </thead>\n",
       "  <tbody>\n",
       "    <tr>\n",
       "      <th>1</th>\n",
       "      <td>29636054</td>\n",
       "      <td>2015-01-06 02:09:30</td>\n",
       "      <td>NaN</td>\n",
       "      <td>NYPD</td>\n",
       "      <td>New York City Police Department</td>\n",
       "      <td>Noise - Commercial</td>\n",
       "      <td>Loud Music/Party</td>\n",
       "      <td>Club/Bar/Restaurant</td>\n",
       "      <td>11372</td>\n",
       "      <td>70-06 ROOSEVELT AVENUE</td>\n",
       "      <td>...</td>\n",
       "      <td>NaN</td>\n",
       "      <td>NaN</td>\n",
       "      <td>NaN</td>\n",
       "      <td>NaN</td>\n",
       "      <td>NaN</td>\n",
       "      <td>NaN</td>\n",
       "      <td>NaN</td>\n",
       "      <td>40.74642854264474</td>\n",
       "      <td>-73.89533997952648</td>\n",
       "      <td>(40.74642854264474, -73.89533997952648)</td>\n",
       "    </tr>\n",
       "    <tr>\n",
       "      <th>4</th>\n",
       "      <td>29641040</td>\n",
       "      <td>2015-01-06 02:03:11</td>\n",
       "      <td>01/06/2015 02:36:38 AM</td>\n",
       "      <td>NYPD</td>\n",
       "      <td>New York City Police Department</td>\n",
       "      <td>Noise - Street/Sidewalk</td>\n",
       "      <td>Loud Talking</td>\n",
       "      <td>Street/Sidewalk</td>\n",
       "      <td>10022</td>\n",
       "      <td>238 EAST 58 STREET</td>\n",
       "      <td>...</td>\n",
       "      <td>NaN</td>\n",
       "      <td>NaN</td>\n",
       "      <td>NaN</td>\n",
       "      <td>NaN</td>\n",
       "      <td>NaN</td>\n",
       "      <td>NaN</td>\n",
       "      <td>NaN</td>\n",
       "      <td>40.76049674396275</td>\n",
       "      <td>-73.96604690111288</td>\n",
       "      <td>(40.76049674396275, -73.96604690111288)</td>\n",
       "    </tr>\n",
       "    <tr>\n",
       "      <th>20</th>\n",
       "      <td>29639511</td>\n",
       "      <td>2015-01-06 01:32:51</td>\n",
       "      <td>NaN</td>\n",
       "      <td>NYPD</td>\n",
       "      <td>New York City Police Department</td>\n",
       "      <td>Noise - Commercial</td>\n",
       "      <td>Loud Music/Party</td>\n",
       "      <td>Club/Bar/Restaurant</td>\n",
       "      <td>11372</td>\n",
       "      <td>70-06 ROOSEVELT AVENUE</td>\n",
       "      <td>...</td>\n",
       "      <td>NaN</td>\n",
       "      <td>NaN</td>\n",
       "      <td>NaN</td>\n",
       "      <td>NaN</td>\n",
       "      <td>NaN</td>\n",
       "      <td>NaN</td>\n",
       "      <td>NaN</td>\n",
       "      <td>40.74642854264474</td>\n",
       "      <td>-73.89533997952648</td>\n",
       "      <td>(40.74642854264474, -73.89533997952648)</td>\n",
       "    </tr>\n",
       "    <tr>\n",
       "      <th>24</th>\n",
       "      <td>29641827</td>\n",
       "      <td>2015-01-06 01:27:24</td>\n",
       "      <td>NaN</td>\n",
       "      <td>EDC</td>\n",
       "      <td>Economic Development Corporation</td>\n",
       "      <td>Noise - Helicopter</td>\n",
       "      <td>Other</td>\n",
       "      <td>Above Address</td>\n",
       "      <td>10040</td>\n",
       "      <td>89 THAYER STREET</td>\n",
       "      <td>...</td>\n",
       "      <td>NaN</td>\n",
       "      <td>NaN</td>\n",
       "      <td>NaN</td>\n",
       "      <td>NaN</td>\n",
       "      <td>NaN</td>\n",
       "      <td>NaN</td>\n",
       "      <td>NaN</td>\n",
       "      <td>40.864212983761796</td>\n",
       "      <td>-73.92753738525039</td>\n",
       "      <td>(40.864212983761796, -73.92753738525039)</td>\n",
       "    </tr>\n",
       "    <tr>\n",
       "      <th>27</th>\n",
       "      <td>29638620</td>\n",
       "      <td>2015-01-06 01:24:16</td>\n",
       "      <td>01/06/2015 02:19:00 AM</td>\n",
       "      <td>NYPD</td>\n",
       "      <td>New York City Police Department</td>\n",
       "      <td>Noise - Commercial</td>\n",
       "      <td>Loud Music/Party</td>\n",
       "      <td>Club/Bar/Restaurant</td>\n",
       "      <td>10011</td>\n",
       "      <td>355 WEST 16 STREET</td>\n",
       "      <td>...</td>\n",
       "      <td>NaN</td>\n",
       "      <td>NaN</td>\n",
       "      <td>NaN</td>\n",
       "      <td>NaN</td>\n",
       "      <td>NaN</td>\n",
       "      <td>NaN</td>\n",
       "      <td>NaN</td>\n",
       "      <td>40.74173312459783</td>\n",
       "      <td>-74.00308183921501</td>\n",
       "      <td>(40.74173312459783, -74.00308183921501)</td>\n",
       "    </tr>\n",
       "  </tbody>\n",
       "</table>\n",
       "<p>5 rows × 52 columns</p>\n",
       "</div>"
      ],
      "text/plain": [
       "   Unique Key        Created Date             Closed Date Agency  \\\n",
       "1    29636054 2015-01-06 02:09:30                     NaN   NYPD   \n",
       "4    29641040 2015-01-06 02:03:11  01/06/2015 02:36:38 AM   NYPD   \n",
       "20   29639511 2015-01-06 01:32:51                     NaN   NYPD   \n",
       "24   29641827 2015-01-06 01:27:24                     NaN    EDC   \n",
       "27   29638620 2015-01-06 01:24:16  01/06/2015 02:19:00 AM   NYPD   \n",
       "\n",
       "                         Agency Name           Complaint Type  \\\n",
       "1    New York City Police Department       Noise - Commercial   \n",
       "4    New York City Police Department  Noise - Street/Sidewalk   \n",
       "20   New York City Police Department       Noise - Commercial   \n",
       "24  Economic Development Corporation       Noise - Helicopter   \n",
       "27   New York City Police Department       Noise - Commercial   \n",
       "\n",
       "          Descriptor        Location Type Incident Zip  \\\n",
       "1   Loud Music/Party  Club/Bar/Restaurant        11372   \n",
       "4       Loud Talking      Street/Sidewalk        10022   \n",
       "20  Loud Music/Party  Club/Bar/Restaurant        11372   \n",
       "24             Other        Above Address        10040   \n",
       "27  Loud Music/Party  Club/Bar/Restaurant        10011   \n",
       "\n",
       "          Incident Address                    ...                     \\\n",
       "1   70-06 ROOSEVELT AVENUE                    ...                      \n",
       "4       238 EAST 58 STREET                    ...                      \n",
       "20  70-06 ROOSEVELT AVENUE                    ...                      \n",
       "24        89 THAYER STREET                    ...                      \n",
       "27      355 WEST 16 STREET                    ...                      \n",
       "\n",
       "   Bridge Highway Name Bridge Highway Direction Road Ramp  \\\n",
       "1                  NaN                      NaN       NaN   \n",
       "4                  NaN                      NaN       NaN   \n",
       "20                 NaN                      NaN       NaN   \n",
       "24                 NaN                      NaN       NaN   \n",
       "27                 NaN                      NaN       NaN   \n",
       "\n",
       "   Bridge Highway Segment Garage Lot Name Ferry Direction Ferry Terminal Name  \\\n",
       "1                     NaN             NaN             NaN                 NaN   \n",
       "4                     NaN             NaN             NaN                 NaN   \n",
       "20                    NaN             NaN             NaN                 NaN   \n",
       "24                    NaN             NaN             NaN                 NaN   \n",
       "27                    NaN             NaN             NaN                 NaN   \n",
       "\n",
       "              Latitude           Longitude  \\\n",
       "1    40.74642854264474  -73.89533997952648   \n",
       "4    40.76049674396275  -73.96604690111288   \n",
       "20   40.74642854264474  -73.89533997952648   \n",
       "24  40.864212983761796  -73.92753738525039   \n",
       "27   40.74173312459783  -74.00308183921501   \n",
       "\n",
       "                                    Location  \n",
       "1    (40.74642854264474, -73.89533997952648)  \n",
       "4    (40.76049674396275, -73.96604690111288)  \n",
       "20   (40.74642854264474, -73.89533997952648)  \n",
       "24  (40.864212983761796, -73.92753738525039)  \n",
       "27   (40.74173312459783, -74.00308183921501)  \n",
       "\n",
       "[5 rows x 52 columns]"
      ]
     },
     "execution_count": 48,
     "metadata": {},
     "output_type": "execute_result"
    }
   ],
   "source": [
    "noise_mask = orig_data['Complaint Type'].map(noisy)\n",
    "noise_complaints = orig_data[noise_mask]\n",
    "noise_complaints[:5]"
   ]
  },
  {
   "cell_type": "markdown",
   "metadata": {},
   "source": [
    "## Merging DataFrames"
   ]
  },
  {
   "cell_type": "code",
   "execution_count": 49,
   "metadata": {
    "collapsed": true
   },
   "outputs": [],
   "source": [
    "askers = pd.read_csv('/Users/meganchen/Desktop/MIS_381/dataset/PandasUsers.csv')\n",
    "questions = pd.read_csv('/Users/meganchen/Desktop/MIS_381/dataset/PandasPosts.csv')\n",
    "helpers = pd.read_csv('/Users/meganchen/Desktop/MIS_381/dataset/PandasAnswerers.csv')\n",
    "answers = pd.read_csv('/Users/meganchen/Desktop/MIS_381/dataset/PandasAnswers.csv')"
   ]
  },
  {
   "cell_type": "code",
   "execution_count": 50,
   "metadata": {},
   "outputs": [
    {
     "data": {
      "text/plain": [
       "array(['Id', 'Reputation', 'CreationDate', 'DisplayName', 'LastAccessDate',\n",
       "       'WebsiteUrl', 'Location', 'AboutMe', 'Views', 'UpVotes',\n",
       "       'DownVotes', 'EmailHash', 'Age'], dtype=object)"
      ]
     },
     "execution_count": 50,
     "metadata": {},
     "output_type": "execute_result"
    }
   ],
   "source": [
    "askers.columns.values"
   ]
  },
  {
   "cell_type": "code",
   "execution_count": 51,
   "metadata": {},
   "outputs": [
    {
     "data": {
      "text/plain": [
       "1843099"
      ]
     },
     "execution_count": 51,
     "metadata": {},
     "output_type": "execute_result"
    }
   ],
   "source": [
    "asker_id = askers.iloc[0]['Id']\n",
    "asker_id"
   ]
  },
  {
   "cell_type": "code",
   "execution_count": 52,
   "metadata": {},
   "outputs": [
    {
     "data": {
      "text/html": [
       "<div>\n",
       "<style>\n",
       "    .dataframe thead tr:only-child th {\n",
       "        text-align: right;\n",
       "    }\n",
       "\n",
       "    .dataframe thead th {\n",
       "        text-align: left;\n",
       "    }\n",
       "\n",
       "    .dataframe tbody tr th {\n",
       "        vertical-align: top;\n",
       "    }\n",
       "</style>\n",
       "<table border=\"1\" class=\"dataframe\">\n",
       "  <thead>\n",
       "    <tr style=\"text-align: right;\">\n",
       "      <th></th>\n",
       "      <th>CreationDate</th>\n",
       "      <th>Body</th>\n",
       "    </tr>\n",
       "  </thead>\n",
       "  <tbody>\n",
       "    <tr>\n",
       "      <th>65</th>\n",
       "      <td>2012-12-03 15:51:59</td>\n",
       "      <td>I have the following data:\\n\\nStart Time=2012-...</td>\n",
       "    </tr>\n",
       "    <tr>\n",
       "      <th>70</th>\n",
       "      <td>2012-12-06 04:29:37</td>\n",
       "      <td>I try to read-in a file by pandas like this:\\n...</td>\n",
       "    </tr>\n",
       "    <tr>\n",
       "      <th>79</th>\n",
       "      <td>2012-12-12 04:44:03</td>\n",
       "      <td>I read-in a file and plot it with pandas DataF...</td>\n",
       "    </tr>\n",
       "    <tr>\n",
       "      <th>96</th>\n",
       "      <td>2012-12-14 20:47:09</td>\n",
       "      <td>after plotting a figure I get a figure legend ...</td>\n",
       "    </tr>\n",
       "    <tr>\n",
       "      <th>106</th>\n",
       "      <td>2012-12-14 04:13:35</td>\n",
       "      <td>I have a temperature file with many years temp...</td>\n",
       "    </tr>\n",
       "    <tr>\n",
       "      <th>294</th>\n",
       "      <td>2013-01-24 23:51:14</td>\n",
       "      <td>I have a data file that includes several years...</td>\n",
       "    </tr>\n",
       "    <tr>\n",
       "      <th>332</th>\n",
       "      <td>2013-01-28 20:14:49</td>\n",
       "      <td>I have a DataFrame 'tso':\\n\\ntso=DataFrame(tem...</td>\n",
       "    </tr>\n",
       "  </tbody>\n",
       "</table>\n",
       "</div>"
      ],
      "text/plain": [
       "            CreationDate                                               Body\n",
       "65   2012-12-03 15:51:59  I have the following data:\\n\\nStart Time=2012-...\n",
       "70   2012-12-06 04:29:37  I try to read-in a file by pandas like this:\\n...\n",
       "79   2012-12-12 04:44:03  I read-in a file and plot it with pandas DataF...\n",
       "96   2012-12-14 20:47:09  after plotting a figure I get a figure legend ...\n",
       "106  2012-12-14 04:13:35  I have a temperature file with many years temp...\n",
       "294  2013-01-24 23:51:14  I have a data file that includes several years...\n",
       "332  2013-01-28 20:14:49  I have a DataFrame 'tso':\\n\\ntso=DataFrame(tem..."
      ]
     },
     "execution_count": 52,
     "metadata": {},
     "output_type": "execute_result"
    }
   ],
   "source": [
    "questions_by_this_person = questions[questions['OwnerUserId'] == asker_id]\n",
    "questions_by_this_person[['CreationDate', 'Body']]"
   ]
  },
  {
   "cell_type": "code",
   "execution_count": 53,
   "metadata": {},
   "outputs": [
    {
     "data": {
      "text/html": [
       "<div>\n",
       "<style>\n",
       "    .dataframe thead tr:only-child th {\n",
       "        text-align: right;\n",
       "    }\n",
       "\n",
       "    .dataframe thead th {\n",
       "        text-align: left;\n",
       "    }\n",
       "\n",
       "    .dataframe tbody tr th {\n",
       "        vertical-align: top;\n",
       "    }\n",
       "</style>\n",
       "<table border=\"1\" class=\"dataframe\">\n",
       "  <thead>\n",
       "    <tr style=\"text-align: right;\">\n",
       "      <th></th>\n",
       "      <th>Id</th>\n",
       "      <th>PostTypeId</th>\n",
       "      <th>AcceptedAnswerId</th>\n",
       "      <th>CreationDate</th>\n",
       "      <th>Score</th>\n",
       "      <th>ViewCount</th>\n",
       "      <th>Body</th>\n",
       "      <th>OwnerUserId</th>\n",
       "      <th>OwnerDisplayName</th>\n",
       "      <th>LastEditorUserId</th>\n",
       "      <th>LastEditDate</th>\n",
       "      <th>LastActivityDate</th>\n",
       "      <th>Title</th>\n",
       "      <th>Tags</th>\n",
       "      <th>AnswerCount</th>\n",
       "      <th>CommentCount</th>\n",
       "      <th>FavoriteCount</th>\n",
       "      <th>ClosedDate</th>\n",
       "    </tr>\n",
       "  </thead>\n",
       "  <tbody>\n",
       "    <tr>\n",
       "      <th>30</th>\n",
       "      <td>13457335</td>\n",
       "      <td>1</td>\n",
       "      <td>NaN</td>\n",
       "      <td>2012-11-19 15:50:40</td>\n",
       "      <td>0</td>\n",
       "      <td>58</td>\n",
       "      <td>After seeing this question about replicating S...</td>\n",
       "      <td>567620</td>\n",
       "      <td>NaN</td>\n",
       "      <td>NaN</td>\n",
       "      <td>NaN</td>\n",
       "      <td>2012-11-19 16:01:45</td>\n",
       "      <td>Python Pandas: What causes slowdown in differe...</td>\n",
       "      <td>&lt;python&gt;&lt;benchmarking&gt;&lt;pandas&gt;&lt;apply&gt;</td>\n",
       "      <td>1.0</td>\n",
       "      <td>NaN</td>\n",
       "      <td>NaN</td>\n",
       "      <td>NaN</td>\n",
       "    </tr>\n",
       "    <tr>\n",
       "      <th>42</th>\n",
       "      <td>13675749</td>\n",
       "      <td>1</td>\n",
       "      <td>13708892.0</td>\n",
       "      <td>2012-12-03 00:58:53</td>\n",
       "      <td>2</td>\n",
       "      <td>147</td>\n",
       "      <td>I have inhomogeneous ~secondly data with a tim...</td>\n",
       "      <td>128508</td>\n",
       "      <td>NaN</td>\n",
       "      <td>1452002.0</td>\n",
       "      <td>2012-12-04 11:06:21</td>\n",
       "      <td>2012-12-04 17:50:04</td>\n",
       "      <td>Resample Searies/DataFrame with frequency anch...</td>\n",
       "      <td>&lt;pandas&gt;</td>\n",
       "      <td>1.0</td>\n",
       "      <td>2.0</td>\n",
       "      <td>NaN</td>\n",
       "      <td>NaN</td>\n",
       "    </tr>\n",
       "    <tr>\n",
       "      <th>51</th>\n",
       "      <td>13740672</td>\n",
       "      <td>1</td>\n",
       "      <td>13741439.0</td>\n",
       "      <td>2012-12-06 09:36:35</td>\n",
       "      <td>0</td>\n",
       "      <td>64</td>\n",
       "      <td>I'd like to filter out weekend data and only l...</td>\n",
       "      <td>24718</td>\n",
       "      <td>NaN</td>\n",
       "      <td>NaN</td>\n",
       "      <td>NaN</td>\n",
       "      <td>2012-12-06 10:19:32</td>\n",
       "      <td>in pandas how can I groupby weekday() for a da...</td>\n",
       "      <td>&lt;python&gt;&lt;pandas&gt;</td>\n",
       "      <td>1.0</td>\n",
       "      <td>1.0</td>\n",
       "      <td>1.0</td>\n",
       "      <td>NaN</td>\n",
       "    </tr>\n",
       "  </tbody>\n",
       "</table>\n",
       "</div>"
      ],
      "text/plain": [
       "          Id  PostTypeId  AcceptedAnswerId         CreationDate  Score  \\\n",
       "30  13457335           1               NaN  2012-11-19 15:50:40      0   \n",
       "42  13675749           1        13708892.0  2012-12-03 00:58:53      2   \n",
       "51  13740672           1        13741439.0  2012-12-06 09:36:35      0   \n",
       "\n",
       "    ViewCount                                               Body  OwnerUserId  \\\n",
       "30         58  After seeing this question about replicating S...       567620   \n",
       "42        147  I have inhomogeneous ~secondly data with a tim...       128508   \n",
       "51         64  I'd like to filter out weekend data and only l...        24718   \n",
       "\n",
       "   OwnerDisplayName  LastEditorUserId         LastEditDate  \\\n",
       "30              NaN               NaN                  NaN   \n",
       "42              NaN         1452002.0  2012-12-04 11:06:21   \n",
       "51              NaN               NaN                  NaN   \n",
       "\n",
       "       LastActivityDate                                              Title  \\\n",
       "30  2012-11-19 16:01:45  Python Pandas: What causes slowdown in differe...   \n",
       "42  2012-12-04 17:50:04  Resample Searies/DataFrame with frequency anch...   \n",
       "51  2012-12-06 10:19:32  in pandas how can I groupby weekday() for a da...   \n",
       "\n",
       "                                     Tags  AnswerCount  CommentCount  \\\n",
       "30  <python><benchmarking><pandas><apply>          1.0           NaN   \n",
       "42                               <pandas>          1.0           2.0   \n",
       "51                       <python><pandas>          1.0           1.0   \n",
       "\n",
       "    FavoriteCount ClosedDate  \n",
       "30            NaN        NaN  \n",
       "42            NaN        NaN  \n",
       "51            1.0        NaN  "
      ]
     },
     "execution_count": 53,
     "metadata": {},
     "output_type": "execute_result"
    }
   ],
   "source": [
    "def is_reputed_asker(x):\n",
    "    \"\"\"Find all reputed asker IDs, and then check if x is among those IDs\"\"\"\n",
    "    reputed_askers = askers[askers['Reputation'] >= 1000]\n",
    "    ids_of_all_reputed_askers = reputed_askers['Id'].values\n",
    "    return (x in ids_of_all_reputed_askers)\n",
    "\n",
    "mask_questions_by_reputed_askers = questions['OwnerUserId'].map(is_reputed_asker)\n",
    "questions[mask_questions_by_reputed_askers][:3]"
   ]
  },
  {
   "cell_type": "markdown",
   "metadata": {},
   "source": [
    "#### Merging"
   ]
  },
  {
   "cell_type": "code",
   "execution_count": 54,
   "metadata": {
    "collapsed": true
   },
   "outputs": [],
   "source": [
    "questions_askers = questions.merge(askers,\n",
    "                                   left_on='OwnerUserId',\n",
    "                                   right_on='Id',\n",
    "                                   suffixes=['_question', '_asker'])"
   ]
  },
  {
   "cell_type": "markdown",
   "metadata": {},
   "source": [
    "#### Reshaping data"
   ]
  },
  {
   "cell_type": "code",
   "execution_count": 55,
   "metadata": {},
   "outputs": [
    {
     "data": {
      "text/plain": [
       "array(['Complaint Type', 'Borough', 'Status', 'Agency', 'count'], dtype=object)"
      ]
     },
     "execution_count": 55,
     "metadata": {},
     "output_type": "execute_result"
    }
   ],
   "source": [
    "complaints = pd.read_csv('/Users/meganchen/Desktop/MIS_381/dataset/311-requests-pivot.csv')\n",
    "complaints.columns.values"
   ]
  },
  {
   "cell_type": "code",
   "execution_count": 56,
   "metadata": {},
   "outputs": [
    {
     "data": {
      "text/html": [
       "<div>\n",
       "<style>\n",
       "    .dataframe thead tr:only-child th {\n",
       "        text-align: right;\n",
       "    }\n",
       "\n",
       "    .dataframe thead th {\n",
       "        text-align: left;\n",
       "    }\n",
       "\n",
       "    .dataframe tbody tr th {\n",
       "        vertical-align: top;\n",
       "    }\n",
       "</style>\n",
       "<table border=\"1\" class=\"dataframe\">\n",
       "  <thead>\n",
       "    <tr style=\"text-align: right;\">\n",
       "      <th></th>\n",
       "      <th>Complaint Type</th>\n",
       "      <th>Borough</th>\n",
       "      <th>Status</th>\n",
       "      <th>Agency</th>\n",
       "      <th>count</th>\n",
       "    </tr>\n",
       "  </thead>\n",
       "  <tbody>\n",
       "    <tr>\n",
       "      <th>0</th>\n",
       "      <td>Collection Truck Noise</td>\n",
       "      <td>BROOKLYN</td>\n",
       "      <td>Closed</td>\n",
       "      <td>DSNY</td>\n",
       "      <td>6</td>\n",
       "    </tr>\n",
       "    <tr>\n",
       "      <th>1</th>\n",
       "      <td>Collection Truck Noise</td>\n",
       "      <td>MANHATTAN</td>\n",
       "      <td>Closed</td>\n",
       "      <td>DSNY</td>\n",
       "      <td>5</td>\n",
       "    </tr>\n",
       "    <tr>\n",
       "      <th>2</th>\n",
       "      <td>Collection Truck Noise</td>\n",
       "      <td>QUEENS</td>\n",
       "      <td>Closed</td>\n",
       "      <td>DSNY</td>\n",
       "      <td>4</td>\n",
       "    </tr>\n",
       "    <tr>\n",
       "      <th>3</th>\n",
       "      <td>Collection Truck Noise</td>\n",
       "      <td>STATEN ISLAND</td>\n",
       "      <td>Closed</td>\n",
       "      <td>DSNY</td>\n",
       "      <td>1</td>\n",
       "    </tr>\n",
       "    <tr>\n",
       "      <th>4</th>\n",
       "      <td>Noise</td>\n",
       "      <td>BRONX</td>\n",
       "      <td>Closed</td>\n",
       "      <td>DEP</td>\n",
       "      <td>40</td>\n",
       "    </tr>\n",
       "    <tr>\n",
       "      <th>5</th>\n",
       "      <td>Noise</td>\n",
       "      <td>BRONX</td>\n",
       "      <td>Open</td>\n",
       "      <td>DEP</td>\n",
       "      <td>75</td>\n",
       "    </tr>\n",
       "    <tr>\n",
       "      <th>6</th>\n",
       "      <td>Noise</td>\n",
       "      <td>BROOKLYN</td>\n",
       "      <td>Closed</td>\n",
       "      <td>DEP</td>\n",
       "      <td>85</td>\n",
       "    </tr>\n",
       "    <tr>\n",
       "      <th>7</th>\n",
       "      <td>Noise</td>\n",
       "      <td>BROOKLYN</td>\n",
       "      <td>Open</td>\n",
       "      <td>DEP</td>\n",
       "      <td>442</td>\n",
       "    </tr>\n",
       "    <tr>\n",
       "      <th>8</th>\n",
       "      <td>Noise</td>\n",
       "      <td>BROOKLYN</td>\n",
       "      <td>Started</td>\n",
       "      <td>DEP</td>\n",
       "      <td>9</td>\n",
       "    </tr>\n",
       "    <tr>\n",
       "      <th>9</th>\n",
       "      <td>Noise</td>\n",
       "      <td>MANHATTAN</td>\n",
       "      <td>Closed</td>\n",
       "      <td>DEP</td>\n",
       "      <td>131</td>\n",
       "    </tr>\n",
       "  </tbody>\n",
       "</table>\n",
       "</div>"
      ],
      "text/plain": [
       "           Complaint Type        Borough   Status Agency  count\n",
       "0  Collection Truck Noise       BROOKLYN   Closed   DSNY      6\n",
       "1  Collection Truck Noise      MANHATTAN   Closed   DSNY      5\n",
       "2  Collection Truck Noise         QUEENS   Closed   DSNY      4\n",
       "3  Collection Truck Noise  STATEN ISLAND   Closed   DSNY      1\n",
       "4                   Noise          BRONX   Closed    DEP     40\n",
       "5                   Noise          BRONX     Open    DEP     75\n",
       "6                   Noise       BROOKLYN   Closed    DEP     85\n",
       "7                   Noise       BROOKLYN     Open    DEP    442\n",
       "8                   Noise       BROOKLYN  Started    DEP      9\n",
       "9                   Noise      MANHATTAN   Closed    DEP    131"
      ]
     },
     "execution_count": 56,
     "metadata": {},
     "output_type": "execute_result"
    }
   ],
   "source": [
    "complaints[:10]"
   ]
  },
  {
   "cell_type": "code",
   "execution_count": 57,
   "metadata": {},
   "outputs": [
    {
     "data": {
      "text/html": [
       "<div>\n",
       "<style>\n",
       "    .dataframe thead tr:only-child th {\n",
       "        text-align: right;\n",
       "    }\n",
       "\n",
       "    .dataframe thead th {\n",
       "        text-align: left;\n",
       "    }\n",
       "\n",
       "    .dataframe tbody tr th {\n",
       "        vertical-align: top;\n",
       "    }\n",
       "</style>\n",
       "<table border=\"1\" class=\"dataframe\">\n",
       "  <thead>\n",
       "    <tr style=\"text-align: right;\">\n",
       "      <th>Borough</th>\n",
       "      <th>BRONX</th>\n",
       "      <th>BROOKLYN</th>\n",
       "      <th>MANHATTAN</th>\n",
       "      <th>QUEENS</th>\n",
       "      <th>STATEN ISLAND</th>\n",
       "    </tr>\n",
       "    <tr>\n",
       "      <th>Complaint Type</th>\n",
       "      <th></th>\n",
       "      <th></th>\n",
       "      <th></th>\n",
       "      <th></th>\n",
       "      <th></th>\n",
       "    </tr>\n",
       "  </thead>\n",
       "  <tbody>\n",
       "    <tr>\n",
       "      <th>Collection Truck Noise</th>\n",
       "      <td>NaN</td>\n",
       "      <td>6.0</td>\n",
       "      <td>5.0</td>\n",
       "      <td>4.0</td>\n",
       "      <td>1.0</td>\n",
       "    </tr>\n",
       "    <tr>\n",
       "      <th>Noise</th>\n",
       "      <td>115.0</td>\n",
       "      <td>536.0</td>\n",
       "      <td>1061.0</td>\n",
       "      <td>400.0</td>\n",
       "      <td>72.0</td>\n",
       "    </tr>\n",
       "    <tr>\n",
       "      <th>Noise - Commercial</th>\n",
       "      <td>163.0</td>\n",
       "      <td>698.0</td>\n",
       "      <td>1223.0</td>\n",
       "      <td>406.0</td>\n",
       "      <td>42.0</td>\n",
       "    </tr>\n",
       "    <tr>\n",
       "      <th>Noise - Helicopter</th>\n",
       "      <td>NaN</td>\n",
       "      <td>21.0</td>\n",
       "      <td>63.0</td>\n",
       "      <td>9.0</td>\n",
       "      <td>NaN</td>\n",
       "    </tr>\n",
       "    <tr>\n",
       "      <th>Noise - House of Worship</th>\n",
       "      <td>1.0</td>\n",
       "      <td>24.0</td>\n",
       "      <td>3.0</td>\n",
       "      <td>7.0</td>\n",
       "      <td>NaN</td>\n",
       "    </tr>\n",
       "    <tr>\n",
       "      <th>Noise - Park</th>\n",
       "      <td>2.0</td>\n",
       "      <td>NaN</td>\n",
       "      <td>17.0</td>\n",
       "      <td>11.0</td>\n",
       "      <td>NaN</td>\n",
       "    </tr>\n",
       "    <tr>\n",
       "      <th>Noise - Street/Sidewalk</th>\n",
       "      <td>109.0</td>\n",
       "      <td>208.0</td>\n",
       "      <td>609.0</td>\n",
       "      <td>100.0</td>\n",
       "      <td>19.0</td>\n",
       "    </tr>\n",
       "    <tr>\n",
       "      <th>Noise - Vehicle</th>\n",
       "      <td>53.0</td>\n",
       "      <td>183.0</td>\n",
       "      <td>228.0</td>\n",
       "      <td>75.0</td>\n",
       "      <td>18.0</td>\n",
       "    </tr>\n",
       "  </tbody>\n",
       "</table>\n",
       "</div>"
      ],
      "text/plain": [
       "Borough                   BRONX  BROOKLYN  MANHATTAN  QUEENS  STATEN ISLAND\n",
       "Complaint Type                                                             \n",
       "Collection Truck Noise      NaN       6.0        5.0     4.0            1.0\n",
       "Noise                     115.0     536.0     1061.0   400.0           72.0\n",
       "Noise - Commercial        163.0     698.0     1223.0   406.0           42.0\n",
       "Noise - Helicopter          NaN      21.0       63.0     9.0            NaN\n",
       "Noise - House of Worship    1.0      24.0        3.0     7.0            NaN\n",
       "Noise - Park                2.0       NaN       17.0    11.0            NaN\n",
       "Noise - Street/Sidewalk   109.0     208.0      609.0   100.0           19.0\n",
       "Noise - Vehicle            53.0     183.0      228.0    75.0           18.0"
      ]
     },
     "execution_count": 57,
     "metadata": {},
     "output_type": "execute_result"
    }
   ],
   "source": [
    "pivoted = pd.pivot_table(complaints,\n",
    "                         index='Complaint Type',\n",
    "                         columns='Borough',\n",
    "                         values='count',\n",
    "                         aggfunc=sum)\n",
    "pivoted"
   ]
  },
  {
   "cell_type": "code",
   "execution_count": 58,
   "metadata": {},
   "outputs": [
    {
     "data": {
      "text/html": [
       "<div>\n",
       "<style>\n",
       "    .dataframe thead tr:only-child th {\n",
       "        text-align: right;\n",
       "    }\n",
       "\n",
       "    .dataframe thead th {\n",
       "        text-align: left;\n",
       "    }\n",
       "\n",
       "    .dataframe tbody tr th {\n",
       "        vertical-align: top;\n",
       "    }\n",
       "</style>\n",
       "<table border=\"1\" class=\"dataframe\">\n",
       "  <thead>\n",
       "    <tr>\n",
       "      <th></th>\n",
       "      <th>Agency</th>\n",
       "      <th colspan=\"3\" halign=\"left\">DEP</th>\n",
       "      <th>DSNY</th>\n",
       "      <th>EDC</th>\n",
       "      <th colspan=\"3\" halign=\"left\">NYPD</th>\n",
       "    </tr>\n",
       "    <tr>\n",
       "      <th></th>\n",
       "      <th>Status</th>\n",
       "      <th>Closed</th>\n",
       "      <th>Open</th>\n",
       "      <th>Started</th>\n",
       "      <th>Closed</th>\n",
       "      <th>Open</th>\n",
       "      <th>Assigned</th>\n",
       "      <th>Closed</th>\n",
       "      <th>Open</th>\n",
       "    </tr>\n",
       "    <tr>\n",
       "      <th>Complaint Type</th>\n",
       "      <th>Borough</th>\n",
       "      <th></th>\n",
       "      <th></th>\n",
       "      <th></th>\n",
       "      <th></th>\n",
       "      <th></th>\n",
       "      <th></th>\n",
       "      <th></th>\n",
       "      <th></th>\n",
       "    </tr>\n",
       "  </thead>\n",
       "  <tbody>\n",
       "    <tr>\n",
       "      <th rowspan=\"4\" valign=\"top\">Collection Truck Noise</th>\n",
       "      <th>BROOKLYN</th>\n",
       "      <td>0</td>\n",
       "      <td>0</td>\n",
       "      <td>0</td>\n",
       "      <td>6</td>\n",
       "      <td>0</td>\n",
       "      <td>0</td>\n",
       "      <td>0</td>\n",
       "      <td>0</td>\n",
       "    </tr>\n",
       "    <tr>\n",
       "      <th>MANHATTAN</th>\n",
       "      <td>0</td>\n",
       "      <td>0</td>\n",
       "      <td>0</td>\n",
       "      <td>5</td>\n",
       "      <td>0</td>\n",
       "      <td>0</td>\n",
       "      <td>0</td>\n",
       "      <td>0</td>\n",
       "    </tr>\n",
       "    <tr>\n",
       "      <th>QUEENS</th>\n",
       "      <td>0</td>\n",
       "      <td>0</td>\n",
       "      <td>0</td>\n",
       "      <td>4</td>\n",
       "      <td>0</td>\n",
       "      <td>0</td>\n",
       "      <td>0</td>\n",
       "      <td>0</td>\n",
       "    </tr>\n",
       "    <tr>\n",
       "      <th>STATEN ISLAND</th>\n",
       "      <td>0</td>\n",
       "      <td>0</td>\n",
       "      <td>0</td>\n",
       "      <td>1</td>\n",
       "      <td>0</td>\n",
       "      <td>0</td>\n",
       "      <td>0</td>\n",
       "      <td>0</td>\n",
       "    </tr>\n",
       "    <tr>\n",
       "      <th rowspan=\"3\" valign=\"top\">Noise</th>\n",
       "      <th>BRONX</th>\n",
       "      <td>40</td>\n",
       "      <td>75</td>\n",
       "      <td>0</td>\n",
       "      <td>0</td>\n",
       "      <td>0</td>\n",
       "      <td>0</td>\n",
       "      <td>0</td>\n",
       "      <td>0</td>\n",
       "    </tr>\n",
       "    <tr>\n",
       "      <th>BROOKLYN</th>\n",
       "      <td>85</td>\n",
       "      <td>442</td>\n",
       "      <td>9</td>\n",
       "      <td>0</td>\n",
       "      <td>0</td>\n",
       "      <td>0</td>\n",
       "      <td>0</td>\n",
       "      <td>0</td>\n",
       "    </tr>\n",
       "    <tr>\n",
       "      <th>MANHATTAN</th>\n",
       "      <td>131</td>\n",
       "      <td>928</td>\n",
       "      <td>2</td>\n",
       "      <td>0</td>\n",
       "      <td>0</td>\n",
       "      <td>0</td>\n",
       "      <td>0</td>\n",
       "      <td>0</td>\n",
       "    </tr>\n",
       "  </tbody>\n",
       "</table>\n",
       "</div>"
      ],
      "text/plain": [
       "Agency                                  DEP                DSNY  EDC     NYPD  \\\n",
       "Status                               Closed Open Started Closed Open Assigned   \n",
       "Complaint Type         Borough                                                  \n",
       "Collection Truck Noise BROOKLYN           0    0       0      6    0        0   \n",
       "                       MANHATTAN          0    0       0      5    0        0   \n",
       "                       QUEENS             0    0       0      4    0        0   \n",
       "                       STATEN ISLAND      0    0       0      1    0        0   \n",
       "Noise                  BRONX             40   75       0      0    0        0   \n",
       "                       BROOKLYN          85  442       9      0    0        0   \n",
       "                       MANHATTAN        131  928       2      0    0        0   \n",
       "\n",
       "Agency                                            \n",
       "Status                               Closed Open  \n",
       "Complaint Type         Borough                    \n",
       "Collection Truck Noise BROOKLYN           0    0  \n",
       "                       MANHATTAN          0    0  \n",
       "                       QUEENS             0    0  \n",
       "                       STATEN ISLAND      0    0  \n",
       "Noise                  BRONX              0    0  \n",
       "                       BROOKLYN           0    0  \n",
       "                       MANHATTAN          0    0  "
      ]
     },
     "execution_count": 58,
     "metadata": {},
     "output_type": "execute_result"
    }
   ],
   "source": [
    "pivot_all = pd.pivot_table(complaints,\n",
    "                           index=['Complaint Type', 'Borough'],\n",
    "                           columns=['Agency', 'Status'],\n",
    "                           values='count',\n",
    "                           fill_value=0)  # fill in missing values\n",
    "pivot_all[:7]"
   ]
  },
  {
   "cell_type": "markdown",
   "metadata": {},
   "source": [
    "#### max values and labels"
   ]
  },
  {
   "cell_type": "code",
   "execution_count": 59,
   "metadata": {},
   "outputs": [
    {
     "data": {
      "text/html": [
       "<div>\n",
       "<style>\n",
       "    .dataframe thead tr:only-child th {\n",
       "        text-align: right;\n",
       "    }\n",
       "\n",
       "    .dataframe thead th {\n",
       "        text-align: left;\n",
       "    }\n",
       "\n",
       "    .dataframe tbody tr th {\n",
       "        vertical-align: top;\n",
       "    }\n",
       "</style>\n",
       "<table border=\"1\" class=\"dataframe\">\n",
       "  <thead>\n",
       "    <tr style=\"text-align: right;\">\n",
       "      <th>Agency</th>\n",
       "      <th>DEP</th>\n",
       "      <th>DSNY</th>\n",
       "      <th>EDC</th>\n",
       "      <th>NYPD</th>\n",
       "    </tr>\n",
       "    <tr>\n",
       "      <th>Complaint Type</th>\n",
       "      <th></th>\n",
       "      <th></th>\n",
       "      <th></th>\n",
       "      <th></th>\n",
       "    </tr>\n",
       "  </thead>\n",
       "  <tbody>\n",
       "    <tr>\n",
       "      <th>Collection Truck Noise</th>\n",
       "      <td>0</td>\n",
       "      <td>16</td>\n",
       "      <td>0</td>\n",
       "      <td>0</td>\n",
       "    </tr>\n",
       "    <tr>\n",
       "      <th>Noise</th>\n",
       "      <td>2184</td>\n",
       "      <td>0</td>\n",
       "      <td>0</td>\n",
       "      <td>0</td>\n",
       "    </tr>\n",
       "    <tr>\n",
       "      <th>Noise - Commercial</th>\n",
       "      <td>0</td>\n",
       "      <td>0</td>\n",
       "      <td>0</td>\n",
       "      <td>2532</td>\n",
       "    </tr>\n",
       "    <tr>\n",
       "      <th>Noise - Helicopter</th>\n",
       "      <td>0</td>\n",
       "      <td>0</td>\n",
       "      <td>93</td>\n",
       "      <td>0</td>\n",
       "    </tr>\n",
       "    <tr>\n",
       "      <th>Noise - House of Worship</th>\n",
       "      <td>0</td>\n",
       "      <td>0</td>\n",
       "      <td>0</td>\n",
       "      <td>35</td>\n",
       "    </tr>\n",
       "    <tr>\n",
       "      <th>Noise - Park</th>\n",
       "      <td>0</td>\n",
       "      <td>0</td>\n",
       "      <td>0</td>\n",
       "      <td>30</td>\n",
       "    </tr>\n",
       "    <tr>\n",
       "      <th>Noise - Street/Sidewalk</th>\n",
       "      <td>0</td>\n",
       "      <td>0</td>\n",
       "      <td>0</td>\n",
       "      <td>1045</td>\n",
       "    </tr>\n",
       "    <tr>\n",
       "      <th>Noise - Vehicle</th>\n",
       "      <td>0</td>\n",
       "      <td>0</td>\n",
       "      <td>0</td>\n",
       "      <td>557</td>\n",
       "    </tr>\n",
       "  </tbody>\n",
       "</table>\n",
       "</div>"
      ],
      "text/plain": [
       "Agency                     DEP  DSNY  EDC  NYPD\n",
       "Complaint Type                                 \n",
       "Collection Truck Noise       0    16    0     0\n",
       "Noise                     2184     0    0     0\n",
       "Noise - Commercial           0     0    0  2532\n",
       "Noise - Helicopter           0     0   93     0\n",
       "Noise - House of Worship     0     0    0    35\n",
       "Noise - Park                 0     0    0    30\n",
       "Noise - Street/Sidewalk      0     0    0  1045\n",
       "Noise - Vehicle              0     0    0   557"
      ]
     },
     "execution_count": 59,
     "metadata": {},
     "output_type": "execute_result"
    }
   ],
   "source": [
    "complaint_agency = pd.pivot_table(complaints,\n",
    "                                  index='Complaint Type',\n",
    "                                  columns='Agency',\n",
    "                                  values='count',\n",
    "                                  aggfunc=sum,\n",
    "                                  fill_value=0)\n",
    "complaint_agency # Oops"
   ]
  },
  {
   "cell_type": "code",
   "execution_count": 60,
   "metadata": {},
   "outputs": [
    {
     "data": {
      "text/plain": [
       "Agency\n",
       "DEP                      Noise\n",
       "DSNY    Collection Truck Noise\n",
       "EDC         Noise - Helicopter\n",
       "NYPD        Noise - Commercial\n",
       "dtype: object"
      ]
     },
     "execution_count": 60,
     "metadata": {},
     "output_type": "execute_result"
    }
   ],
   "source": [
    "complaint_agency.idxmax()  # Oops"
   ]
  },
  {
   "cell_type": "code",
   "execution_count": 61,
   "metadata": {},
   "outputs": [
    {
     "data": {
      "text/plain": [
       "Complaint Type\n",
       "Collection Truck Noise      DSNY\n",
       "Noise                        DEP\n",
       "Noise - Commercial          NYPD\n",
       "Noise - Helicopter           EDC\n",
       "Noise - House of Worship    NYPD\n",
       "Noise - Park                NYPD\n",
       "Noise - Street/Sidewalk     NYPD\n",
       "Noise - Vehicle             NYPD\n",
       "dtype: object"
      ]
     },
     "execution_count": 61,
     "metadata": {},
     "output_type": "execute_result"
    }
   ],
   "source": [
    "complaint_agency.T.idxmax()"
   ]
  },
  {
   "cell_type": "markdown",
   "metadata": {},
   "source": [
    "#### Rank"
   ]
  },
  {
   "cell_type": "code",
   "execution_count": 62,
   "metadata": {
    "scrolled": true
   },
   "outputs": [
    {
     "name": "stdout",
     "output_type": "stream",
     "text": [
      "0    193.0\n",
      "1     72.0\n",
      "2    102.0\n",
      "3    148.0\n",
      "4    405.5\n",
      "Name: Reputation, dtype: float64\n"
     ]
    }
   ],
   "source": [
    "# rank users via rank()\n",
    "reputation_rank = askers['Reputation'].rank(ascending=False)\n",
    "print reputation_rank[:5]"
   ]
  },
  {
   "cell_type": "markdown",
   "metadata": {},
   "source": [
    "#### Percentile"
   ]
  },
  {
   "cell_type": "code",
   "execution_count": 63,
   "metadata": {},
   "outputs": [
    {
     "data": {
      "text/plain": [
       "0    30-40\n",
       "1    10-20\n",
       "2    20-30\n",
       "3    30-40\n",
       "4    80-90\n",
       "Name: Reputation, dtype: category\n",
       "Categories (10, object): [0-10 < 10-20 < 20-30 < 30-40 ... 60-70 < 70-80 < 80-90 < 90-100]"
      ]
     },
     "execution_count": 63,
     "metadata": {},
     "output_type": "execute_result"
    }
   ],
   "source": [
    "#percentile\n",
    "reputation_percentile = pd.qcut(reputation_rank,\n",
    "                                10,\n",
    "                                labels=['0-10', '10-20', '20-30',\n",
    "                                        '30-40', '40-50', '50-60',\n",
    "                                        '60-70', '70-80', '80-90', '90-100'])\n",
    "reputation_percentile[:5]"
   ]
  },
  {
   "cell_type": "code",
   "execution_count": 64,
   "metadata": {
    "collapsed": true
   },
   "outputs": [],
   "source": [
    "# Add this as a new column to askers\n",
    "askers['Reputation Percentile'] = reputation_percentile"
   ]
  },
  {
   "cell_type": "code",
   "execution_count": 65,
   "metadata": {},
   "outputs": [
    {
     "data": {
      "text/html": [
       "<div>\n",
       "<style>\n",
       "    .dataframe thead tr:only-child th {\n",
       "        text-align: right;\n",
       "    }\n",
       "\n",
       "    .dataframe thead th {\n",
       "        text-align: left;\n",
       "    }\n",
       "\n",
       "    .dataframe tbody tr th {\n",
       "        vertical-align: top;\n",
       "    }\n",
       "</style>\n",
       "<table border=\"1\" class=\"dataframe\">\n",
       "  <thead>\n",
       "    <tr style=\"text-align: right;\">\n",
       "      <th></th>\n",
       "      <th>Reputation</th>\n",
       "      <th>Reputation Percentile</th>\n",
       "    </tr>\n",
       "  </thead>\n",
       "  <tbody>\n",
       "    <tr>\n",
       "      <th>0</th>\n",
       "      <td>100</td>\n",
       "      <td>30-40</td>\n",
       "    </tr>\n",
       "    <tr>\n",
       "      <th>1</th>\n",
       "      <td>766</td>\n",
       "      <td>10-20</td>\n",
       "    </tr>\n",
       "    <tr>\n",
       "      <th>2</th>\n",
       "      <td>472</td>\n",
       "      <td>20-30</td>\n",
       "    </tr>\n",
       "    <tr>\n",
       "      <th>3</th>\n",
       "      <td>188</td>\n",
       "      <td>30-40</td>\n",
       "    </tr>\n",
       "    <tr>\n",
       "      <th>4</th>\n",
       "      <td>13</td>\n",
       "      <td>80-90</td>\n",
       "    </tr>\n",
       "  </tbody>\n",
       "</table>\n",
       "</div>"
      ],
      "text/plain": [
       "   Reputation Reputation Percentile\n",
       "0         100                 30-40\n",
       "1         766                 10-20\n",
       "2         472                 20-30\n",
       "3         188                 30-40\n",
       "4          13                 80-90"
      ]
     },
     "execution_count": 65,
     "metadata": {},
     "output_type": "execute_result"
    }
   ],
   "source": [
    "askers[['Reputation', 'Reputation Percentile']][:5]"
   ]
  },
  {
   "cell_type": "code",
   "execution_count": 66,
   "metadata": {
    "collapsed": true
   },
   "outputs": [],
   "source": [
    "questions_askers = questions.merge(askers,\n",
    "                                   left_on='OwnerUserId',\n",
    "                                   right_on='Id',\n",
    "                                   suffixes=['_question', '_asker'])"
   ]
  },
  {
   "cell_type": "code",
   "execution_count": 67,
   "metadata": {},
   "outputs": [
    {
     "data": {
      "text/plain": [
       "<matplotlib.axes._subplots.AxesSubplot at 0x112117ad0>"
      ]
     },
     "execution_count": 67,
     "metadata": {},
     "output_type": "execute_result"
    },
    {
     "data": {
      "image/png": "[encoded data removed]",
      "text/plain": [
       "<matplotlib.figure.Figure at 0x1121171d0>"
      ]
     },
     "metadata": {},
     "output_type": "display_data"
    }
   ],
   "source": [
    "# Step 3: Get number of questions by Reputation Percentile.\n",
    "askers_by_percentile = askers['Reputation Percentile'].value_counts()\n",
    "questions_by_percentile = questions_askers['Reputation Percentile'].value_counts()\n",
    "questions_per_asker_percentiles = questions_by_percentile / askers_by_percentile\n",
    "questions_per_asker_percentiles.plot(kind='bar')"
   ]
  },
  {
   "cell_type": "code",
   "execution_count": 68,
   "metadata": {},
   "outputs": [
    {
     "data": {
      "text/html": [
       "<div>\n",
       "<style>\n",
       "    .dataframe thead tr:only-child th {\n",
       "        text-align: right;\n",
       "    }\n",
       "\n",
       "    .dataframe thead th {\n",
       "        text-align: left;\n",
       "    }\n",
       "\n",
       "    .dataframe tbody tr th {\n",
       "        vertical-align: top;\n",
       "    }\n",
       "</style>\n",
       "<table border=\"1\" class=\"dataframe\">\n",
       "  <thead>\n",
       "    <tr style=\"text-align: right;\">\n",
       "      <th></th>\n",
       "      <th>Title</th>\n",
       "      <th>ViewCount</th>\n",
       "    </tr>\n",
       "  </thead>\n",
       "  <tbody>\n",
       "    <tr>\n",
       "      <th>339</th>\n",
       "      <td>Sort a pandas DataMatrix in ascending order</td>\n",
       "      <td>2484</td>\n",
       "    </tr>\n",
       "    <tr>\n",
       "      <th>347</th>\n",
       "      <td>append two data frame with pandas</td>\n",
       "      <td>2913</td>\n",
       "    </tr>\n",
       "    <tr>\n",
       "      <th>348</th>\n",
       "      <td>What is the most efficient way to loop through...</td>\n",
       "      <td>4228</td>\n",
       "    </tr>\n",
       "    <tr>\n",
       "      <th>354</th>\n",
       "      <td>Tutorial on PANDAS and PYTABLES</td>\n",
       "      <td>6454</td>\n",
       "    </tr>\n",
       "    <tr>\n",
       "      <th>367</th>\n",
       "      <td>How to get the correlation between two timeser...</td>\n",
       "      <td>2035</td>\n",
       "    </tr>\n",
       "    <tr>\n",
       "      <th>400</th>\n",
       "      <td>Add indexed column to DataFrame with pandas</td>\n",
       "      <td>2624</td>\n",
       "    </tr>\n",
       "    <tr>\n",
       "      <th>460</th>\n",
       "      <td>iterating row by row through a pandas dataframe</td>\n",
       "      <td>2052</td>\n",
       "    </tr>\n",
       "    <tr>\n",
       "      <th>463</th>\n",
       "      <td>add one row in a pandas.DataFrame</td>\n",
       "      <td>3238</td>\n",
       "    </tr>\n",
       "    <tr>\n",
       "      <th>516</th>\n",
       "      <td>Renaming columns in pandas</td>\n",
       "      <td>2422</td>\n",
       "    </tr>\n",
       "    <tr>\n",
       "      <th>723</th>\n",
       "      <td>How to fix Python Numpy/Pandas installation?</td>\n",
       "      <td>2066</td>\n",
       "    </tr>\n",
       "  </tbody>\n",
       "</table>\n",
       "</div>"
      ],
      "text/plain": [
       "                                                 Title  ViewCount\n",
       "339        Sort a pandas DataMatrix in ascending order       2484\n",
       "347                  append two data frame with pandas       2913\n",
       "348  What is the most efficient way to loop through...       4228\n",
       "354                    Tutorial on PANDAS and PYTABLES       6454\n",
       "367  How to get the correlation between two timeser...       2035\n",
       "400        Add indexed column to DataFrame with pandas       2624\n",
       "460    iterating row by row through a pandas dataframe       2052\n",
       "463                  add one row in a pandas.DataFrame       3238\n",
       "516                         Renaming columns in pandas       2422\n",
       "723       How to fix Python Numpy/Pandas installation?       2066"
      ]
     },
     "execution_count": 68,
     "metadata": {},
     "output_type": "execute_result"
    }
   ],
   "source": [
    "# Rank the questions by ViewCount\n",
    "count_ranks = questions['ViewCount'].rank(ascending=False)\n",
    "# Make a mask of the top 10 ranks\n",
    "mask = (count_ranks <= 10)\n",
    "# Display the questions\n",
    "questions[mask][['Title', 'ViewCount']]"
   ]
  },
  {
   "cell_type": "code",
   "execution_count": 69,
   "metadata": {
    "scrolled": true
   },
   "outputs": [
    {
     "data": {
      "text/html": [
       "<div>\n",
       "<style>\n",
       "    .dataframe thead tr:only-child th {\n",
       "        text-align: right;\n",
       "    }\n",
       "\n",
       "    .dataframe thead th {\n",
       "        text-align: left;\n",
       "    }\n",
       "\n",
       "    .dataframe tbody tr th {\n",
       "        vertical-align: top;\n",
       "    }\n",
       "</style>\n",
       "<table border=\"1\" class=\"dataframe\">\n",
       "  <thead>\n",
       "    <tr style=\"text-align: right;\">\n",
       "      <th></th>\n",
       "      <th>Title</th>\n",
       "      <th>ViewCount</th>\n",
       "    </tr>\n",
       "  </thead>\n",
       "  <tbody>\n",
       "    <tr>\n",
       "      <th>354</th>\n",
       "      <td>Tutorial on PANDAS and PYTABLES</td>\n",
       "      <td>6454</td>\n",
       "    </tr>\n",
       "    <tr>\n",
       "      <th>348</th>\n",
       "      <td>What is the most efficient way to loop through...</td>\n",
       "      <td>4228</td>\n",
       "    </tr>\n",
       "    <tr>\n",
       "      <th>463</th>\n",
       "      <td>add one row in a pandas.DataFrame</td>\n",
       "      <td>3238</td>\n",
       "    </tr>\n",
       "    <tr>\n",
       "      <th>347</th>\n",
       "      <td>append two data frame with pandas</td>\n",
       "      <td>2913</td>\n",
       "    </tr>\n",
       "    <tr>\n",
       "      <th>400</th>\n",
       "      <td>Add indexed column to DataFrame with pandas</td>\n",
       "      <td>2624</td>\n",
       "    </tr>\n",
       "    <tr>\n",
       "      <th>339</th>\n",
       "      <td>Sort a pandas DataMatrix in ascending order</td>\n",
       "      <td>2484</td>\n",
       "    </tr>\n",
       "    <tr>\n",
       "      <th>516</th>\n",
       "      <td>Renaming columns in pandas</td>\n",
       "      <td>2422</td>\n",
       "    </tr>\n",
       "    <tr>\n",
       "      <th>723</th>\n",
       "      <td>How to fix Python Numpy/Pandas installation?</td>\n",
       "      <td>2066</td>\n",
       "    </tr>\n",
       "    <tr>\n",
       "      <th>460</th>\n",
       "      <td>iterating row by row through a pandas dataframe</td>\n",
       "      <td>2052</td>\n",
       "    </tr>\n",
       "    <tr>\n",
       "      <th>367</th>\n",
       "      <td>How to get the correlation between two timeser...</td>\n",
       "      <td>2035</td>\n",
       "    </tr>\n",
       "  </tbody>\n",
       "</table>\n",
       "</div>"
      ],
      "text/plain": [
       "                                                 Title  ViewCount\n",
       "354                    Tutorial on PANDAS and PYTABLES       6454\n",
       "348  What is the most efficient way to loop through...       4228\n",
       "463                  add one row in a pandas.DataFrame       3238\n",
       "347                  append two data frame with pandas       2913\n",
       "400        Add indexed column to DataFrame with pandas       2624\n",
       "339        Sort a pandas DataMatrix in ascending order       2484\n",
       "516                         Renaming columns in pandas       2422\n",
       "723       How to fix Python Numpy/Pandas installation?       2066\n",
       "460    iterating row by row through a pandas dataframe       2052\n",
       "367  How to get the correlation between two timeser...       2035"
      ]
     },
     "execution_count": 69,
     "metadata": {},
     "output_type": "execute_result"
    }
   ],
   "source": [
    "questions.sort_values(by='ViewCount', ascending=False)[:10][['Title', 'ViewCount']]"
   ]
  },
  {
   "cell_type": "markdown",
   "metadata": {},
   "source": [
    "#### Stack and unstack"
   ]
  },
  {
   "cell_type": "code",
   "execution_count": 70,
   "metadata": {},
   "outputs": [
    {
     "data": {
      "text/plain": [
       "Complaint Type          Borough      \n",
       "Collection Truck Noise  BROOKLYN            6.0\n",
       "                        MANHATTAN           5.0\n",
       "                        QUEENS              4.0\n",
       "                        STATEN ISLAND       1.0\n",
       "Noise                   BRONX             115.0\n",
       "                        BROOKLYN          536.0\n",
       "                        MANHATTAN        1061.0\n",
       "                        QUEENS            400.0\n",
       "                        STATEN ISLAND      72.0\n",
       "Noise - Commercial      BRONX             163.0\n",
       "dtype: float64"
      ]
     },
     "execution_count": 70,
     "metadata": {},
     "output_type": "execute_result"
    }
   ],
   "source": [
    "stacked = pivoted.stack()\n",
    "stacked[:10]"
   ]
  },
  {
   "cell_type": "code",
   "execution_count": 71,
   "metadata": {},
   "outputs": [
    {
     "data": {
      "text/html": [
       "<div>\n",
       "<style>\n",
       "    .dataframe thead tr:only-child th {\n",
       "        text-align: right;\n",
       "    }\n",
       "\n",
       "    .dataframe thead th {\n",
       "        text-align: left;\n",
       "    }\n",
       "\n",
       "    .dataframe tbody tr th {\n",
       "        vertical-align: top;\n",
       "    }\n",
       "</style>\n",
       "<table border=\"1\" class=\"dataframe\">\n",
       "  <thead>\n",
       "    <tr style=\"text-align: right;\">\n",
       "      <th>Borough</th>\n",
       "      <th>BRONX</th>\n",
       "      <th>BROOKLYN</th>\n",
       "      <th>MANHATTAN</th>\n",
       "      <th>QUEENS</th>\n",
       "      <th>STATEN ISLAND</th>\n",
       "    </tr>\n",
       "    <tr>\n",
       "      <th>Complaint Type</th>\n",
       "      <th></th>\n",
       "      <th></th>\n",
       "      <th></th>\n",
       "      <th></th>\n",
       "      <th></th>\n",
       "    </tr>\n",
       "  </thead>\n",
       "  <tbody>\n",
       "    <tr>\n",
       "      <th>Collection Truck Noise</th>\n",
       "      <td>NaN</td>\n",
       "      <td>6.0</td>\n",
       "      <td>5.0</td>\n",
       "      <td>4.0</td>\n",
       "      <td>1.0</td>\n",
       "    </tr>\n",
       "    <tr>\n",
       "      <th>Noise</th>\n",
       "      <td>115.0</td>\n",
       "      <td>536.0</td>\n",
       "      <td>1061.0</td>\n",
       "      <td>400.0</td>\n",
       "      <td>72.0</td>\n",
       "    </tr>\n",
       "    <tr>\n",
       "      <th>Noise - Commercial</th>\n",
       "      <td>163.0</td>\n",
       "      <td>698.0</td>\n",
       "      <td>1223.0</td>\n",
       "      <td>406.0</td>\n",
       "      <td>42.0</td>\n",
       "    </tr>\n",
       "  </tbody>\n",
       "</table>\n",
       "</div>"
      ],
      "text/plain": [
       "Borough                 BRONX  BROOKLYN  MANHATTAN  QUEENS  STATEN ISLAND\n",
       "Complaint Type                                                           \n",
       "Collection Truck Noise    NaN       6.0        5.0     4.0            1.0\n",
       "Noise                   115.0     536.0     1061.0   400.0           72.0\n",
       "Noise - Commercial      163.0     698.0     1223.0   406.0           42.0"
      ]
     },
     "execution_count": 71,
     "metadata": {},
     "output_type": "execute_result"
    }
   ],
   "source": [
    "stacked.unstack('Borough')[:3]"
   ]
  },
  {
   "cell_type": "code",
   "execution_count": 72,
   "metadata": {},
   "outputs": [
    {
     "data": {
      "text/html": [
       "<div>\n",
       "<style>\n",
       "    .dataframe thead tr:only-child th {\n",
       "        text-align: right;\n",
       "    }\n",
       "\n",
       "    .dataframe thead th {\n",
       "        text-align: left;\n",
       "    }\n",
       "\n",
       "    .dataframe tbody tr th {\n",
       "        vertical-align: top;\n",
       "    }\n",
       "</style>\n",
       "<table border=\"1\" class=\"dataframe\">\n",
       "  <thead>\n",
       "    <tr style=\"text-align: right;\">\n",
       "      <th>Complaint Type</th>\n",
       "      <th>Collection Truck Noise</th>\n",
       "      <th>Noise</th>\n",
       "      <th>Noise - Commercial</th>\n",
       "      <th>Noise - Helicopter</th>\n",
       "      <th>Noise - House of Worship</th>\n",
       "      <th>Noise - Park</th>\n",
       "      <th>Noise - Street/Sidewalk</th>\n",
       "      <th>Noise - Vehicle</th>\n",
       "    </tr>\n",
       "    <tr>\n",
       "      <th>Borough</th>\n",
       "      <th></th>\n",
       "      <th></th>\n",
       "      <th></th>\n",
       "      <th></th>\n",
       "      <th></th>\n",
       "      <th></th>\n",
       "      <th></th>\n",
       "      <th></th>\n",
       "    </tr>\n",
       "  </thead>\n",
       "  <tbody>\n",
       "    <tr>\n",
       "      <th>BRONX</th>\n",
       "      <td>NaN</td>\n",
       "      <td>115.0</td>\n",
       "      <td>163.0</td>\n",
       "      <td>NaN</td>\n",
       "      <td>1.0</td>\n",
       "      <td>2.0</td>\n",
       "      <td>109.0</td>\n",
       "      <td>53.0</td>\n",
       "    </tr>\n",
       "    <tr>\n",
       "      <th>BROOKLYN</th>\n",
       "      <td>6.0</td>\n",
       "      <td>536.0</td>\n",
       "      <td>698.0</td>\n",
       "      <td>21.0</td>\n",
       "      <td>24.0</td>\n",
       "      <td>NaN</td>\n",
       "      <td>208.0</td>\n",
       "      <td>183.0</td>\n",
       "    </tr>\n",
       "    <tr>\n",
       "      <th>MANHATTAN</th>\n",
       "      <td>5.0</td>\n",
       "      <td>1061.0</td>\n",
       "      <td>1223.0</td>\n",
       "      <td>63.0</td>\n",
       "      <td>3.0</td>\n",
       "      <td>17.0</td>\n",
       "      <td>609.0</td>\n",
       "      <td>228.0</td>\n",
       "    </tr>\n",
       "  </tbody>\n",
       "</table>\n",
       "</div>"
      ],
      "text/plain": [
       "Complaint Type  Collection Truck Noise   Noise  Noise - Commercial  \\\n",
       "Borough                                                              \n",
       "BRONX                              NaN   115.0               163.0   \n",
       "BROOKLYN                           6.0   536.0               698.0   \n",
       "MANHATTAN                          5.0  1061.0              1223.0   \n",
       "\n",
       "Complaint Type  Noise - Helicopter  Noise - House of Worship  Noise - Park  \\\n",
       "Borough                                                                      \n",
       "BRONX                          NaN                       1.0           2.0   \n",
       "BROOKLYN                      21.0                      24.0           NaN   \n",
       "MANHATTAN                     63.0                       3.0          17.0   \n",
       "\n",
       "Complaint Type  Noise - Street/Sidewalk  Noise - Vehicle  \n",
       "Borough                                                   \n",
       "BRONX                             109.0             53.0  \n",
       "BROOKLYN                          208.0            183.0  \n",
       "MANHATTAN                         609.0            228.0  "
      ]
     },
     "execution_count": 72,
     "metadata": {},
     "output_type": "execute_result"
    }
   ],
   "source": [
    "stacked.unstack('Complaint Type')[:3]"
   ]
  },
  {
   "cell_type": "code",
   "execution_count": 73,
   "metadata": {},
   "outputs": [
    {
     "data": {
      "text/html": [
       "<div>\n",
       "<style>\n",
       "    .dataframe thead tr:only-child th {\n",
       "        text-align: right;\n",
       "    }\n",
       "\n",
       "    .dataframe thead th {\n",
       "        text-align: left;\n",
       "    }\n",
       "\n",
       "    .dataframe tbody tr th {\n",
       "        vertical-align: top;\n",
       "    }\n",
       "</style>\n",
       "<table border=\"1\" class=\"dataframe\">\n",
       "  <thead>\n",
       "    <tr style=\"text-align: right;\">\n",
       "      <th></th>\n",
       "      <th>Most common complaint</th>\n",
       "      <th>Num complaints</th>\n",
       "    </tr>\n",
       "    <tr>\n",
       "      <th>Borough</th>\n",
       "      <th></th>\n",
       "      <th></th>\n",
       "    </tr>\n",
       "  </thead>\n",
       "  <tbody>\n",
       "    <tr>\n",
       "      <th>BRONX</th>\n",
       "      <td>Noise - Commercial</td>\n",
       "      <td>163.0</td>\n",
       "    </tr>\n",
       "    <tr>\n",
       "      <th>BROOKLYN</th>\n",
       "      <td>Noise - Commercial</td>\n",
       "      <td>698.0</td>\n",
       "    </tr>\n",
       "    <tr>\n",
       "      <th>MANHATTAN</th>\n",
       "      <td>Noise - Commercial</td>\n",
       "      <td>1223.0</td>\n",
       "    </tr>\n",
       "    <tr>\n",
       "      <th>QUEENS</th>\n",
       "      <td>Noise - Commercial</td>\n",
       "      <td>406.0</td>\n",
       "    </tr>\n",
       "    <tr>\n",
       "      <th>STATEN ISLAND</th>\n",
       "      <td>Noise</td>\n",
       "      <td>72.0</td>\n",
       "    </tr>\n",
       "  </tbody>\n",
       "</table>\n",
       "</div>"
      ],
      "text/plain": [
       "              Most common complaint  Num complaints\n",
       "Borough                                            \n",
       "BRONX            Noise - Commercial           163.0\n",
       "BROOKLYN         Noise - Commercial           698.0\n",
       "MANHATTAN        Noise - Commercial          1223.0\n",
       "QUEENS           Noise - Commercial           406.0\n",
       "STATEN ISLAND                 Noise            72.0"
      ]
     },
     "execution_count": 73,
     "metadata": {},
     "output_type": "execute_result"
    }
   ],
   "source": [
    "# How do we get both together?\n",
    "most_common = DataFrame({'Most common complaint':pivoted.idxmax(), 'Num complaints':pivoted.max()})\n",
    "most_common"
   ]
  },
  {
   "cell_type": "markdown",
   "metadata": {
    "collapsed": true
   },
   "source": [
    "## Visualization"
   ]
  },
  {
   "cell_type": "code",
   "execution_count": 74,
   "metadata": {
    "scrolled": true
   },
   "outputs": [
    {
     "data": {
      "text/html": [
       "<div>\n",
       "<style>\n",
       "    .dataframe thead tr:only-child th {\n",
       "        text-align: right;\n",
       "    }\n",
       "\n",
       "    .dataframe thead th {\n",
       "        text-align: left;\n",
       "    }\n",
       "\n",
       "    .dataframe tbody tr th {\n",
       "        vertical-align: top;\n",
       "    }\n",
       "</style>\n",
       "<table border=\"1\" class=\"dataframe\">\n",
       "  <thead>\n",
       "    <tr style=\"text-align: right;\">\n",
       "      <th></th>\n",
       "      <th>type</th>\n",
       "      <th>mpg</th>\n",
       "      <th>cyl</th>\n",
       "      <th>disp</th>\n",
       "      <th>hp</th>\n",
       "      <th>wt</th>\n",
       "      <th>speed</th>\n",
       "      <th>wt.1</th>\n",
       "    </tr>\n",
       "  </thead>\n",
       "  <tbody>\n",
       "    <tr>\n",
       "      <th>0</th>\n",
       "      <td>AMC Ambassador Brougham</td>\n",
       "      <td>13.0</td>\n",
       "      <td>8</td>\n",
       "      <td>360.0</td>\n",
       "      <td>175.0</td>\n",
       "      <td>3821</td>\n",
       "      <td>11.0</td>\n",
       "      <td>73</td>\n",
       "    </tr>\n",
       "    <tr>\n",
       "      <th>1</th>\n",
       "      <td>AMC Ambassador DPL</td>\n",
       "      <td>15.0</td>\n",
       "      <td>8</td>\n",
       "      <td>390.0</td>\n",
       "      <td>190.0</td>\n",
       "      <td>3850</td>\n",
       "      <td>8.5</td>\n",
       "      <td>70</td>\n",
       "    </tr>\n",
       "    <tr>\n",
       "      <th>2</th>\n",
       "      <td>AMC Ambassador SST</td>\n",
       "      <td>17.0</td>\n",
       "      <td>8</td>\n",
       "      <td>304.0</td>\n",
       "      <td>150.0</td>\n",
       "      <td>3672</td>\n",
       "      <td>11.5</td>\n",
       "      <td>72</td>\n",
       "    </tr>\n",
       "    <tr>\n",
       "      <th>3</th>\n",
       "      <td>AMC Concord DL 6</td>\n",
       "      <td>20.2</td>\n",
       "      <td>6</td>\n",
       "      <td>232.0</td>\n",
       "      <td>90.0</td>\n",
       "      <td>3265</td>\n",
       "      <td>18.2</td>\n",
       "      <td>79</td>\n",
       "    </tr>\n",
       "    <tr>\n",
       "      <th>4</th>\n",
       "      <td>AMC Concord DL</td>\n",
       "      <td>18.1</td>\n",
       "      <td>6</td>\n",
       "      <td>258.0</td>\n",
       "      <td>120.0</td>\n",
       "      <td>3410</td>\n",
       "      <td>15.1</td>\n",
       "      <td>78</td>\n",
       "    </tr>\n",
       "  </tbody>\n",
       "</table>\n",
       "</div>"
      ],
      "text/plain": [
       "                      type   mpg  cyl   disp     hp    wt  speed  wt.1\n",
       "0  AMC Ambassador Brougham  13.0    8  360.0  175.0  3821   11.0    73\n",
       "1       AMC Ambassador DPL  15.0    8  390.0  190.0  3850    8.5    70\n",
       "2       AMC Ambassador SST  17.0    8  304.0  150.0  3672   11.5    72\n",
       "3         AMC Concord DL 6  20.2    6  232.0   90.0  3265   18.2    79\n",
       "4           AMC Concord DL  18.1    6  258.0  120.0  3410   15.1    78"
      ]
     },
     "execution_count": 74,
     "metadata": {},
     "output_type": "execute_result"
    }
   ],
   "source": [
    "cars = pd.read_csv('/Users/meganchen/Desktop/MIS_381/dataset/cars.csv').dropna()\n",
    "cars[:5]"
   ]
  },
  {
   "cell_type": "markdown",
   "metadata": {},
   "source": [
    "#### Scatter Plot"
   ]
  },
  {
   "cell_type": "code",
   "execution_count": 75,
   "metadata": {},
   "outputs": [
    {
     "data": {
      "image/png": "[encoded data removed]",
      "text/plain": [
       "<matplotlib.figure.Figure at 0x1122553d0>"
      ]
     },
     "metadata": {},
     "output_type": "display_data"
    }
   ],
   "source": [
    "x, marker='o', color='blue', linestyle='None')\n",
    "xlabel('Weight')\n",
    "ylabel('Miles per Gallon')\n",
    "title('Weight versus Efficiency')\n",
    "show()"
   ]
  },
  {
   "cell_type": "code",
   "execution_count": 76,
   "metadata": {},
   "outputs": [
    {
     "data": {
      "image/png": "[encoded data removed]",
      "text/plain": [
       "<matplotlib.figure.Figure at 0x111a95b10>"
      ]
     },
     "metadata": {},
     "output_type": "display_data"
    }
   ],
   "source": [
    "c4 = cars[cars['cyl'] == 4]\n",
    "c6 = cars[cars['cyl'] == 6]\n",
    "c8 = cars[cars['cyl'] == 8]\n",
    "plot(c4['wt'], c4['mpg'], marker='o', linestyle='None', label='4 cylinder')\n",
    "plot(c6['wt'], c6['mpg'], marker='o', linestyle='None', label='6 cylinder')\n",
    "plot(c8['wt'], c8['mpg'], marker='o', linestyle='None', label='8 cylinder')\n",
    "xlabel('Weight')\n",
    "ylabel('Miles per Gallon')\n",
    "legend(numpoints=1, loc='best')\n",
    "show()"
   ]
  },
  {
   "cell_type": "code",
   "execution_count": 77,
   "metadata": {},
   "outputs": [
    {
     "data": {
      "image/png": "[encoded data removed]",
      "text/plain": [
       "<matplotlib.figure.Figure at 0x112729390>"
      ]
     },
     "metadata": {},
     "output_type": "display_data"
    }
   ],
   "source": [
    "# First, create a blank figure and \"axis\" objects\n",
    "fig, (ax1, ax2, ax3) = subplots(nrows=3,\n",
    "                                ncols=1,\n",
    "                                sharex=True,\n",
    "                                sharey=True,\n",
    "                                figsize=(8, 12))\n",
    "\n",
    "# Each \"axis\" object corresponds to one subplot\n",
    "# Fill in the subplots.\n",
    "ax1.plot(c4['wt'], c4['mpg'], marker='o', color='blue', linestyle='None')\n",
    "ax1.set_title('4 cylinder')\n",
    "ax1.set_ylabel('MPG')\n",
    "\n",
    "ax2.plot(c6['wt'], c6['mpg'], marker='o', color='green', linestyle='None')\n",
    "ax2.set_title('6 cylinder')\n",
    "ax2.set_ylabel('MPG')\n",
    "\n",
    "ax3.plot(c8['wt'], c8['mpg'], marker='o', color='red', linestyle='None')\n",
    "ax3.set_title('8 cylinder')\n",
    "ax3.set_ylabel('MPG')\n",
    "ax3.set_xlabel('Weight')\n",
    "\n",
    "show()"
   ]
  },
  {
   "cell_type": "markdown",
   "metadata": {},
   "source": [
    "#### Line Plot"
   ]
  },
  {
   "cell_type": "code",
   "execution_count": 78,
   "metadata": {},
   "outputs": [
    {
     "data": {
      "text/html": [
       "<div>\n",
       "<style>\n",
       "    .dataframe thead tr:only-child th {\n",
       "        text-align: right;\n",
       "    }\n",
       "\n",
       "    .dataframe thead th {\n",
       "        text-align: left;\n",
       "    }\n",
       "\n",
       "    .dataframe tbody tr th {\n",
       "        vertical-align: top;\n",
       "    }\n",
       "</style>\n",
       "<table border=\"1\" class=\"dataframe\">\n",
       "  <thead>\n",
       "    <tr style=\"text-align: right;\">\n",
       "      <th></th>\n",
       "      <th>year</th>\n",
       "      <th>F</th>\n",
       "      <th>M</th>\n",
       "    </tr>\n",
       "  </thead>\n",
       "  <tbody>\n",
       "    <tr>\n",
       "      <th>0</th>\n",
       "      <td>1880</td>\n",
       "      <td>90994.0</td>\n",
       "      <td>110492.0</td>\n",
       "    </tr>\n",
       "    <tr>\n",
       "      <th>1</th>\n",
       "      <td>1881</td>\n",
       "      <td>91955.0</td>\n",
       "      <td>100747.0</td>\n",
       "    </tr>\n",
       "    <tr>\n",
       "      <th>2</th>\n",
       "      <td>1882</td>\n",
       "      <td>107851.0</td>\n",
       "      <td>113687.0</td>\n",
       "    </tr>\n",
       "    <tr>\n",
       "      <th>3</th>\n",
       "      <td>1883</td>\n",
       "      <td>112322.0</td>\n",
       "      <td>104631.0</td>\n",
       "    </tr>\n",
       "    <tr>\n",
       "      <th>4</th>\n",
       "      <td>1884</td>\n",
       "      <td>129022.0</td>\n",
       "      <td>114445.0</td>\n",
       "    </tr>\n",
       "  </tbody>\n",
       "</table>\n",
       "</div>"
      ],
      "text/plain": [
       "   year         F         M\n",
       "0  1880   90994.0  110492.0\n",
       "1  1881   91955.0  100747.0\n",
       "2  1882  107851.0  113687.0\n",
       "3  1883  112322.0  104631.0\n",
       "4  1884  129022.0  114445.0"
      ]
     },
     "execution_count": 78,
     "metadata": {},
     "output_type": "execute_result"
    }
   ],
   "source": [
    "# This dataset contains the number of births of boys and girls\n",
    "# from 1880-2008\n",
    "births = pd.read_csv('/Users/meganchen/Desktop/MIS_381/dataset/births.csv')\n",
    "births[:5]"
   ]
  },
  {
   "cell_type": "code",
   "execution_count": 79,
   "metadata": {},
   "outputs": [
    {
     "data": {
      "image/png": "[encoded data removed]",
      "text/plain": [
       "<matplotlib.figure.Figure at 0x112746850>"
      ]
     },
     "metadata": {},
     "output_type": "display_data"
    }
   ],
   "source": [
    "plot(births['year'], births['M'], marker='None', linestyle='-', label='boys')\n",
    "plot(births['year'], births['F'], marker='None', linestyle='-', label='girls')\n",
    "xlabel('Year')\n",
    "ylabel('Number of births')\n",
    "legend(loc='best')\n",
    "show()"
   ]
  },
  {
   "cell_type": "code",
   "execution_count": 80,
   "metadata": {},
   "outputs": [
    {
     "name": "stdout",
     "output_type": "stream",
     "text": [
      "mpg = 46.2165 + -0.0076 * wt\n"
     ]
    },
    {
     "name": "stderr",
     "output_type": "stream",
     "text": [
      "/usr/local/lib/python2.7/site-packages/statsmodels/compat/pandas.py:56: FutureWarning: The pandas.core.datetools module is deprecated and will be removed in a future version. Please use the pandas.tseries module instead.\n",
      "  from pandas.core import datetools\n"
     ]
    }
   ],
   "source": [
    "import statsmodels.api as sm\n",
    "from patsy import dmatrices\n",
    "y, X = dmatrices('mpg ~ wt', cars, return_type='dataframe')\n",
    "result = sm.OLS(y, X).fit()\n",
    "\n",
    "slope = result.params['wt']\n",
    "intercept = result.params['Intercept']\n",
    "print 'mpg = {:.4f} + {:.4f} * wt'.format(intercept, slope)"
   ]
  },
  {
   "cell_type": "code",
   "execution_count": 81,
   "metadata": {},
   "outputs": [
    {
     "data": {
      "text/plain": [
       "wt\n",
       "3821    16.996029\n",
       "3850    16.774256\n",
       "3672    18.135483\n",
       "3265    21.247951\n",
       "3410    20.139087\n",
       "dtype: float64"
      ]
     },
     "execution_count": 81,
     "metadata": {},
     "output_type": "execute_result"
    }
   ],
   "source": [
    "predicted = cars['wt'] * slope + intercept\n",
    "regression_predictions = Series(predicted.values,\n",
    "                                index=cars['wt'])\n",
    "regression_predictions[:5]"
   ]
  },
  {
   "cell_type": "code",
   "execution_count": 82,
   "metadata": {},
   "outputs": [
    {
     "data": {
      "image/png": "[encoded data removed]",
      "text/plain": [
       "<matplotlib.figure.Figure at 0x112746d90>"
      ]
     },
     "metadata": {},
     "output_type": "display_data"
    }
   ],
   "source": [
    "plot(c4['wt'], c4['mpg'], marker='o', linestyle='None', label='4 cylinder')\n",
    "plot(c6['wt'], c6['mpg'], marker='o', linestyle='None', label='6 cylinder')\n",
    "plot(c8['wt'], c8['mpg'], marker='o', linestyle='None', label='8 cylinder')\n",
    "\n",
    "# New plot command for the regression predictions\n",
    "regression_predictions.plot(label='Regression', linewidth=2)\n",
    "\n",
    "xlabel('Weight')\n",
    "ylabel('Miles per Gallon')\n",
    "legend(numpoints=1, loc='best')\n",
    "show()"
   ]
  },
  {
   "cell_type": "code",
   "execution_count": 83,
   "metadata": {},
   "outputs": [
    {
     "data": {
      "text/plain": [
       "<matplotlib.text.Text at 0x112751b50>"
      ]
     },
     "execution_count": 83,
     "metadata": {},
     "output_type": "execute_result"
    },
    {
     "data": {
      "image/png": "[encoded data removed]",
      "text/plain": [
       "<matplotlib.figure.Figure at 0x113921ed0>"
      ]
     },
     "metadata": {},
     "output_type": "display_data"
    }
   ],
   "source": [
    "cars['mpg'].hist()\n",
    "xlabel('Miles per gallon')\n",
    "ylabel('Frequency')"
   ]
  },
  {
   "cell_type": "code",
   "execution_count": 84,
   "metadata": {},
   "outputs": [
    {
     "data": {
      "text/plain": [
       "<matplotlib.text.Text at 0x117c32810>"
      ]
     },
     "execution_count": 84,
     "metadata": {},
     "output_type": "execute_result"
    },
    {
     "data": {
      "image/png": "[encoded data removed]",
      "text/plain": [
       "<matplotlib.figure.Figure at 0x117ad67d0>"
      ]
     },
     "metadata": {},
     "output_type": "display_data"
    }
   ],
   "source": [
    "fig, (ax1, ax2) = subplots(nrows=1,\n",
    "                           ncols=2,\n",
    "                           sharey=True,\n",
    "                           figsize=(6, 4))\n",
    "\n",
    "# Plot the MPG histogram on the first subplot\n",
    "cars['mpg'].hist(ax=ax1, bins=20)\n",
    "ax1.set_xlabel('MPG')\n",
    "ax1.set_ylabel('Number of cars')\n",
    "\n",
    "# Plot the speed histogram on the second subplot\n",
    "cars['speed'].hist(ax=ax2, bins=20)\n",
    "ax2.set_xlabel('Speed')"
   ]
  },
  {
   "cell_type": "code",
   "execution_count": 85,
   "metadata": {},
   "outputs": [
    {
     "data": {
      "text/plain": [
       "(-1.1055161340232746,\n",
       " 1.1002626730487273,\n",
       " -1.1100634242242517,\n",
       " 1.103534683151302)"
      ]
     },
     "execution_count": 85,
     "metadata": {},
     "output_type": "execute_result"
    },
    {
     "data": {
      "image/png": "[encoded data removed]",
      "text/plain": [
       "<matplotlib.figure.Figure at 0x117a94450>"
      ]
     },
     "metadata": {},
     "output_type": "display_data"
    }
   ],
   "source": [
    "cylinder_counts = cars['cyl'].value_counts()\n",
    "cylinder_percentages = cylinder_counts * 100.0 / sum(cylinder_counts)\n",
    "pie(cylinder_percentages.values,\n",
    "    labels=cylinder_percentages.index.values,\n",
    "    shadow=True)\n",
    "axis('equal')"
   ]
  },
  {
   "cell_type": "code",
   "execution_count": 86,
   "metadata": {
    "collapsed": true
   },
   "outputs": [],
   "source": [
    "names = pd.read_csv('/Users/meganchen/Desktop/MIS_381/dataset/baby-names-top1000.csv')"
   ]
  },
  {
   "cell_type": "code",
   "execution_count": 87,
   "metadata": {
    "collapsed": true
   },
   "outputs": [],
   "source": [
    "boy_names = names[names['sex'] == 'boy']\n",
    "year_name_pivot = pd.pivot_table(boy_names,\n",
    "                                 index='year',\n",
    "                                 columns='name',\n",
    "                                 values='percent')\n"
   ]
  },
  {
   "cell_type": "code",
   "execution_count": 88,
   "metadata": {},
   "outputs": [
    {
     "data": {
      "text/plain": [
       "array([<matplotlib.axes._subplots.AxesSubplot object at 0x117b07e50>,\n",
       "       <matplotlib.axes._subplots.AxesSubplot object at 0x113026850>,\n",
       "       <matplotlib.axes._subplots.AxesSubplot object at 0x1130ac750>,\n",
       "       <matplotlib.axes._subplots.AxesSubplot object at 0x1131c3090>], dtype=object)"
      ]
     },
     "execution_count": 88,
     "metadata": {},
     "output_type": "execute_result"
    },
    {
     "data": {
      "image/png": "[encoded data removed]",
      "text/plain": [
       "<matplotlib.figure.Figure at 0x112bc13d0>"
      ]
     },
     "metadata": {},
     "output_type": "display_data"
    }
   ],
   "source": [
    "year_name_pivot[['Sammy', 'Arturo', 'Emery', 'Walker']].plot(subplots=True, figsize=(8, 12))"
   ]
  },
  {
   "cell_type": "markdown",
   "metadata": {},
   "source": [
    "## GroupBy"
   ]
  },
  {
   "cell_type": "code",
   "execution_count": 89,
   "metadata": {},
   "outputs": [
    {
     "data": {
      "text/html": [
       "<div>\n",
       "<style>\n",
       "    .dataframe thead tr:only-child th {\n",
       "        text-align: right;\n",
       "    }\n",
       "\n",
       "    .dataframe thead th {\n",
       "        text-align: left;\n",
       "    }\n",
       "\n",
       "    .dataframe tbody tr th {\n",
       "        vertical-align: top;\n",
       "    }\n",
       "</style>\n",
       "<table border=\"1\" class=\"dataframe\">\n",
       "  <thead>\n",
       "    <tr style=\"text-align: right;\">\n",
       "      <th></th>\n",
       "      <th>speed</th>\n",
       "    </tr>\n",
       "    <tr>\n",
       "      <th>cyl</th>\n",
       "      <th></th>\n",
       "    </tr>\n",
       "  </thead>\n",
       "  <tbody>\n",
       "    <tr>\n",
       "      <th>3</th>\n",
       "      <td>13.250000</td>\n",
       "    </tr>\n",
       "    <tr>\n",
       "      <th>4</th>\n",
       "      <td>16.581910</td>\n",
       "    </tr>\n",
       "    <tr>\n",
       "      <th>5</th>\n",
       "      <td>18.633333</td>\n",
       "    </tr>\n",
       "    <tr>\n",
       "      <th>6</th>\n",
       "      <td>16.254217</td>\n",
       "    </tr>\n",
       "    <tr>\n",
       "      <th>8</th>\n",
       "      <td>12.955340</td>\n",
       "    </tr>\n",
       "  </tbody>\n",
       "</table>\n",
       "</div>"
      ],
      "text/plain": [
       "         speed\n",
       "cyl           \n",
       "3    13.250000\n",
       "4    16.581910\n",
       "5    18.633333\n",
       "6    16.254217\n",
       "8    12.955340"
      ]
     },
     "execution_count": 89,
     "metadata": {},
     "output_type": "execute_result"
    }
   ],
   "source": [
    "cylinder_speed_pivot = pd.pivot_table(cars, \n",
    "                                      index='cyl',\n",
    "                                      columns=None,\n",
    "                                      values='speed',\n",
    "                                      aggfunc='mean')\n",
    "cylinder_speed_pivot"
   ]
  },
  {
   "cell_type": "code",
   "execution_count": 90,
   "metadata": {},
   "outputs": [
    {
     "data": {
      "text/html": [
       "<div>\n",
       "<style>\n",
       "    .dataframe thead tr:only-child th {\n",
       "        text-align: right;\n",
       "    }\n",
       "\n",
       "    .dataframe thead th {\n",
       "        text-align: left;\n",
       "    }\n",
       "\n",
       "    .dataframe tbody tr th {\n",
       "        vertical-align: top;\n",
       "    }\n",
       "</style>\n",
       "<table border=\"1\" class=\"dataframe\">\n",
       "  <thead>\n",
       "    <tr style=\"text-align: right;\">\n",
       "      <th></th>\n",
       "      <th>cyl</th>\n",
       "      <th>speed</th>\n",
       "    </tr>\n",
       "  </thead>\n",
       "  <tbody>\n",
       "    <tr>\n",
       "      <th>0</th>\n",
       "      <td>8</td>\n",
       "      <td>11.0</td>\n",
       "    </tr>\n",
       "    <tr>\n",
       "      <th>1</th>\n",
       "      <td>8</td>\n",
       "      <td>8.5</td>\n",
       "    </tr>\n",
       "    <tr>\n",
       "      <th>2</th>\n",
       "      <td>8</td>\n",
       "      <td>11.5</td>\n",
       "    </tr>\n",
       "    <tr>\n",
       "      <th>3</th>\n",
       "      <td>6</td>\n",
       "      <td>18.2</td>\n",
       "    </tr>\n",
       "    <tr>\n",
       "      <th>4</th>\n",
       "      <td>6</td>\n",
       "      <td>15.1</td>\n",
       "    </tr>\n",
       "  </tbody>\n",
       "</table>\n",
       "</div>"
      ],
      "text/plain": [
       "   cyl  speed\n",
       "0    8   11.0\n",
       "1    8    8.5\n",
       "2    8   11.5\n",
       "3    6   18.2\n",
       "4    6   15.1"
      ]
     },
     "execution_count": 90,
     "metadata": {},
     "output_type": "execute_result"
    }
   ],
   "source": [
    "cylinder_speeds = cars[['cyl', 'speed']]\n",
    "cylinder_speeds[:5]\n"
   ]
  },
  {
   "cell_type": "code",
   "execution_count": 91,
   "metadata": {},
   "outputs": [
    {
     "name": "stdout",
     "output_type": "stream",
     "text": [
      "group name = 3\n",
      "     cyl  speed\n",
      "240    3   13.5\n",
      "248    3   13.5\n",
      "249    3   13.5\n",
      "250    3   12.5\n",
      "group name = 4\n",
      "    cyl  speed\n",
      "7     4   20.1\n",
      "28    4   15.0\n",
      "29    4   14.0\n",
      "30    4   15.0\n",
      "31    4   14.5\n",
      "group name = 5\n",
      "     cyl  speed\n",
      "33     5   15.9\n",
      "34     5   19.9\n",
      "253    5   20.1\n",
      "group name = 6\n",
      "   cyl  speed\n",
      "3    6   18.2\n",
      "4    6   15.1\n",
      "6    6   17.2\n",
      "8    6   15.0\n",
      "9    6   13.0\n",
      "group name = 8\n",
      "    cyl  speed\n",
      "0     8   11.0\n",
      "1     8    8.5\n",
      "2     8   11.5\n",
      "17    8   15.5\n",
      "18    8   12.5\n"
     ]
    }
   ],
   "source": [
    "grps = cylinder_speeds.groupby('cyl') #important\n",
    "for key, group in grps:\n",
    "    print 'group name =', key\n",
    "    print group[:5]"
   ]
  },
  {
   "cell_type": "code",
   "execution_count": 92,
   "metadata": {},
   "outputs": [
    {
     "name": "stdout",
     "output_type": "stream",
     "text": [
      "mean for 3 is 13.25\n",
      "mean for 4 is 16.5819095477\n",
      "mean for 5 is 18.6333333333\n",
      "mean for 6 is 16.2542168675\n",
      "mean for 8 is 12.9553398058\n"
     ]
    }
   ],
   "source": [
    "# Let us find the mean speed in each group\n",
    "group_names = []\n",
    "group_means = []\n",
    "for name, group in grps:\n",
    "    mean = group['speed'].mean()\n",
    "    print 'mean for', name, 'is', mean\n",
    "    \n",
    "    group_names.append(name)\n",
    "    group_means.append(mean)"
   ]
  },
  {
   "cell_type": "code",
   "execution_count": 93,
   "metadata": {},
   "outputs": [
    {
     "data": {
      "text/plain": [
       "3    13.250000\n",
       "4    16.581910\n",
       "5    18.633333\n",
       "6    16.254217\n",
       "8    12.955340\n",
       "dtype: float64"
      ]
     },
     "execution_count": 93,
     "metadata": {},
     "output_type": "execute_result"
    }
   ],
   "source": [
    "Series(group_means, index=group_names)"
   ]
  },
  {
   "cell_type": "code",
   "execution_count": 94,
   "metadata": {},
   "outputs": [
    {
     "data": {
      "text/html": [
       "<div>\n",
       "<style>\n",
       "    .dataframe thead tr:only-child th {\n",
       "        text-align: right;\n",
       "    }\n",
       "\n",
       "    .dataframe thead th {\n",
       "        text-align: left;\n",
       "    }\n",
       "\n",
       "    .dataframe tbody tr th {\n",
       "        vertical-align: top;\n",
       "    }\n",
       "</style>\n",
       "<table border=\"1\" class=\"dataframe\">\n",
       "  <thead>\n",
       "    <tr style=\"text-align: right;\">\n",
       "      <th></th>\n",
       "      <th>speed</th>\n",
       "    </tr>\n",
       "    <tr>\n",
       "      <th>cyl</th>\n",
       "      <th></th>\n",
       "    </tr>\n",
       "  </thead>\n",
       "  <tbody>\n",
       "    <tr>\n",
       "      <th>3</th>\n",
       "      <td>13.250000</td>\n",
       "    </tr>\n",
       "    <tr>\n",
       "      <th>4</th>\n",
       "      <td>16.581910</td>\n",
       "    </tr>\n",
       "    <tr>\n",
       "      <th>5</th>\n",
       "      <td>18.633333</td>\n",
       "    </tr>\n",
       "    <tr>\n",
       "      <th>6</th>\n",
       "      <td>16.254217</td>\n",
       "    </tr>\n",
       "    <tr>\n",
       "      <th>8</th>\n",
       "      <td>12.955340</td>\n",
       "    </tr>\n",
       "  </tbody>\n",
       "</table>\n",
       "</div>"
      ],
      "text/plain": [
       "         speed\n",
       "cyl           \n",
       "3    13.250000\n",
       "4    16.581910\n",
       "5    18.633333\n",
       "6    16.254217\n",
       "8    12.955340"
      ]
     },
     "execution_count": 94,
     "metadata": {},
     "output_type": "execute_result"
    }
   ],
   "source": [
    "cylinder_speeds.groupby('cyl').mean()"
   ]
  },
  {
   "cell_type": "code",
   "execution_count": 95,
   "metadata": {},
   "outputs": [
    {
     "data": {
      "text/plain": [
       "'AMC'"
      ]
     },
     "execution_count": 95,
     "metadata": {},
     "output_type": "execute_result"
    }
   ],
   "source": [
    "def get_manufacturer(s):\n",
    "    \"\"\"Extract manufacturer from car name\"\"\"\n",
    "    # Split the string by spaces, and pick the first\n",
    "    words_in_car_name = s.split()\n",
    "    manufacturer = words_in_car_name[0]\n",
    "    return manufacturer\n",
    "\n",
    "# Test it\n",
    "get_manufacturer('AMC Ambassador Brougham')"
   ]
  },
  {
   "cell_type": "code",
   "execution_count": 96,
   "metadata": {},
   "outputs": [
    {
     "data": {
      "text/html": [
       "<div>\n",
       "<style>\n",
       "    .dataframe thead tr:only-child th {\n",
       "        text-align: right;\n",
       "    }\n",
       "\n",
       "    .dataframe thead th {\n",
       "        text-align: left;\n",
       "    }\n",
       "\n",
       "    .dataframe tbody tr th {\n",
       "        vertical-align: top;\n",
       "    }\n",
       "</style>\n",
       "<table border=\"1\" class=\"dataframe\">\n",
       "  <thead>\n",
       "    <tr style=\"text-align: right;\">\n",
       "      <th></th>\n",
       "      <th></th>\n",
       "      <th>speed</th>\n",
       "    </tr>\n",
       "    <tr>\n",
       "      <th>cyl</th>\n",
       "      <th>manufacturer</th>\n",
       "      <th></th>\n",
       "    </tr>\n",
       "  </thead>\n",
       "  <tbody>\n",
       "    <tr>\n",
       "      <th rowspan=\"2\" valign=\"top\">3</th>\n",
       "      <th>Maxda</th>\n",
       "      <td>13.500000</td>\n",
       "    </tr>\n",
       "    <tr>\n",
       "      <th>Mazda</th>\n",
       "      <td>13.166667</td>\n",
       "    </tr>\n",
       "    <tr>\n",
       "      <th rowspan=\"6\" valign=\"top\">4</th>\n",
       "      <th>AMC</th>\n",
       "      <td>17.550000</td>\n",
       "    </tr>\n",
       "    <tr>\n",
       "      <th>Audi</th>\n",
       "      <td>15.160000</td>\n",
       "    </tr>\n",
       "    <tr>\n",
       "      <th>BMW</th>\n",
       "      <td>12.650000</td>\n",
       "    </tr>\n",
       "    <tr>\n",
       "      <th>Buick</th>\n",
       "      <td>15.733333</td>\n",
       "    </tr>\n",
       "    <tr>\n",
       "      <th>Chevrolet</th>\n",
       "      <td>18.253333</td>\n",
       "    </tr>\n",
       "    <tr>\n",
       "      <th>Chevy</th>\n",
       "      <td>19.400000</td>\n",
       "    </tr>\n",
       "  </tbody>\n",
       "</table>\n",
       "</div>"
      ],
      "text/plain": [
       "                      speed\n",
       "cyl manufacturer           \n",
       "3   Maxda         13.500000\n",
       "    Mazda         13.166667\n",
       "4   AMC           17.550000\n",
       "    Audi          15.160000\n",
       "    BMW           12.650000\n",
       "    Buick         15.733333\n",
       "    Chevrolet     18.253333\n",
       "    Chevy         19.400000"
      ]
     },
     "execution_count": 96,
     "metadata": {},
     "output_type": "execute_result"
    }
   ],
   "source": [
    "cars['manufacturer'] = cars['type'].map(get_manufacturer)\n",
    "mean_group_speed = cars.groupby(['cyl', 'manufacturer'])[['speed']].mean()\n",
    "mean_group_speed[:8]"
   ]
  },
  {
   "cell_type": "markdown",
   "metadata": {},
   "source": [
    "#### Hierarchical Index"
   ]
  },
  {
   "cell_type": "code",
   "execution_count": 97,
   "metadata": {},
   "outputs": [
    {
     "data": {
      "text/plain": [
       "speed    13.166667\n",
       "Name: (3, Mazda), dtype: float64"
      ]
     },
     "execution_count": 97,
     "metadata": {},
     "output_type": "execute_result"
    }
   ],
   "source": [
    "mean_group_speed.loc[(3, 'Mazda')]"
   ]
  },
  {
   "cell_type": "markdown",
   "metadata": {},
   "source": [
    "#### Group Aggregation"
   ]
  },
  {
   "cell_type": "code",
   "execution_count": 98,
   "metadata": {},
   "outputs": [
    {
     "data": {
      "text/html": [
       "<div>\n",
       "<style>\n",
       "    .dataframe thead tr:only-child th {\n",
       "        text-align: right;\n",
       "    }\n",
       "\n",
       "    .dataframe thead th {\n",
       "        text-align: left;\n",
       "    }\n",
       "\n",
       "    .dataframe tbody tr th {\n",
       "        vertical-align: top;\n",
       "    }\n",
       "</style>\n",
       "<table border=\"1\" class=\"dataframe\">\n",
       "  <thead>\n",
       "    <tr>\n",
       "      <th></th>\n",
       "      <th></th>\n",
       "      <th colspan=\"3\" halign=\"left\">speed</th>\n",
       "    </tr>\n",
       "    <tr>\n",
       "      <th></th>\n",
       "      <th></th>\n",
       "      <th>mean</th>\n",
       "      <th>count</th>\n",
       "      <th>speed_range</th>\n",
       "    </tr>\n",
       "    <tr>\n",
       "      <th>cyl</th>\n",
       "      <th>manufacturer</th>\n",
       "      <th></th>\n",
       "      <th></th>\n",
       "      <th></th>\n",
       "    </tr>\n",
       "  </thead>\n",
       "  <tbody>\n",
       "    <tr>\n",
       "      <th rowspan=\"2\" valign=\"top\">3</th>\n",
       "      <th>Maxda</th>\n",
       "      <td>13.500000</td>\n",
       "      <td>1</td>\n",
       "      <td>0.0</td>\n",
       "    </tr>\n",
       "    <tr>\n",
       "      <th>Mazda</th>\n",
       "      <td>13.166667</td>\n",
       "      <td>3</td>\n",
       "      <td>1.0</td>\n",
       "    </tr>\n",
       "    <tr>\n",
       "      <th rowspan=\"8\" valign=\"top\">4</th>\n",
       "      <th>AMC</th>\n",
       "      <td>17.550000</td>\n",
       "      <td>2</td>\n",
       "      <td>5.1</td>\n",
       "    </tr>\n",
       "    <tr>\n",
       "      <th>Audi</th>\n",
       "      <td>15.160000</td>\n",
       "      <td>5</td>\n",
       "      <td>2.5</td>\n",
       "    </tr>\n",
       "    <tr>\n",
       "      <th>BMW</th>\n",
       "      <td>12.650000</td>\n",
       "      <td>2</td>\n",
       "      <td>0.3</td>\n",
       "    </tr>\n",
       "    <tr>\n",
       "      <th>Buick</th>\n",
       "      <td>15.733333</td>\n",
       "      <td>3</td>\n",
       "      <td>1.6</td>\n",
       "    </tr>\n",
       "    <tr>\n",
       "      <th>Chevrolet</th>\n",
       "      <td>18.253333</td>\n",
       "      <td>15</td>\n",
       "      <td>6.7</td>\n",
       "    </tr>\n",
       "    <tr>\n",
       "      <th>Chevy</th>\n",
       "      <td>19.400000</td>\n",
       "      <td>1</td>\n",
       "      <td>0.0</td>\n",
       "    </tr>\n",
       "    <tr>\n",
       "      <th>Chrysler</th>\n",
       "      <td>14.500000</td>\n",
       "      <td>1</td>\n",
       "      <td>0.0</td>\n",
       "    </tr>\n",
       "    <tr>\n",
       "      <th>Datsun</th>\n",
       "      <td>16.885000</td>\n",
       "      <td>20</td>\n",
       "      <td>4.9</td>\n",
       "    </tr>\n",
       "  </tbody>\n",
       "</table>\n",
       "</div>"
      ],
      "text/plain": [
       "                      speed                  \n",
       "                       mean count speed_range\n",
       "cyl manufacturer                             \n",
       "3   Maxda         13.500000     1         0.0\n",
       "    Mazda         13.166667     3         1.0\n",
       "4   AMC           17.550000     2         5.1\n",
       "    Audi          15.160000     5         2.5\n",
       "    BMW           12.650000     2         0.3\n",
       "    Buick         15.733333     3         1.6\n",
       "    Chevrolet     18.253333    15         6.7\n",
       "    Chevy         19.400000     1         0.0\n",
       "    Chrysler      14.500000     1         0.0\n",
       "    Datsun        16.885000    20         4.9"
      ]
     },
     "execution_count": 98,
     "metadata": {},
     "output_type": "execute_result"
    }
   ],
   "source": [
    "def speed_range(s):\n",
    "    \"\"\"Given a series of speeds (called s), get the range\"\"\"\n",
    "    return s.max() - s.min()\n",
    "cars.groupby(['cyl', 'manufacturer'])[['speed']].agg(['mean', 'count', speed_range])[:10]\n",
    "\n"
   ]
  },
  {
   "cell_type": "code",
   "execution_count": 99,
   "metadata": {},
   "outputs": [
    {
     "data": {
      "text/plain": [
       "Series([], Name: manufacturer, dtype: object)"
      ]
     },
     "execution_count": 99,
     "metadata": {},
     "output_type": "execute_result"
    }
   ],
   "source": [
    "def merge_manufacturers(s):\n",
    "    \"\"\"Map some manufacturers together.\"\"\"\n",
    "    \n",
    "    # Create a map of misspellings to correct spelling\n",
    "    misspellings = {'Chevy':'Chevrolet',\n",
    "                    'Chevroelt':'Chevrolet',\n",
    "                    'Toyouta':'Toyota',\n",
    "                    'Maxda':'Mazda',\n",
    "                    'Vokswagen':'Volkswagen'}\n",
    "    \n",
    "    if s in misspellings:\n",
    "        return misspellings[s]\n",
    "    else:\n",
    "        return s\n",
    "\n",
    "cars['manufacturer'] = cars['manufacturer'].map(merge_manufacturers)\n",
    "\n",
    "# Check that it worked\n",
    "mask = (cars['manufacturer'] == 'Chevy')\n",
    "cars['manufacturer'][mask]  # should be empty"
   ]
  },
  {
   "cell_type": "code",
   "execution_count": 100,
   "metadata": {},
   "outputs": [
    {
     "name": "stderr",
     "output_type": "stream",
     "text": [
      "/usr/local/lib/python2.7/site-packages/ipykernel_launcher.py:4: ParserWarning: Falling back to the 'python' engine because the 'c' engine does not support regex separators (separators > 1 char and different from '\\s+' are interpreted as regex); you can avoid this warning by specifying engine='python'.\n",
      "  after removing the cwd from sys.path.\n"
     ]
    },
    {
     "data": {
      "text/html": [
       "<div>\n",
       "<style>\n",
       "    .dataframe thead tr:only-child th {\n",
       "        text-align: right;\n",
       "    }\n",
       "\n",
       "    .dataframe thead th {\n",
       "        text-align: left;\n",
       "    }\n",
       "\n",
       "    .dataframe tbody tr th {\n",
       "        vertical-align: top;\n",
       "    }\n",
       "</style>\n",
       "<table border=\"1\" class=\"dataframe\">\n",
       "  <thead>\n",
       "    <tr style=\"text-align: right;\">\n",
       "      <th></th>\n",
       "      <th>user_id</th>\n",
       "      <th>gender</th>\n",
       "      <th>age</th>\n",
       "      <th>occupation</th>\n",
       "      <th>zip</th>\n",
       "    </tr>\n",
       "  </thead>\n",
       "  <tbody>\n",
       "    <tr>\n",
       "      <th>0</th>\n",
       "      <td>1</td>\n",
       "      <td>F</td>\n",
       "      <td>1</td>\n",
       "      <td>10</td>\n",
       "      <td>48067</td>\n",
       "    </tr>\n",
       "    <tr>\n",
       "      <th>1</th>\n",
       "      <td>2</td>\n",
       "      <td>M</td>\n",
       "      <td>56</td>\n",
       "      <td>16</td>\n",
       "      <td>70072</td>\n",
       "    </tr>\n",
       "    <tr>\n",
       "      <th>2</th>\n",
       "      <td>3</td>\n",
       "      <td>M</td>\n",
       "      <td>25</td>\n",
       "      <td>15</td>\n",
       "      <td>55117</td>\n",
       "    </tr>\n",
       "    <tr>\n",
       "      <th>3</th>\n",
       "      <td>4</td>\n",
       "      <td>M</td>\n",
       "      <td>45</td>\n",
       "      <td>7</td>\n",
       "      <td>02460</td>\n",
       "    </tr>\n",
       "    <tr>\n",
       "      <th>4</th>\n",
       "      <td>5</td>\n",
       "      <td>M</td>\n",
       "      <td>25</td>\n",
       "      <td>20</td>\n",
       "      <td>55455</td>\n",
       "    </tr>\n",
       "  </tbody>\n",
       "</table>\n",
       "</div>"
      ],
      "text/plain": [
       "   user_id gender  age  occupation    zip\n",
       "0        1      F    1          10  48067\n",
       "1        2      M   56          16  70072\n",
       "2        3      M   25          15  55117\n",
       "3        4      M   45           7  02460\n",
       "4        5      M   25          20  55455"
      ]
     },
     "execution_count": 100,
     "metadata": {},
     "output_type": "execute_result"
    }
   ],
   "source": [
    "users = pd.read_csv('/Users/meganchen/Desktop/MIS_381/dataset/users.dat',\n",
    "                      sep='::',      # use this field separator\n",
    "                      header=None,   # do not use the first line as a header\n",
    "                      names=['user_id', 'gender', 'age', 'occupation', 'zip'])\n",
    "users[:5]\n"
   ]
  },
  {
   "cell_type": "code",
   "execution_count": 101,
   "metadata": {},
   "outputs": [
    {
     "name": "stdout",
     "output_type": "stream",
     "text": [
      "   movie_id                    title                        genres\n",
      "0         1         Toy Story (1995)   Animation|Children's|Comedy\n",
      "1         2           Jumanji (1995)  Adventure|Children's|Fantasy\n",
      "2         3  Grumpier Old Men (1995)                Comedy|Romance\n",
      "\n",
      "   user_id  movie_id  rating  timestamp\n",
      "0        1      1193       5  978300760\n",
      "1        1       661       3  978302109\n",
      "2        1       914       3  978301968\n"
     ]
    }
   ],
   "source": [
    "movies = pd.read_csv('/Users/meganchen/Desktop/MIS_381/dataset/movies.dat',\n",
    "                       sep='::',\n",
    "                       header=None,\n",
    "                       names=['movie_id', 'title', 'genres'],\n",
    "                       engine='python')\n",
    "ratings = pd.read_csv('/Users/meganchen/Desktop/MIS_381/dataset/ratings.dat',\n",
    "                        sep='::',\n",
    "                        header=None,\n",
    "                        names=['user_id', 'movie_id', 'rating', 'timestamp'],\n",
    "                        engine='python')\n",
    "\n",
    "print movies[:3]\n",
    "print\n",
    "print ratings[:3]"
   ]
  },
  {
   "cell_type": "code",
   "execution_count": 102,
   "metadata": {},
   "outputs": [
    {
     "data": {
      "text/plain": [
       "array(['user_id', 'movie_id', 'rating', 'timestamp', 'title', 'genres',\n",
       "       'gender', 'age', 'occupation', 'zip'], dtype=object)"
      ]
     },
     "execution_count": 102,
     "metadata": {},
     "output_type": "execute_result"
    }
   ],
   "source": [
    "df_movie_ratings = ratings.merge(movies, left_on='movie_id', right_on='movie_id')\n",
    "df = df_movie_ratings.merge(users, left_on='user_id', right_on='user_id')\n",
    "\n",
    "df.columns.values"
   ]
  },
  {
   "cell_type": "code",
   "execution_count": 103,
   "metadata": {
    "scrolled": false
   },
   "outputs": [
    {
     "data": {
      "text/html": [
       "<div>\n",
       "<style>\n",
       "    .dataframe thead tr:only-child th {\n",
       "        text-align: right;\n",
       "    }\n",
       "\n",
       "    .dataframe thead th {\n",
       "        text-align: left;\n",
       "    }\n",
       "\n",
       "    .dataframe tbody tr th {\n",
       "        vertical-align: top;\n",
       "    }\n",
       "</style>\n",
       "<table border=\"1\" class=\"dataframe\">\n",
       "  <thead>\n",
       "    <tr>\n",
       "      <th></th>\n",
       "      <th></th>\n",
       "      <th colspan=\"2\" halign=\"left\">rating</th>\n",
       "    </tr>\n",
       "    <tr>\n",
       "      <th></th>\n",
       "      <th></th>\n",
       "      <th>mean</th>\n",
       "      <th>count</th>\n",
       "    </tr>\n",
       "    <tr>\n",
       "      <th>movie_id</th>\n",
       "      <th>title</th>\n",
       "      <th></th>\n",
       "      <th></th>\n",
       "    </tr>\n",
       "  </thead>\n",
       "  <tbody>\n",
       "    <tr>\n",
       "      <th>1</th>\n",
       "      <th>Toy Story (1995)</th>\n",
       "      <td>4.146846</td>\n",
       "      <td>2077</td>\n",
       "    </tr>\n",
       "    <tr>\n",
       "      <th>2</th>\n",
       "      <th>Jumanji (1995)</th>\n",
       "      <td>3.201141</td>\n",
       "      <td>701</td>\n",
       "    </tr>\n",
       "    <tr>\n",
       "      <th>3</th>\n",
       "      <th>Grumpier Old Men (1995)</th>\n",
       "      <td>3.016736</td>\n",
       "      <td>478</td>\n",
       "    </tr>\n",
       "    <tr>\n",
       "      <th>4</th>\n",
       "      <th>Waiting to Exhale (1995)</th>\n",
       "      <td>2.729412</td>\n",
       "      <td>170</td>\n",
       "    </tr>\n",
       "    <tr>\n",
       "      <th>5</th>\n",
       "      <th>Father of the Bride Part II (1995)</th>\n",
       "      <td>3.006757</td>\n",
       "      <td>296</td>\n",
       "    </tr>\n",
       "  </tbody>\n",
       "</table>\n",
       "</div>"
      ],
      "text/plain": [
       "                                               rating      \n",
       "                                                 mean count\n",
       "movie_id title                                             \n",
       "1        Toy Story (1995)                    4.146846  2077\n",
       "2        Jumanji (1995)                      3.201141   701\n",
       "3        Grumpier Old Men (1995)             3.016736   478\n",
       "4        Waiting to Exhale (1995)            2.729412   170\n",
       "5        Father of the Bride Part II (1995)  3.006757   296"
      ]
     },
     "execution_count": 103,
     "metadata": {},
     "output_type": "execute_result"
    }
   ],
   "source": [
    "mean_df = df.groupby(['movie_id', 'title'])[['rating']].agg(['mean', 'count'])\n",
    "mean_df[:5]"
   ]
  },
  {
   "cell_type": "code",
   "execution_count": 104,
   "metadata": {},
   "outputs": [
    {
     "data": {
      "text/html": [
       "<div>\n",
       "<style>\n",
       "    .dataframe thead tr:only-child th {\n",
       "        text-align: right;\n",
       "    }\n",
       "\n",
       "    .dataframe thead th {\n",
       "        text-align: left;\n",
       "    }\n",
       "\n",
       "    .dataframe tbody tr th {\n",
       "        vertical-align: top;\n",
       "    }\n",
       "</style>\n",
       "<table border=\"1\" class=\"dataframe\">\n",
       "  <thead>\n",
       "    <tr style=\"text-align: right;\">\n",
       "      <th></th>\n",
       "      <th></th>\n",
       "      <th>mean</th>\n",
       "      <th>count</th>\n",
       "    </tr>\n",
       "    <tr>\n",
       "      <th>movie_id</th>\n",
       "      <th>title</th>\n",
       "      <th></th>\n",
       "      <th></th>\n",
       "    </tr>\n",
       "  </thead>\n",
       "  <tbody>\n",
       "    <tr>\n",
       "      <th>1</th>\n",
       "      <th>Toy Story (1995)</th>\n",
       "      <td>4.146846</td>\n",
       "      <td>2077</td>\n",
       "    </tr>\n",
       "    <tr>\n",
       "      <th>2</th>\n",
       "      <th>Jumanji (1995)</th>\n",
       "      <td>3.201141</td>\n",
       "      <td>701</td>\n",
       "    </tr>\n",
       "    <tr>\n",
       "      <th>3</th>\n",
       "      <th>Grumpier Old Men (1995)</th>\n",
       "      <td>3.016736</td>\n",
       "      <td>478</td>\n",
       "    </tr>\n",
       "    <tr>\n",
       "      <th>4</th>\n",
       "      <th>Waiting to Exhale (1995)</th>\n",
       "      <td>2.729412</td>\n",
       "      <td>170</td>\n",
       "    </tr>\n",
       "    <tr>\n",
       "      <th>5</th>\n",
       "      <th>Father of the Bride Part II (1995)</th>\n",
       "      <td>3.006757</td>\n",
       "      <td>296</td>\n",
       "    </tr>\n",
       "  </tbody>\n",
       "</table>\n",
       "</div>"
      ],
      "text/plain": [
       "                                                 mean  count\n",
       "movie_id title                                              \n",
       "1        Toy Story (1995)                    4.146846   2077\n",
       "2        Jumanji (1995)                      3.201141    701\n",
       "3        Grumpier Old Men (1995)             3.016736    478\n",
       "4        Waiting to Exhale (1995)            2.729412    170\n",
       "5        Father of the Bride Part II (1995)  3.006757    296"
      ]
     },
     "execution_count": 104,
     "metadata": {},
     "output_type": "execute_result"
    }
   ],
   "source": [
    "mean_ratings = mean_df['rating']\n",
    "mean_ratings[:5]"
   ]
  },
  {
   "cell_type": "code",
   "execution_count": 105,
   "metadata": {},
   "outputs": [
    {
     "data": {
      "text/html": [
       "<div>\n",
       "<style>\n",
       "    .dataframe thead tr:only-child th {\n",
       "        text-align: right;\n",
       "    }\n",
       "\n",
       "    .dataframe thead th {\n",
       "        text-align: left;\n",
       "    }\n",
       "\n",
       "    .dataframe tbody tr th {\n",
       "        vertical-align: top;\n",
       "    }\n",
       "</style>\n",
       "<table border=\"1\" class=\"dataframe\">\n",
       "  <thead>\n",
       "    <tr style=\"text-align: right;\">\n",
       "      <th></th>\n",
       "      <th></th>\n",
       "      <th>mean</th>\n",
       "      <th>count</th>\n",
       "    </tr>\n",
       "    <tr>\n",
       "      <th>movie_id</th>\n",
       "      <th>title</th>\n",
       "      <th></th>\n",
       "      <th></th>\n",
       "    </tr>\n",
       "  </thead>\n",
       "  <tbody>\n",
       "    <tr>\n",
       "      <th>318</th>\n",
       "      <th>Shawshank Redemption, The (1994)</th>\n",
       "      <td>4.554558</td>\n",
       "      <td>2227</td>\n",
       "    </tr>\n",
       "    <tr>\n",
       "      <th>858</th>\n",
       "      <th>Godfather, The (1972)</th>\n",
       "      <td>4.524966</td>\n",
       "      <td>2223</td>\n",
       "    </tr>\n",
       "    <tr>\n",
       "      <th>50</th>\n",
       "      <th>Usual Suspects, The (1995)</th>\n",
       "      <td>4.517106</td>\n",
       "      <td>1783</td>\n",
       "    </tr>\n",
       "    <tr>\n",
       "      <th>527</th>\n",
       "      <th>Schindler's List (1993)</th>\n",
       "      <td>4.510417</td>\n",
       "      <td>2304</td>\n",
       "    </tr>\n",
       "    <tr>\n",
       "      <th>1198</th>\n",
       "      <th>Raiders of the Lost Ark (1981)</th>\n",
       "      <td>4.477725</td>\n",
       "      <td>2514</td>\n",
       "    </tr>\n",
       "    <tr>\n",
       "      <th>904</th>\n",
       "      <th>Rear Window (1954)</th>\n",
       "      <td>4.476190</td>\n",
       "      <td>1050</td>\n",
       "    </tr>\n",
       "    <tr>\n",
       "      <th>260</th>\n",
       "      <th>Star Wars: Episode IV - A New Hope (1977)</th>\n",
       "      <td>4.453694</td>\n",
       "      <td>2991</td>\n",
       "    </tr>\n",
       "    <tr>\n",
       "      <th>750</th>\n",
       "      <th>Dr. Strangelove or: How I Learned to Stop Worrying and Love the Bomb (1963)</th>\n",
       "      <td>4.449890</td>\n",
       "      <td>1367</td>\n",
       "    </tr>\n",
       "    <tr>\n",
       "      <th>912</th>\n",
       "      <th>Casablanca (1942)</th>\n",
       "      <td>4.412822</td>\n",
       "      <td>1669</td>\n",
       "    </tr>\n",
       "    <tr>\n",
       "      <th>2762</th>\n",
       "      <th>Sixth Sense, The (1999)</th>\n",
       "      <td>4.406263</td>\n",
       "      <td>2459</td>\n",
       "    </tr>\n",
       "  </tbody>\n",
       "</table>\n",
       "</div>"
      ],
      "text/plain": [
       "                                                                 mean  count\n",
       "movie_id title                                                              \n",
       "318      Shawshank Redemption, The (1994)                    4.554558   2227\n",
       "858      Godfather, The (1972)                               4.524966   2223\n",
       "50       Usual Suspects, The (1995)                          4.517106   1783\n",
       "527      Schindler's List (1993)                             4.510417   2304\n",
       "1198     Raiders of the Lost Ark (1981)                      4.477725   2514\n",
       "904      Rear Window (1954)                                  4.476190   1050\n",
       "260      Star Wars: Episode IV - A New Hope (1977)           4.453694   2991\n",
       "750      Dr. Strangelove or: How I Learned to Stop Worry...  4.449890   1367\n",
       "912      Casablanca (1942)                                   4.412822   1669\n",
       "2762     Sixth Sense, The (1999)                             4.406263   2459"
      ]
     },
     "execution_count": 105,
     "metadata": {},
     "output_type": "execute_result"
    }
   ],
   "source": [
    "at_least_1000 = mean_ratings[mean_ratings['count'] >= 1000]\n",
    "\n",
    "# sort these by the mean\n",
    "at_least_1000.sort_values(by='mean', ascending=False)[:10]"
   ]
  },
  {
   "cell_type": "code",
   "execution_count": 106,
   "metadata": {},
   "outputs": [
    {
     "data": {
      "text/plain": [
       "M    753769\n",
       "F    246440\n",
       "Name: gender, dtype: int64"
      ]
     },
     "execution_count": 106,
     "metadata": {},
     "output_type": "execute_result"
    }
   ],
   "source": [
    "df['gender'].value_counts()"
   ]
  },
  {
   "cell_type": "code",
   "execution_count": 107,
   "metadata": {},
   "outputs": [
    {
     "data": {
      "text/plain": [
       "gender\n",
       "F    246440\n",
       "M    753769\n",
       "Name: gender, dtype: int64"
      ]
     },
     "execution_count": 107,
     "metadata": {},
     "output_type": "execute_result"
    }
   ],
   "source": [
    "df.groupby('gender')['gender'].count() #interesting"
   ]
  },
  {
   "cell_type": "code",
   "execution_count": 108,
   "metadata": {},
   "outputs": [
    {
     "data": {
      "text/html": [
       "<div>\n",
       "<style>\n",
       "    .dataframe thead tr:only-child th {\n",
       "        text-align: right;\n",
       "    }\n",
       "\n",
       "    .dataframe thead th {\n",
       "        text-align: left;\n",
       "    }\n",
       "\n",
       "    .dataframe tbody tr th {\n",
       "        vertical-align: top;\n",
       "    }\n",
       "</style>\n",
       "<table border=\"1\" class=\"dataframe\">\n",
       "  <thead>\n",
       "    <tr style=\"text-align: right;\">\n",
       "      <th></th>\n",
       "      <th></th>\n",
       "      <th></th>\n",
       "      <th>mean</th>\n",
       "      <th>count</th>\n",
       "    </tr>\n",
       "    <tr>\n",
       "      <th>movie_id</th>\n",
       "      <th>title</th>\n",
       "      <th>gender</th>\n",
       "      <th></th>\n",
       "      <th></th>\n",
       "    </tr>\n",
       "  </thead>\n",
       "  <tbody>\n",
       "    <tr>\n",
       "      <th rowspan=\"2\" valign=\"top\">1</th>\n",
       "      <th rowspan=\"2\" valign=\"top\">Toy Story (1995)</th>\n",
       "      <th>F</th>\n",
       "      <td>4.187817</td>\n",
       "      <td>591</td>\n",
       "    </tr>\n",
       "    <tr>\n",
       "      <th>M</th>\n",
       "      <td>4.130552</td>\n",
       "      <td>1486</td>\n",
       "    </tr>\n",
       "    <tr>\n",
       "      <th rowspan=\"2\" valign=\"top\">2</th>\n",
       "      <th rowspan=\"2\" valign=\"top\">Jumanji (1995)</th>\n",
       "      <th>F</th>\n",
       "      <td>3.278409</td>\n",
       "      <td>176</td>\n",
       "    </tr>\n",
       "    <tr>\n",
       "      <th>M</th>\n",
       "      <td>3.175238</td>\n",
       "      <td>525</td>\n",
       "    </tr>\n",
       "    <tr>\n",
       "      <th>3</th>\n",
       "      <th>Grumpier Old Men (1995)</th>\n",
       "      <th>F</th>\n",
       "      <td>3.073529</td>\n",
       "      <td>136</td>\n",
       "    </tr>\n",
       "  </tbody>\n",
       "</table>\n",
       "</div>"
      ],
      "text/plain": [
       "                                             mean  count\n",
       "movie_id title                   gender                 \n",
       "1        Toy Story (1995)        F       4.187817    591\n",
       "                                 M       4.130552   1486\n",
       "2        Jumanji (1995)          F       3.278409    176\n",
       "                                 M       3.175238    525\n",
       "3        Grumpier Old Men (1995) F       3.073529    136"
      ]
     },
     "execution_count": 108,
     "metadata": {},
     "output_type": "execute_result"
    }
   ],
   "source": [
    "means_by_gender = df.groupby(['movie_id', 'title', 'gender'])['rating'].agg(['mean', 'count'])\n",
    "means_by_gender[:5]"
   ]
  },
  {
   "cell_type": "code",
   "execution_count": 109,
   "metadata": {},
   "outputs": [
    {
     "data": {
      "text/html": [
       "<div>\n",
       "<style>\n",
       "    .dataframe thead tr:only-child th {\n",
       "        text-align: right;\n",
       "    }\n",
       "\n",
       "    .dataframe thead th {\n",
       "        text-align: left;\n",
       "    }\n",
       "\n",
       "    .dataframe tbody tr th {\n",
       "        vertical-align: top;\n",
       "    }\n",
       "</style>\n",
       "<table border=\"1\" class=\"dataframe\">\n",
       "  <thead>\n",
       "    <tr>\n",
       "      <th></th>\n",
       "      <th></th>\n",
       "      <th colspan=\"2\" halign=\"left\">mean</th>\n",
       "      <th colspan=\"2\" halign=\"left\">count</th>\n",
       "    </tr>\n",
       "    <tr>\n",
       "      <th></th>\n",
       "      <th>gender</th>\n",
       "      <th>F</th>\n",
       "      <th>M</th>\n",
       "      <th>F</th>\n",
       "      <th>M</th>\n",
       "    </tr>\n",
       "    <tr>\n",
       "      <th>movie_id</th>\n",
       "      <th>title</th>\n",
       "      <th></th>\n",
       "      <th></th>\n",
       "      <th></th>\n",
       "      <th></th>\n",
       "    </tr>\n",
       "  </thead>\n",
       "  <tbody>\n",
       "    <tr>\n",
       "      <th>1</th>\n",
       "      <th>Toy Story (1995)</th>\n",
       "      <td>4.187817</td>\n",
       "      <td>4.130552</td>\n",
       "      <td>591.0</td>\n",
       "      <td>1486.0</td>\n",
       "    </tr>\n",
       "    <tr>\n",
       "      <th>21</th>\n",
       "      <th>Get Shorty (1995)</th>\n",
       "      <td>3.597902</td>\n",
       "      <td>3.630841</td>\n",
       "      <td>286.0</td>\n",
       "      <td>1070.0</td>\n",
       "    </tr>\n",
       "    <tr>\n",
       "      <th>32</th>\n",
       "      <th>Twelve Monkeys (1995)</th>\n",
       "      <td>3.845324</td>\n",
       "      <td>3.968370</td>\n",
       "      <td>278.0</td>\n",
       "      <td>1233.0</td>\n",
       "    </tr>\n",
       "    <tr>\n",
       "      <th>34</th>\n",
       "      <th>Babe (1995)</th>\n",
       "      <td>3.953368</td>\n",
       "      <td>3.860922</td>\n",
       "      <td>579.0</td>\n",
       "      <td>1172.0</td>\n",
       "    </tr>\n",
       "    <tr>\n",
       "      <th>39</th>\n",
       "      <th>Clueless (1995)</th>\n",
       "      <td>3.827004</td>\n",
       "      <td>3.514640</td>\n",
       "      <td>474.0</td>\n",
       "      <td>888.0</td>\n",
       "    </tr>\n",
       "  </tbody>\n",
       "</table>\n",
       "</div>"
      ],
      "text/plain": [
       "                                    mean            count        \n",
       "gender                                 F         M      F       M\n",
       "movie_id title                                                   \n",
       "1        Toy Story (1995)       4.187817  4.130552  591.0  1486.0\n",
       "21       Get Shorty (1995)      3.597902  3.630841  286.0  1070.0\n",
       "32       Twelve Monkeys (1995)  3.845324  3.968370  278.0  1233.0\n",
       "34       Babe (1995)            3.953368  3.860922  579.0  1172.0\n",
       "39       Clueless (1995)        3.827004  3.514640  474.0   888.0"
      ]
     },
     "execution_count": 109,
     "metadata": {},
     "output_type": "execute_result"
    }
   ],
   "source": [
    "means_by_gender_unstacked = means_by_gender.unstack('gender')\n",
    "# Do the filtering\n",
    "men_mask = (means_by_gender_unstacked['count']['M'] >= 750)\n",
    "women_mask = (means_by_gender_unstacked['count']['F'] >= 250)\n",
    "means_by_gender_filtered = means_by_gender_unstacked[men_mask & women_mask]\n",
    "\n",
    "means_by_gender_filtered[:5]"
   ]
  },
  {
   "cell_type": "code",
   "execution_count": 110,
   "metadata": {},
   "outputs": [
    {
     "data": {
      "text/html": [
       "<div>\n",
       "<style>\n",
       "    .dataframe thead tr:only-child th {\n",
       "        text-align: right;\n",
       "    }\n",
       "\n",
       "    .dataframe thead th {\n",
       "        text-align: left;\n",
       "    }\n",
       "\n",
       "    .dataframe tbody tr th {\n",
       "        vertical-align: top;\n",
       "    }\n",
       "</style>\n",
       "<table border=\"1\" class=\"dataframe\">\n",
       "  <thead>\n",
       "    <tr>\n",
       "      <th>movie_id</th>\n",
       "      <th>1</th>\n",
       "      <th>21</th>\n",
       "      <th>32</th>\n",
       "      <th>34</th>\n",
       "      <th>39</th>\n",
       "    </tr>\n",
       "    <tr>\n",
       "      <th>title</th>\n",
       "      <th>Toy Story (1995)</th>\n",
       "      <th>Get Shorty (1995)</th>\n",
       "      <th>Twelve Monkeys (1995)</th>\n",
       "      <th>Babe (1995)</th>\n",
       "      <th>Clueless (1995)</th>\n",
       "    </tr>\n",
       "    <tr>\n",
       "      <th>gender</th>\n",
       "      <th></th>\n",
       "      <th></th>\n",
       "      <th></th>\n",
       "      <th></th>\n",
       "      <th></th>\n",
       "    </tr>\n",
       "  </thead>\n",
       "  <tbody>\n",
       "    <tr>\n",
       "      <th>F</th>\n",
       "      <td>4.187817</td>\n",
       "      <td>3.597902</td>\n",
       "      <td>3.845324</td>\n",
       "      <td>3.953368</td>\n",
       "      <td>3.827004</td>\n",
       "    </tr>\n",
       "    <tr>\n",
       "      <th>M</th>\n",
       "      <td>4.130552</td>\n",
       "      <td>3.630841</td>\n",
       "      <td>3.968370</td>\n",
       "      <td>3.860922</td>\n",
       "      <td>3.514640</td>\n",
       "    </tr>\n",
       "  </tbody>\n",
       "</table>\n",
       "</div>"
      ],
      "text/plain": [
       "movie_id               1                 21                    32          34  \\\n",
       "title    Toy Story (1995) Get Shorty (1995) Twelve Monkeys (1995) Babe (1995)   \n",
       "gender                                                                          \n",
       "F                4.187817          3.597902              3.845324    3.953368   \n",
       "M                4.130552          3.630841              3.968370    3.860922   \n",
       "\n",
       "movie_id              39  \n",
       "title    Clueless (1995)  \n",
       "gender                    \n",
       "F               3.827004  \n",
       "M               3.514640  "
      ]
     },
     "execution_count": 110,
     "metadata": {},
     "output_type": "execute_result"
    }
   ],
   "source": [
    "men_women_ratings = means_by_gender_filtered['mean'].copy()\n",
    "men_women_ratings.T.iloc[0:5, 0:5]"
   ]
  },
  {
   "cell_type": "code",
   "execution_count": 111,
   "metadata": {},
   "outputs": [
    {
     "data": {
      "text/html": [
       "<div>\n",
       "<style>\n",
       "    .dataframe thead tr:only-child th {\n",
       "        text-align: right;\n",
       "    }\n",
       "\n",
       "    .dataframe thead th {\n",
       "        text-align: left;\n",
       "    }\n",
       "\n",
       "    .dataframe tbody tr th {\n",
       "        vertical-align: top;\n",
       "    }\n",
       "</style>\n",
       "<table border=\"1\" class=\"dataframe\">\n",
       "  <thead>\n",
       "    <tr style=\"text-align: right;\">\n",
       "      <th></th>\n",
       "      <th>gender</th>\n",
       "      <th>F</th>\n",
       "      <th>M</th>\n",
       "      <th>min</th>\n",
       "    </tr>\n",
       "    <tr>\n",
       "      <th>movie_id</th>\n",
       "      <th>title</th>\n",
       "      <th></th>\n",
       "      <th></th>\n",
       "      <th></th>\n",
       "    </tr>\n",
       "  </thead>\n",
       "  <tbody>\n",
       "    <tr>\n",
       "      <th>318</th>\n",
       "      <th>Shawshank Redemption, The (1994)</th>\n",
       "      <td>4.539075</td>\n",
       "      <td>4.560625</td>\n",
       "      <td>4.539075</td>\n",
       "    </tr>\n",
       "    <tr>\n",
       "      <th>50</th>\n",
       "      <th>Usual Suspects, The (1995)</th>\n",
       "      <td>4.513317</td>\n",
       "      <td>4.518248</td>\n",
       "      <td>4.513317</td>\n",
       "    </tr>\n",
       "    <tr>\n",
       "      <th>527</th>\n",
       "      <th>Schindler's List (1993)</th>\n",
       "      <td>4.562602</td>\n",
       "      <td>4.491415</td>\n",
       "      <td>4.491415</td>\n",
       "    </tr>\n",
       "    <tr>\n",
       "      <th>904</th>\n",
       "      <th>Rear Window (1954)</th>\n",
       "      <td>4.484536</td>\n",
       "      <td>4.472991</td>\n",
       "      <td>4.472991</td>\n",
       "    </tr>\n",
       "    <tr>\n",
       "      <th>2762</th>\n",
       "      <th>Sixth Sense, The (1999)</th>\n",
       "      <td>4.477410</td>\n",
       "      <td>4.379944</td>\n",
       "      <td>4.379944</td>\n",
       "    </tr>\n",
       "    <tr>\n",
       "      <th>908</th>\n",
       "      <th>North by Northwest (1959)</th>\n",
       "      <td>4.364458</td>\n",
       "      <td>4.390641</td>\n",
       "      <td>4.364458</td>\n",
       "    </tr>\n",
       "    <tr>\n",
       "      <th>1198</th>\n",
       "      <th>Raiders of the Lost Ark (1981)</th>\n",
       "      <td>4.332168</td>\n",
       "      <td>4.520597</td>\n",
       "      <td>4.332168</td>\n",
       "    </tr>\n",
       "    <tr>\n",
       "      <th>923</th>\n",
       "      <th>Citizen Kane (1941)</th>\n",
       "      <td>4.332143</td>\n",
       "      <td>4.407895</td>\n",
       "      <td>4.332143</td>\n",
       "    </tr>\n",
       "    <tr>\n",
       "      <th>858</th>\n",
       "      <th>Godfather, The (1972)</th>\n",
       "      <td>4.314700</td>\n",
       "      <td>4.583333</td>\n",
       "      <td>4.314700</td>\n",
       "    </tr>\n",
       "    <tr>\n",
       "      <th>1193</th>\n",
       "      <th>One Flew Over the Cuckoo's Nest (1975)</th>\n",
       "      <td>4.310811</td>\n",
       "      <td>4.418423</td>\n",
       "      <td>4.310811</td>\n",
       "    </tr>\n",
       "  </tbody>\n",
       "</table>\n",
       "</div>"
      ],
      "text/plain": [
       "gender                                                  F         M       min\n",
       "movie_id title                                                               \n",
       "318      Shawshank Redemption, The (1994)        4.539075  4.560625  4.539075\n",
       "50       Usual Suspects, The (1995)              4.513317  4.518248  4.513317\n",
       "527      Schindler's List (1993)                 4.562602  4.491415  4.491415\n",
       "904      Rear Window (1954)                      4.484536  4.472991  4.472991\n",
       "2762     Sixth Sense, The (1999)                 4.477410  4.379944  4.379944\n",
       "908      North by Northwest (1959)               4.364458  4.390641  4.364458\n",
       "1198     Raiders of the Lost Ark (1981)          4.332168  4.520597  4.332168\n",
       "923      Citizen Kane (1941)                     4.332143  4.407895  4.332143\n",
       "858      Godfather, The (1972)                   4.314700  4.583333  4.314700\n",
       "1193     One Flew Over the Cuckoo's Nest (1975)  4.310811  4.418423  4.310811"
      ]
     },
     "execution_count": 111,
     "metadata": {},
     "output_type": "execute_result"
    }
   ],
   "source": [
    "min_ratings = men_women_ratings.T.apply(min)\n",
    "men_women_ratings['min'] = min_ratings\n",
    "men_women_ratings.sort_values(by='min', ascending=False)[:10]"
   ]
  },
  {
   "cell_type": "code",
   "execution_count": 112,
   "metadata": {},
   "outputs": [
    {
     "data": {
      "text/plain": [
       "movie_id  title                \n",
       "1         Toy Story (1995)         0.057265\n",
       "21        Get Shorty (1995)        0.032939\n",
       "32        Twelve Monkeys (1995)    0.123046\n",
       "34        Babe (1995)              0.092446\n",
       "39        Clueless (1995)          0.312365\n",
       "dtype: float64"
      ]
     },
     "execution_count": 112,
     "metadata": {},
     "output_type": "execute_result"
    }
   ],
   "source": [
    "def rating_diff(gender_series):\n",
    "    \"\"\"Given an input Series of ratings for a movie,\n",
    "       return the absolute difference.\"\"\"\n",
    "    \n",
    "    # The input gender_seris has:\n",
    "    #   women's rating in index 'F'\n",
    "    #   men's rating in index 'M'\n",
    "    #   min rating in index 'min'\n",
    "    return abs(gender_series['F'] - gender_series['M'])\n",
    "\n",
    "rating_differences = men_women_ratings.T.apply(rating_diff)\n",
    "rating_differences[:5]"
   ]
  },
  {
   "cell_type": "markdown",
   "metadata": {},
   "source": [
    "## Time Series"
   ]
  },
  {
   "cell_type": "code",
   "execution_count": 113,
   "metadata": {
    "collapsed": true
   },
   "outputs": [],
   "source": [
    "import pandas_datareader.data as web\n",
    "from datetime import datetime"
   ]
  },
  {
   "cell_type": "code",
   "execution_count": 114,
   "metadata": {},
   "outputs": [
    {
     "data": {
      "text/html": [
       "<div>\n",
       "<style>\n",
       "    .dataframe thead tr:only-child th {\n",
       "        text-align: right;\n",
       "    }\n",
       "\n",
       "    .dataframe thead th {\n",
       "        text-align: left;\n",
       "    }\n",
       "\n",
       "    .dataframe tbody tr th {\n",
       "        vertical-align: top;\n",
       "    }\n",
       "</style>\n",
       "<table border=\"1\" class=\"dataframe\">\n",
       "  <thead>\n",
       "    <tr style=\"text-align: right;\">\n",
       "      <th></th>\n",
       "      <th>Open</th>\n",
       "      <th>High</th>\n",
       "      <th>Low</th>\n",
       "      <th>Close</th>\n",
       "      <th>Volume</th>\n",
       "    </tr>\n",
       "    <tr>\n",
       "      <th>Date</th>\n",
       "      <th></th>\n",
       "      <th></th>\n",
       "      <th></th>\n",
       "      <th></th>\n",
       "      <th></th>\n",
       "    </tr>\n",
       "  </thead>\n",
       "  <tbody>\n",
       "    <tr>\n",
       "      <th>2011-01-03</th>\n",
       "      <td>46.52</td>\n",
       "      <td>47.18</td>\n",
       "      <td>46.41</td>\n",
       "      <td>47.08</td>\n",
       "      <td>111280407</td>\n",
       "    </tr>\n",
       "    <tr>\n",
       "      <th>2011-01-04</th>\n",
       "      <td>47.49</td>\n",
       "      <td>47.50</td>\n",
       "      <td>46.88</td>\n",
       "      <td>47.33</td>\n",
       "      <td>77337001</td>\n",
       "    </tr>\n",
       "    <tr>\n",
       "      <th>2011-01-05</th>\n",
       "      <td>47.08</td>\n",
       "      <td>47.76</td>\n",
       "      <td>47.07</td>\n",
       "      <td>47.71</td>\n",
       "      <td>63879193</td>\n",
       "    </tr>\n",
       "    <tr>\n",
       "      <th>2011-01-06</th>\n",
       "      <td>47.82</td>\n",
       "      <td>47.89</td>\n",
       "      <td>47.56</td>\n",
       "      <td>47.68</td>\n",
       "      <td>75106626</td>\n",
       "    </tr>\n",
       "    <tr>\n",
       "      <th>2011-01-07</th>\n",
       "      <td>47.71</td>\n",
       "      <td>48.05</td>\n",
       "      <td>47.41</td>\n",
       "      <td>48.02</td>\n",
       "      <td>77982212</td>\n",
       "    </tr>\n",
       "  </tbody>\n",
       "</table>\n",
       "</div>"
      ],
      "text/plain": [
       "             Open   High    Low  Close     Volume\n",
       "Date                                             \n",
       "2011-01-03  46.52  47.18  46.41  47.08  111280407\n",
       "2011-01-04  47.49  47.50  46.88  47.33   77337001\n",
       "2011-01-05  47.08  47.76  47.07  47.71   63879193\n",
       "2011-01-06  47.82  47.89  47.56  47.68   75106626\n",
       "2011-01-07  47.71  48.05  47.41  48.02   77982212"
      ]
     },
     "execution_count": 114,
     "metadata": {},
     "output_type": "execute_result"
    }
   ],
   "source": [
    "\n",
    "\n",
    "# Specify start and end dates to download\n",
    "start_date = datetime(2011, 1, 1) # January 1, 2011\n",
    "end_date = datetime(2014, 1, 1)   # January 1, 2014\n",
    "\n",
    "# Get Apple stock from Google Finance for these dates\n",
    "df = web.DataReader('AAPL', 'google', start_date, end_date)\n",
    "df[:5]"
   ]
  },
  {
   "cell_type": "code",
   "execution_count": 115,
   "metadata": {},
   "outputs": [
    {
     "data": {
      "text/plain": [
       "DatetimeIndex(['2011-01-03', '2011-01-04', '2011-01-05', '2011-01-06',\n",
       "               '2011-01-07', '2011-01-10', '2011-01-11', '2011-01-12',\n",
       "               '2011-01-13', '2011-01-14',\n",
       "               ...\n",
       "               '2013-12-17', '2013-12-18', '2013-12-19', '2013-12-20',\n",
       "               '2013-12-23', '2013-12-24', '2013-12-26', '2013-12-27',\n",
       "               '2013-12-30', '2013-12-31'],\n",
       "              dtype='datetime64[ns]', name=u'Date', length=754, freq=None)"
      ]
     },
     "execution_count": 115,
     "metadata": {},
     "output_type": "execute_result"
    }
   ],
   "source": [
    "df.index"
   ]
  },
  {
   "cell_type": "code",
   "execution_count": 116,
   "metadata": {},
   "outputs": [
    {
     "name": "stdout",
     "output_type": "stream",
     "text": [
      "2011-01-10 00:00:00 corresponds to\n",
      "year 2011\n",
      "month 1\n",
      "day 10\n",
      "day of the week 0\n",
      "quarter 1\n"
     ]
    }
   ],
   "source": [
    "sixth_date = df.index[5]\n",
    "print sixth_date, 'corresponds to'\n",
    "print 'year', sixth_date.year\n",
    "print 'month', sixth_date.month\n",
    "print 'day', sixth_date.day\n",
    "print 'day of the week', sixth_date.dayofweek  # Monday=0, ..., Sunday=6\n",
    "print 'quarter', sixth_date.quarter"
   ]
  },
  {
   "cell_type": "markdown",
   "metadata": {},
   "source": [
    "#### Indexing Time Seris"
   ]
  },
  {
   "cell_type": "code",
   "execution_count": 117,
   "metadata": {},
   "outputs": [
    {
     "data": {
      "text/plain": [
       "Open            47.71\n",
       "High            48.05\n",
       "Low             47.41\n",
       "Close           48.02\n",
       "Volume    77982212.00\n",
       "Name: 2011-01-07 00:00:00, dtype: float64"
      ]
     },
     "execution_count": 117,
     "metadata": {},
     "output_type": "execute_result"
    }
   ],
   "source": [
    "df.loc['1/7/2011']"
   ]
  },
  {
   "cell_type": "code",
   "execution_count": 118,
   "metadata": {},
   "outputs": [
    {
     "data": {
      "text/plain": [
       "Open            47.08\n",
       "High            47.76\n",
       "Low             47.07\n",
       "Close           47.71\n",
       "Volume    63879193.00\n",
       "Name: 2011-01-05 00:00:00, dtype: float64"
      ]
     },
     "execution_count": 118,
     "metadata": {},
     "output_type": "execute_result"
    }
   ],
   "source": [
    "df.loc[datetime(year=2011, month=1, day=5)]"
   ]
  },
  {
   "cell_type": "code",
   "execution_count": 119,
   "metadata": {},
   "outputs": [
    {
     "data": {
      "text/plain": [
       "Date\n",
       "2013-01-02    79.12\n",
       "2013-01-03    78.27\n",
       "2013-01-04    76.71\n",
       "2013-01-07    74.60\n",
       "2013-01-08    75.60\n",
       "2013-01-09    74.64\n",
       "2013-01-10    75.51\n",
       "Name: Open, dtype: float64"
      ]
     },
     "execution_count": 119,
     "metadata": {},
     "output_type": "execute_result"
    }
   ],
   "source": [
    "df.loc['1/1/2013':'1/10/2013','Open']"
   ]
  },
  {
   "cell_type": "code",
   "execution_count": 120,
   "metadata": {},
   "outputs": [
    {
     "data": {
      "text/plain": [
       "Date\n",
       "2013-05-01    62.76\n",
       "2013-05-02    63.65\n",
       "2013-05-03    64.28\n",
       "2013-05-06    65.82\n",
       "2013-05-07    65.52\n",
       "2013-05-08    66.26\n",
       "2013-05-09    65.25\n",
       "2013-05-10    64.71\n",
       "2013-05-13    64.96\n",
       "2013-05-14    63.41\n",
       "2013-05-15    61.26\n",
       "2013-05-16    62.08\n",
       "2013-05-17    61.89\n",
       "2013-05-20    63.28\n",
       "2013-05-21    62.81\n",
       "2013-05-22    63.05\n",
       "2013-05-23    63.16\n",
       "2013-05-24    63.59\n",
       "2013-05-28    63.06\n",
       "2013-05-29    63.56\n",
       "2013-05-30    64.51\n",
       "2013-05-31    64.25\n",
       "Name: Close, dtype: float64"
      ]
     },
     "execution_count": 120,
     "metadata": {},
     "output_type": "execute_result"
    }
   ],
   "source": [
    "closings = df['Close']  # Select one column from our DataFrame; this is a Series\n",
    "closings['2013-05']"
   ]
  },
  {
   "cell_type": "code",
   "execution_count": 121,
   "metadata": {},
   "outputs": [
    {
     "data": {
      "text/plain": [
       "[Timestamp('2013-01-08 00:00:00', freq='W-TUE'),\n",
       " Timestamp('2013-01-15 00:00:00', freq='W-TUE'),\n",
       " Timestamp('2013-01-22 00:00:00', freq='W-TUE'),\n",
       " Timestamp('2013-01-29 00:00:00', freq='W-TUE')]"
      ]
     },
     "execution_count": 121,
     "metadata": {},
     "output_type": "execute_result"
    }
   ],
   "source": [
    "dates = pd.date_range(start='1/3/2013', end='2/3/2013', freq='W-TUE')\n",
    "list(dates)"
   ]
  },
  {
   "cell_type": "code",
   "execution_count": 122,
   "metadata": {},
   "outputs": [
    {
     "data": {
      "text/plain": [
       "Date\n",
       "2011-01-03         NaN\n",
       "2011-01-04    0.531011\n",
       "2011-01-05    0.802873\n",
       "2011-01-06   -0.062880\n",
       "2011-01-07    0.713087\n",
       "Name: percent change, dtype: float64"
      ]
     },
     "execution_count": 122,
     "metadata": {},
     "output_type": "execute_result"
    }
   ],
   "source": [
    "closes = df['Close']\n",
    "yesterdays_closes = closes.shift(1)\n",
    "df['percent change'] = (closes / yesterdays_closes - 1) * 100\n",
    "df['percent change'][:5]"
   ]
  },
  {
   "cell_type": "code",
   "execution_count": 123,
   "metadata": {},
   "outputs": [
    {
     "data": {
      "text/plain": [
       "Date\n",
       "2011-01    2710766744\n",
       "2011-02    2323973659\n",
       "2011-03    2825744411\n",
       "2011-04    2313690582\n",
       "2011-05    1728012111\n",
       "2011-06    2316622364\n",
       "2011-07    2663639874\n",
       "2011-08    4126767239\n",
       "2011-09    2994842431\n",
       "2011-10    3285606996\n",
       "Freq: M, Name: Volume, dtype: int64"
      ]
     },
     "execution_count": 123,
     "metadata": {},
     "output_type": "execute_result"
    }
   ],
   "source": [
    "df['Volume'].resample('M', kind='period').sum()[:10]#Resetructure the df"
   ]
  },
  {
   "cell_type": "code",
   "execution_count": 124,
   "metadata": {},
   "outputs": [
    {
     "data": {
      "text/plain": [
       "Date\n",
       "2011-01-03/2011-01-09    47.5640\n",
       "2011-01-10/2011-01-16    49.2180\n",
       "2011-01-17/2011-01-23    47.8175\n",
       "2011-01-24/2011-01-30    48.6280\n",
       "2011-01-31/2011-02-06    49.1020\n",
       "2011-02-07/2011-02-13    50.7620\n",
       "2011-02-14/2011-02-20    51.1740\n",
       "2011-02-21/2011-02-27    49.0100\n",
       "2011-02-28/2011-03-06    50.6920\n",
       "2011-03-07/2011-03-13    50.3480\n",
       "Freq: W-SUN, Name: Close, dtype: float64"
      ]
     },
     "execution_count": 124,
     "metadata": {},
     "output_type": "execute_result"
    }
   ],
   "source": [
    "df['Close'].resample('W', kind='period').mean()[:10]"
   ]
  },
  {
   "cell_type": "code",
   "execution_count": 125,
   "metadata": {},
   "outputs": [
    {
     "data": {
      "text/plain": [
       "Date\n",
       "2011-01-10          NaN\n",
       "2011-01-11          NaN\n",
       "2011-01-12          NaN\n",
       "2011-01-13          NaN\n",
       "2011-01-14    48.391000\n",
       "2011-01-18    48.415455\n",
       "2011-01-19    48.415000\n",
       "Name: Close, dtype: float64"
      ]
     },
     "execution_count": 125,
     "metadata": {},
     "output_type": "execute_result"
    }
   ],
   "source": [
    "moving_avg_30 = df['Close'].rolling(window=30, min_periods=10).mean()\n",
    "moving_avg_30[5:12]"
   ]
  },
  {
   "cell_type": "code",
   "execution_count": 126,
   "metadata": {},
   "outputs": [
    {
     "data": {
      "image/png": "[encoded data removed]",
      "text/plain": [
       "<matplotlib.figure.Figure at 0x117eaed10>"
      ]
     },
     "metadata": {},
     "output_type": "display_data"
    }
   ],
   "source": [
    "df['Close'].plot(label='Daily close')\n",
    "df['Close'].rolling(window=30, min_periods=10).mean().plot(label='30-day average')\n",
    "ylabel('Stock price')\n",
    "legend(loc='best')\n",
    "show()"
   ]
  },
  {
   "cell_type": "code",
   "execution_count": 127,
   "metadata": {},
   "outputs": [
    {
     "data": {
      "text/plain": [
       "Date\n",
       "2011-01-03         NaN\n",
       "2011-01-04    1.005310\n",
       "2011-01-05    1.008029\n",
       "2011-01-06    0.999371\n",
       "2011-01-07    1.007131\n",
       "2011-01-10    1.018742\n",
       "2011-01-11    0.997751\n",
       "2011-01-12    1.007990\n",
       "2011-01-13    1.003659\n",
       "2011-01-14    1.008100\n",
       "Name: Close, dtype: float64"
      ]
     },
     "execution_count": 127,
     "metadata": {},
     "output_type": "execute_result"
    }
   ],
   "source": [
    "closes = df['Close']\n",
    "daily_return_ratio = closes / closes.shift(1)\n",
    "daily_return_ratio[:10]"
   ]
  },
  {
   "cell_type": "markdown",
   "metadata": {},
   "source": [
    "#### Trading Simulator"
   ]
  },
  {
   "cell_type": "code",
   "execution_count": 128,
   "metadata": {},
   "outputs": [
    {
     "data": {
      "image/png": "[encoded data removed]",
      "text/plain": [
       "<matplotlib.figure.Figure at 0x11190ea50>"
      ]
     },
     "metadata": {},
     "output_type": "display_data"
    }
   ],
   "source": [
    "mavg_30 = closes.rolling(window=30, min_periods=10).mean()\n",
    "mavg_180 = closes.rolling(window=180, min_periods=10).mean()\n",
    "\n",
    "closes.plot(label='Daily close')\n",
    "mavg_30.plot(label='30-day average')\n",
    "mavg_180.plot(label='180-day average')\n",
    "ylabel('Stock price')\n",
    "legend(loc='best')\n",
    "figsize(8,6)"
   ]
  },
  {
   "cell_type": "code",
   "execution_count": 129,
   "metadata": {},
   "outputs": [
    {
     "data": {
      "text/plain": [
       "Date\n",
       "2011-02-08    False\n",
       "2011-02-09    False\n",
       "2011-02-10    False\n",
       "2011-02-11    False\n",
       "2011-02-14    False\n",
       "2011-02-15    False\n",
       "2011-02-16     True\n",
       "2011-02-17     True\n",
       "2011-02-18     True\n",
       "2011-02-22     True\n",
       "Name: Close, dtype: object"
      ]
     },
     "execution_count": 129,
     "metadata": {},
     "output_type": "execute_result"
    }
   ],
   "source": [
    "mavg_30_is_greater = (mavg_30 > mavg_180)\n",
    "\n",
    "hold_days = mavg_30_is_greater.shift(1)\n",
    "hold_days['2011-02-08':'2011-02-22']"
   ]
  },
  {
   "cell_type": "code",
   "execution_count": 130,
   "metadata": {},
   "outputs": [
    {
     "data": {
      "text/plain": [
       "Date\n",
       "2011-01-03    False\n",
       "2011-01-04    False\n",
       "2011-01-05    False\n",
       "Name: Close, dtype: bool"
      ]
     },
     "execution_count": 130,
     "metadata": {},
     "output_type": "execute_result"
    }
   ],
   "source": [
    "hold_days = hold_days.fillna(False)  # we don't hold shares on the first day\n",
    "hold_days[0:3]"
   ]
  },
  {
   "cell_type": "code",
   "execution_count": 131,
   "metadata": {},
   "outputs": [
    {
     "data": {
      "text/plain": [
       "[]"
      ]
     },
     "execution_count": 131,
     "metadata": {},
     "output_type": "execute_result"
    },
    {
     "data": {
      "image/png": "[encoded data removed]",
      "text/plain": [
       "<matplotlib.figure.Figure at 0x11b0567d0>"
      ]
     },
     "metadata": {},
     "output_type": "display_data"
    }
   ],
   "source": [
    "fig, (ax1, ax2) = subplots(nrows=2,\n",
    "                           ncols=1,\n",
    "                           sharex=True,\n",
    "                           figsize=(8, 6))\n",
    "\n",
    "closes.plot(ax=ax1, label='Daily close')\n",
    "mavg_30.plot(ax=ax1, label='30-day average')\n",
    "mavg_180.plot(ax=ax1, label='180-day average')\n",
    "ax1.legend(loc='best')\n",
    "ax1.set_ylabel('Stock price')\n",
    "\n",
    "hold_days.plot(ax=ax2, ylim=[0,2], label='Moving average signal')\n",
    "ax2.legend(loc='best')\n",
    "ax2.yaxis.set_ticklabels([])"
   ]
  },
  {
   "cell_type": "code",
   "execution_count": 132,
   "metadata": {},
   "outputs": [
    {
     "name": "stdout",
     "output_type": "stream",
     "text": [
      "1.40002754483\n"
     ]
    }
   ],
   "source": [
    "s = daily_return_ratio[hold_days]\n",
    "print s.prod()"
   ]
  },
  {
   "cell_type": "code",
   "execution_count": 133,
   "metadata": {},
   "outputs": [
    {
     "name": "stdout",
     "output_type": "stream",
     "text": [
      "1.70242141037\n"
     ]
    }
   ],
   "source": [
    "print daily_return_ratio.prod()"
   ]
  },
  {
   "cell_type": "code",
   "execution_count": 134,
   "metadata": {},
   "outputs": [
    {
     "data": {
      "image/png": "[encoded data removed]",
      "text/plain": [
       "<matplotlib.figure.Figure at 0x1122c2b90>"
      ]
     },
     "metadata": {},
     "output_type": "display_data"
    }
   ],
   "source": [
    "s.cumprod().plot(label='Moving average strategy')\n",
    "daily_return_ratio.cumprod().plot(label='Buy and hold strategy')\n",
    "ylabel('Return ratio')\n",
    "legend(loc='best')\n",
    "figsize(12,8)"
   ]
  },
  {
   "cell_type": "markdown",
   "metadata": {},
   "source": [
    "## Statistics"
   ]
  },
  {
   "cell_type": "code",
   "execution_count": 135,
   "metadata": {},
   "outputs": [
    {
     "data": {
      "text/html": [
       "<div>\n",
       "<style>\n",
       "    .dataframe thead tr:only-child th {\n",
       "        text-align: right;\n",
       "    }\n",
       "\n",
       "    .dataframe thead th {\n",
       "        text-align: left;\n",
       "    }\n",
       "\n",
       "    .dataframe tbody tr th {\n",
       "        vertical-align: top;\n",
       "    }\n",
       "</style>\n",
       "<table border=\"1\" class=\"dataframe\">\n",
       "  <thead>\n",
       "    <tr style=\"text-align: right;\">\n",
       "      <th></th>\n",
       "      <th>SUMLEV</th>\n",
       "      <th>REGION</th>\n",
       "      <th>DIVISION</th>\n",
       "      <th>STATE</th>\n",
       "      <th>NAME</th>\n",
       "      <th>POPESTIMATE2014</th>\n",
       "      <th>POPEST18PLUS2014</th>\n",
       "      <th>PCNT_POPEST18PLUS</th>\n",
       "    </tr>\n",
       "  </thead>\n",
       "  <tbody>\n",
       "    <tr>\n",
       "      <th>0</th>\n",
       "      <td>10</td>\n",
       "      <td>0</td>\n",
       "      <td>0</td>\n",
       "      <td>0</td>\n",
       "      <td>United States</td>\n",
       "      <td>318857056</td>\n",
       "      <td>245273438</td>\n",
       "      <td>76.9</td>\n",
       "    </tr>\n",
       "    <tr>\n",
       "      <th>1</th>\n",
       "      <td>40</td>\n",
       "      <td>3</td>\n",
       "      <td>6</td>\n",
       "      <td>1</td>\n",
       "      <td>Alabama</td>\n",
       "      <td>4849377</td>\n",
       "      <td>3741806</td>\n",
       "      <td>77.2</td>\n",
       "    </tr>\n",
       "    <tr>\n",
       "      <th>2</th>\n",
       "      <td>40</td>\n",
       "      <td>4</td>\n",
       "      <td>9</td>\n",
       "      <td>2</td>\n",
       "      <td>Alaska</td>\n",
       "      <td>736732</td>\n",
       "      <td>550189</td>\n",
       "      <td>74.7</td>\n",
       "    </tr>\n",
       "    <tr>\n",
       "      <th>3</th>\n",
       "      <td>40</td>\n",
       "      <td>4</td>\n",
       "      <td>8</td>\n",
       "      <td>4</td>\n",
       "      <td>Arizona</td>\n",
       "      <td>6731484</td>\n",
       "      <td>5109792</td>\n",
       "      <td>75.9</td>\n",
       "    </tr>\n",
       "    <tr>\n",
       "      <th>4</th>\n",
       "      <td>40</td>\n",
       "      <td>3</td>\n",
       "      <td>7</td>\n",
       "      <td>5</td>\n",
       "      <td>Arkansas</td>\n",
       "      <td>2966369</td>\n",
       "      <td>2259350</td>\n",
       "      <td>76.2</td>\n",
       "    </tr>\n",
       "  </tbody>\n",
       "</table>\n",
       "</div>"
      ],
      "text/plain": [
       "   SUMLEV REGION DIVISION  STATE           NAME  POPESTIMATE2014  \\\n",
       "0      10      0        0      0  United States        318857056   \n",
       "1      40      3        6      1        Alabama          4849377   \n",
       "2      40      4        9      2         Alaska           736732   \n",
       "3      40      4        8      4        Arizona          6731484   \n",
       "4      40      3        7      5       Arkansas          2966369   \n",
       "\n",
       "   POPEST18PLUS2014  PCNT_POPEST18PLUS  \n",
       "0         245273438               76.9  \n",
       "1           3741806               77.2  \n",
       "2            550189               74.7  \n",
       "3           5109792               75.9  \n",
       "4           2259350               76.2  "
      ]
     },
     "execution_count": 135,
     "metadata": {},
     "output_type": "execute_result"
    }
   ],
   "source": [
    "census = pd.read_csv('/Users/meganchen/Desktop/MIS_381/dataset/census_population.csv')\n",
    "census[:5]"
   ]
  },
  {
   "cell_type": "code",
   "execution_count": 136,
   "metadata": {},
   "outputs": [
    {
     "data": {
      "text/plain": [
       "NAME\n",
       "Alabama        4849377\n",
       "Alaska          736732\n",
       "Arizona        6731484\n",
       "Arkansas       2966369\n",
       "California    38802500\n",
       "Name: POPESTIMATE2014, dtype: int64"
      ]
     },
     "execution_count": 136,
     "metadata": {},
     "output_type": "execute_result"
    }
   ],
   "source": [
    "census = census.iloc[1:]  # Remove the United States from the data\n",
    "state_census = census.set_index('NAME')\n",
    "state_pop = state_census['POPESTIMATE2014']\n",
    "state_pop[:5]"
   ]
  },
  {
   "cell_type": "code",
   "execution_count": 137,
   "metadata": {},
   "outputs": [
    {
     "data": {
      "text/html": [
       "<div>\n",
       "<style>\n",
       "    .dataframe thead tr:only-child th {\n",
       "        text-align: right;\n",
       "    }\n",
       "\n",
       "    .dataframe thead th {\n",
       "        text-align: left;\n",
       "    }\n",
       "\n",
       "    .dataframe tbody tr th {\n",
       "        vertical-align: top;\n",
       "    }\n",
       "</style>\n",
       "<table border=\"1\" class=\"dataframe\">\n",
       "  <thead>\n",
       "    <tr style=\"text-align: right;\">\n",
       "      <th></th>\n",
       "      <th>parent</th>\n",
       "      <th>child</th>\n",
       "    </tr>\n",
       "  </thead>\n",
       "  <tbody>\n",
       "    <tr>\n",
       "      <th>1</th>\n",
       "      <td>70.5</td>\n",
       "      <td>61.7</td>\n",
       "    </tr>\n",
       "    <tr>\n",
       "      <th>2</th>\n",
       "      <td>68.5</td>\n",
       "      <td>61.7</td>\n",
       "    </tr>\n",
       "    <tr>\n",
       "      <th>3</th>\n",
       "      <td>65.5</td>\n",
       "      <td>61.7</td>\n",
       "    </tr>\n",
       "    <tr>\n",
       "      <th>4</th>\n",
       "      <td>64.5</td>\n",
       "      <td>61.7</td>\n",
       "    </tr>\n",
       "    <tr>\n",
       "      <th>5</th>\n",
       "      <td>64.0</td>\n",
       "      <td>61.7</td>\n",
       "    </tr>\n",
       "  </tbody>\n",
       "</table>\n",
       "</div>"
      ],
      "text/plain": [
       "   parent  child\n",
       "1    70.5   61.7\n",
       "2    68.5   61.7\n",
       "3    65.5   61.7\n",
       "4    64.5   61.7\n",
       "5    64.0   61.7"
      ]
     },
     "execution_count": 137,
     "metadata": {},
     "output_type": "execute_result"
    }
   ],
   "source": [
    "heights = pd.read_csv('/Users/meganchen/Desktop/MIS_381/dataset/Galton-Heights.csv', index_col=0)\n",
    "parents = heights['parent']\n",
    "heights[:5]"
   ]
  },
  {
   "cell_type": "code",
   "execution_count": 138,
   "metadata": {},
   "outputs": [
    {
     "data": {
      "text/plain": [
       "<matplotlib.text.Text at 0x11c4c0e90>"
      ]
     },
     "execution_count": 138,
     "metadata": {},
     "output_type": "execute_result"
    },
    {
     "data": {
      "image/png": "[encoded data removed]",
      "text/plain": [
       "<matplotlib.figure.Figure at 0x11add4a10>"
      ]
     },
     "metadata": {},
     "output_type": "display_data"
    }
   ],
   "source": [
    "fig, (ax1, ax2) = subplots(nrows=1,\n",
    "                           ncols=2,\n",
    "                           figsize=(8, 4))\n",
    "\n",
    "state_pop.hist(ax=ax1, bins=np.linspace(1e6, 40e6, 20))\n",
    "ax1.set_xlabel('Population')\n",
    "ax1.set_ylabel('Number of states')\n",
    "\n",
    "parents.hist(ax=ax2, bins=np.linspace(60, 75, 15))\n",
    "ax2.set_xlabel('Height of parent')\n",
    "ax2.set_ylabel('Number of parents')"
   ]
  },
  {
   "cell_type": "code",
   "execution_count": 139,
   "metadata": {},
   "outputs": [
    {
     "data": {
      "text/plain": [
       "[<matplotlib.lines.Line2D at 0x11b5368d0>]"
      ]
     },
     "execution_count": 139,
     "metadata": {},
     "output_type": "execute_result"
    },
    {
     "data": {
      "image/png": "[encoded data removed]",
      "text/plain": [
       "<matplotlib.figure.Figure at 0x11b536a90>"
      ]
     },
     "metadata": {},
     "output_type": "display_data"
    }
   ],
   "source": [
    "parents.hist(bins=np.linspace(60, 75, 15), normed=True) #normalize histogram\n",
    "xlabel('Height of parent')\n",
    "\n",
    "# And a bell curve with exactly the same mean and standard deviation.\n",
    "x = np.linspace(60, 75, 100)\n",
    "plot(x, mlab.normpdf(x, parents.mean(), parents.std()))"
   ]
  },
  {
   "cell_type": "code",
   "execution_count": 140,
   "metadata": {},
   "outputs": [
    {
     "name": "stdout",
     "output_type": "stream",
     "text": [
      "Fraction of parents heights within 1 standard deviation of the mean = 0.660560344828\n"
     ]
    }
   ],
   "source": [
    "mean = parents.mean()\n",
    "sd = parents.std()\n",
    "\n",
    "mask_1_standard_dev = ((parents >= mean - sd) & (parents <= mean + sd))\n",
    "\n",
    "print 'Fraction of parents heights within 1 standard deviation of the mean =',\n",
    "print len(parents[mask_1_standard_dev]) * 1.0 / len(parents)\n"
   ]
  },
  {
   "cell_type": "code",
   "execution_count": 141,
   "metadata": {},
   "outputs": [
    {
     "name": "stdout",
     "output_type": "stream",
     "text": [
      "Fraction of parents heights within 2 standard deviation of the mean = 0.935344827586\n"
     ]
    }
   ],
   "source": [
    "mask_2_standard_dev = ((parents >= mean - 2 * sd) & (parents <= mean + 2 * sd))\n",
    "\n",
    "print 'Fraction of parents heights within 2 standard deviation of the mean =',\n",
    "print len(parents[mask_2_standard_dev]) * 1.0 / len(parents)"
   ]
  },
  {
   "cell_type": "code",
   "execution_count": 142,
   "metadata": {},
   "outputs": [
    {
     "data": {
      "text/plain": [
       "[<matplotlib.lines.Line2D at 0x11b506b50>]"
      ]
     },
     "execution_count": 142,
     "metadata": {},
     "output_type": "execute_result"
    },
    {
     "data": {
      "image/png": "[encoded data removed]",
      "text/plain": [
       "<matplotlib.figure.Figure at 0x11b078c90>"
      ]
     },
     "metadata": {},
     "output_type": "display_data"
    }
   ],
   "source": [
    "state_pop.hist(bins=30, normed=True)\n",
    "xlabel('Population')\n",
    "\n",
    "# And a bell curve with exactly the same mean and standard deviation.\n",
    "mean = state_pop.mean()\n",
    "sd = state_pop.std()\n",
    "x = np.linspace(0, 4e7, 100)\n",
    "plot(x, mlab.normpdf(x, mean, sd))\n"
   ]
  },
  {
   "cell_type": "code",
   "execution_count": 143,
   "metadata": {},
   "outputs": [
    {
     "name": "stdout",
     "output_type": "stream",
     "text": [
      "Fraction of state populations within 1 standard deviation of the mean = 0.923076923077\n",
      "Fraction of state populations within 2 standard deviation of the mean = 0.961538461538\n"
     ]
    }
   ],
   "source": [
    "mask_1_standard_dev = ((state_pop >= mean - sd) & (state_pop <= mean + sd))\n",
    "mask_2_standard_dev = ((state_pop >= mean - 2 * sd) & (state_pop <= mean + 2 * sd))\n",
    "\n",
    "print 'Fraction of state populations within 1 standard deviation of the mean =',\n",
    "print len(state_pop[mask_1_standard_dev]) * 1.0 / len(state_pop)\n",
    "print 'Fraction of state populations within 2 standard deviation of the mean =',\n",
    "print len(state_pop[mask_2_standard_dev]) * 1.0 / len(state_pop)"
   ]
  },
  {
   "cell_type": "code",
   "execution_count": 144,
   "metadata": {},
   "outputs": [
    {
     "data": {
      "text/plain": [
       "4.6154358817193213"
      ]
     },
     "execution_count": 144,
     "metadata": {},
     "output_type": "execute_result"
    }
   ],
   "source": [
    "most_populous_states = state_pop.sort_values(ascending=False)\n",
    "(most_populous_states[0] - mean ) / sd"
   ]
  },
  {
   "cell_type": "code",
   "execution_count": 145,
   "metadata": {
    "scrolled": true
   },
   "outputs": [
    {
     "data": {
      "text/plain": [
       "<matplotlib.legend.Legend at 0x112080950>"
      ]
     },
     "execution_count": 145,
     "metadata": {},
     "output_type": "execute_result"
    },
    {
     "data": {
      "image/png": "[encoded data removed]",
      "text/plain": [
       "<matplotlib.figure.Figure at 0x11b460610>"
      ]
     },
     "metadata": {},
     "output_type": "display_data"
    }
   ],
   "source": [
    "mean = state_pop.mean()\n",
    "median = state_pop.median()\n",
    "\n",
    "state_pop.hist(bins=10)                                                     # Histogram\n",
    "plot([mean, mean], [0, 30], color='red', linewidth=5, label='Mean')         # Mean\n",
    "plot([median, median], [0, 30], color='green', linewidth=5, label='Median') # Median\n",
    "legend(loc='best')"
   ]
  },
  {
   "cell_type": "markdown",
   "metadata": {},
   "source": [
    "#### Quantiless"
   ]
  },
  {
   "cell_type": "code",
   "execution_count": 146,
   "metadata": {},
   "outputs": [
    {
     "name": "stdout",
     "output_type": "stream",
     "text": [
      "25-percentile = 1796360.5\n",
      "Median = 50-percentile = 4191848.0\n",
      "75-percentile population = 6824438.5\n",
      "90-percentile = 12667904.4\n"
     ]
    }
   ],
   "source": [
    "print '25-percentile =', state_pop.quantile(0.25)\n",
    "print 'Median = 50-percentile =', state_pop.quantile(0.5)\n",
    "print '75-percentile population =', state_pop.quantile(0.75)\n",
    "print '90-percentile =', state_pop.quantile(0.9)"
   ]
  },
  {
   "cell_type": "code",
   "execution_count": 164,
   "metadata": {},
   "outputs": [
    {
     "data": {
      "text/plain": [
       "array([   584153. ,    861418.9,   1347983.4,   2311630.1,   3039297.8,\n",
       "         4191848. ,   5416650.2,   6582604.1,   8815797.8,  12667904.4,\n",
       "        38802500. ])"
      ]
     },
     "execution_count": 164,
     "metadata": {},
     "output_type": "execute_result"
    }
   ],
   "source": [
    "out = pd.qcut(state_pop, 10)\n",
    "out, bins = pd.qcut(state_pop, 10, retbins=True)\n",
    "bins"
   ]
  },
  {
   "cell_type": "code",
   "execution_count": 148,
   "metadata": {},
   "outputs": [
    {
     "data": {
      "text/plain": [
       "count    5.200000e+01\n",
       "mean     6.200105e+06\n",
       "std      7.063774e+06\n",
       "min      5.841530e+05\n",
       "25%      1.796360e+06\n",
       "50%      4.191848e+06\n",
       "75%      6.824438e+06\n",
       "max      3.880250e+07\n",
       "Name: POPESTIMATE2014, dtype: float64"
      ]
     },
     "execution_count": 148,
     "metadata": {},
     "output_type": "execute_result"
    }
   ],
   "source": [
    "state_pop.describe()"
   ]
  },
  {
   "cell_type": "code",
   "execution_count": 149,
   "metadata": {},
   "outputs": [
    {
     "data": {
      "text/html": [
       "<div>\n",
       "<style>\n",
       "    .dataframe thead tr:only-child th {\n",
       "        text-align: right;\n",
       "    }\n",
       "\n",
       "    .dataframe thead th {\n",
       "        text-align: left;\n",
       "    }\n",
       "\n",
       "    .dataframe tbody tr th {\n",
       "        vertical-align: top;\n",
       "    }\n",
       "</style>\n",
       "<table border=\"1\" class=\"dataframe\">\n",
       "  <thead>\n",
       "    <tr style=\"text-align: right;\">\n",
       "      <th></th>\n",
       "      <th>parent</th>\n",
       "      <th>child</th>\n",
       "    </tr>\n",
       "  </thead>\n",
       "  <tbody>\n",
       "    <tr>\n",
       "      <th>count</th>\n",
       "      <td>928.000000</td>\n",
       "      <td>928.000000</td>\n",
       "    </tr>\n",
       "    <tr>\n",
       "      <th>mean</th>\n",
       "      <td>68.308190</td>\n",
       "      <td>68.088470</td>\n",
       "    </tr>\n",
       "    <tr>\n",
       "      <th>std</th>\n",
       "      <td>1.787333</td>\n",
       "      <td>2.517941</td>\n",
       "    </tr>\n",
       "    <tr>\n",
       "      <th>min</th>\n",
       "      <td>64.000000</td>\n",
       "      <td>61.700000</td>\n",
       "    </tr>\n",
       "    <tr>\n",
       "      <th>25%</th>\n",
       "      <td>67.500000</td>\n",
       "      <td>66.200000</td>\n",
       "    </tr>\n",
       "    <tr>\n",
       "      <th>50%</th>\n",
       "      <td>68.500000</td>\n",
       "      <td>68.200000</td>\n",
       "    </tr>\n",
       "    <tr>\n",
       "      <th>75%</th>\n",
       "      <td>69.500000</td>\n",
       "      <td>70.200000</td>\n",
       "    </tr>\n",
       "    <tr>\n",
       "      <th>max</th>\n",
       "      <td>73.000000</td>\n",
       "      <td>73.700000</td>\n",
       "    </tr>\n",
       "  </tbody>\n",
       "</table>\n",
       "</div>"
      ],
      "text/plain": [
       "           parent       child\n",
       "count  928.000000  928.000000\n",
       "mean    68.308190   68.088470\n",
       "std      1.787333    2.517941\n",
       "min     64.000000   61.700000\n",
       "25%     67.500000   66.200000\n",
       "50%     68.500000   68.200000\n",
       "75%     69.500000   70.200000\n",
       "max     73.000000   73.700000"
      ]
     },
     "execution_count": 149,
     "metadata": {},
     "output_type": "execute_result"
    }
   ],
   "source": [
    "heights.describe()"
   ]
  },
  {
   "cell_type": "code",
   "execution_count": 150,
   "metadata": {},
   "outputs": [
    {
     "data": {
      "text/html": [
       "<div>\n",
       "<style>\n",
       "    .dataframe thead tr:only-child th {\n",
       "        text-align: right;\n",
       "    }\n",
       "\n",
       "    .dataframe thead th {\n",
       "        text-align: left;\n",
       "    }\n",
       "\n",
       "    .dataframe tbody tr th {\n",
       "        vertical-align: top;\n",
       "    }\n",
       "</style>\n",
       "<table border=\"1\" class=\"dataframe\">\n",
       "  <thead>\n",
       "    <tr style=\"text-align: right;\">\n",
       "      <th></th>\n",
       "      <th>POPESTIMATE2014</th>\n",
       "      <th>POPEST18PLUS2014</th>\n",
       "      <th>REGION NAME</th>\n",
       "    </tr>\n",
       "  </thead>\n",
       "  <tbody>\n",
       "    <tr>\n",
       "      <th>1</th>\n",
       "      <td>4849377</td>\n",
       "      <td>3741806</td>\n",
       "      <td>South</td>\n",
       "    </tr>\n",
       "    <tr>\n",
       "      <th>2</th>\n",
       "      <td>736732</td>\n",
       "      <td>550189</td>\n",
       "      <td>West</td>\n",
       "    </tr>\n",
       "    <tr>\n",
       "      <th>3</th>\n",
       "      <td>6731484</td>\n",
       "      <td>5109792</td>\n",
       "      <td>West</td>\n",
       "    </tr>\n",
       "    <tr>\n",
       "      <th>4</th>\n",
       "      <td>2966369</td>\n",
       "      <td>2259350</td>\n",
       "      <td>South</td>\n",
       "    </tr>\n",
       "    <tr>\n",
       "      <th>5</th>\n",
       "      <td>38802500</td>\n",
       "      <td>29649348</td>\n",
       "      <td>West</td>\n",
       "    </tr>\n",
       "  </tbody>\n",
       "</table>\n",
       "</div>"
      ],
      "text/plain": [
       "   POPESTIMATE2014  POPEST18PLUS2014 REGION NAME\n",
       "1          4849377           3741806       South\n",
       "2           736732            550189        West\n",
       "3          6731484           5109792        West\n",
       "4          2966369           2259350       South\n",
       "5         38802500          29649348        West"
      ]
     },
     "execution_count": 150,
     "metadata": {},
     "output_type": "execute_result"
    }
   ],
   "source": [
    "census['REGION NAME'] = census['REGION'].replace({'1':'Northwest', '2':'Midwest', '3':'South', '4':'West'})\n",
    "census[['POPESTIMATE2014', 'POPEST18PLUS2014', 'REGION NAME']][:5]"
   ]
  },
  {
   "cell_type": "code",
   "execution_count": 151,
   "metadata": {},
   "outputs": [
    {
     "data": {
      "text/html": [
       "<div>\n",
       "<style>\n",
       "    .dataframe thead tr:only-child th {\n",
       "        text-align: right;\n",
       "    }\n",
       "\n",
       "    .dataframe thead th {\n",
       "        text-align: left;\n",
       "    }\n",
       "\n",
       "    .dataframe tbody tr th {\n",
       "        vertical-align: top;\n",
       "    }\n",
       "</style>\n",
       "<table border=\"1\" class=\"dataframe\">\n",
       "  <thead>\n",
       "    <tr>\n",
       "      <th></th>\n",
       "      <th colspan=\"8\" halign=\"left\">POPEST18PLUS2014</th>\n",
       "      <th colspan=\"8\" halign=\"left\">POPESTIMATE2014</th>\n",
       "    </tr>\n",
       "    <tr>\n",
       "      <th></th>\n",
       "      <th>count</th>\n",
       "      <th>mean</th>\n",
       "      <th>std</th>\n",
       "      <th>min</th>\n",
       "      <th>25%</th>\n",
       "      <th>50%</th>\n",
       "      <th>75%</th>\n",
       "      <th>max</th>\n",
       "      <th>count</th>\n",
       "      <th>mean</th>\n",
       "      <th>std</th>\n",
       "      <th>min</th>\n",
       "      <th>25%</th>\n",
       "      <th>50%</th>\n",
       "      <th>75%</th>\n",
       "      <th>max</th>\n",
       "    </tr>\n",
       "    <tr>\n",
       "      <th>REGION NAME</th>\n",
       "      <th></th>\n",
       "      <th></th>\n",
       "      <th></th>\n",
       "      <th></th>\n",
       "      <th></th>\n",
       "      <th></th>\n",
       "      <th></th>\n",
       "      <th></th>\n",
       "      <th></th>\n",
       "      <th></th>\n",
       "      <th></th>\n",
       "      <th></th>\n",
       "      <th></th>\n",
       "      <th></th>\n",
       "      <th></th>\n",
       "      <th></th>\n",
       "    </tr>\n",
       "  </thead>\n",
       "  <tbody>\n",
       "    <tr>\n",
       "      <th>Midwest</th>\n",
       "      <td>12.0</td>\n",
       "      <td>4.336984e+06</td>\n",
       "      <td>3.145883e+06</td>\n",
       "      <td>570955.0</td>\n",
       "      <td>1989739.75</td>\n",
       "      <td>4316361.0</td>\n",
       "      <td>5682717.75</td>\n",
       "      <td>9892106.0</td>\n",
       "      <td>12.0</td>\n",
       "      <td>5.645426e+06</td>\n",
       "      <td>4.069933e+06</td>\n",
       "      <td>739482.0</td>\n",
       "      <td>2648391.5</td>\n",
       "      <td>5607368.5</td>\n",
       "      <td>7425110.5</td>\n",
       "      <td>12880580.0</td>\n",
       "    </tr>\n",
       "    <tr>\n",
       "      <th>Northwest</th>\n",
       "      <td>9.0</td>\n",
       "      <td>4.909333e+06</td>\n",
       "      <td>5.165357e+06</td>\n",
       "      <td>504976.0</td>\n",
       "      <td>1059672.00</td>\n",
       "      <td>2821247.0</td>\n",
       "      <td>6926094.00</td>\n",
       "      <td>15517321.0</td>\n",
       "      <td>9.0</td>\n",
       "      <td>6.239148e+06</td>\n",
       "      <td>6.580716e+06</td>\n",
       "      <td>626562.0</td>\n",
       "      <td>1326813.0</td>\n",
       "      <td>3596677.0</td>\n",
       "      <td>8938175.0</td>\n",
       "      <td>19746227.0</td>\n",
       "    </tr>\n",
       "    <tr>\n",
       "      <th>South</th>\n",
       "      <td>17.0</td>\n",
       "      <td>5.394036e+06</td>\n",
       "      <td>5.177648e+06</td>\n",
       "      <td>543588.0</td>\n",
       "      <td>2262810.00</td>\n",
       "      <td>3741806.0</td>\n",
       "      <td>6457174.00</td>\n",
       "      <td>19841344.0</td>\n",
       "      <td>17.0</td>\n",
       "      <td>7.045408e+06</td>\n",
       "      <td>6.859573e+06</td>\n",
       "      <td>658893.0</td>\n",
       "      <td>2994079.0</td>\n",
       "      <td>4832482.0</td>\n",
       "      <td>8326289.0</td>\n",
       "      <td>26956958.0</td>\n",
       "    </tr>\n",
       "    <tr>\n",
       "      <th>West</th>\n",
       "      <td>13.0</td>\n",
       "      <td>4.411309e+06</td>\n",
       "      <td>7.766443e+06</td>\n",
       "      <td>445830.0</td>\n",
       "      <td>1111117.00</td>\n",
       "      <td>2038787.0</td>\n",
       "      <td>4109494.00</td>\n",
       "      <td>29649348.0</td>\n",
       "      <td>13.0</td>\n",
       "      <td>5.783668e+06</td>\n",
       "      <td>1.015746e+07</td>\n",
       "      <td>584153.0</td>\n",
       "      <td>1419561.0</td>\n",
       "      <td>2839099.0</td>\n",
       "      <td>5355866.0</td>\n",
       "      <td>38802500.0</td>\n",
       "    </tr>\n",
       "    <tr>\n",
       "      <th>X</th>\n",
       "      <td>1.0</td>\n",
       "      <td>2.775645e+06</td>\n",
       "      <td>NaN</td>\n",
       "      <td>2775645.0</td>\n",
       "      <td>2775645.00</td>\n",
       "      <td>2775645.0</td>\n",
       "      <td>2775645.00</td>\n",
       "      <td>2775645.0</td>\n",
       "      <td>1.0</td>\n",
       "      <td>3.548397e+06</td>\n",
       "      <td>NaN</td>\n",
       "      <td>3548397.0</td>\n",
       "      <td>3548397.0</td>\n",
       "      <td>3548397.0</td>\n",
       "      <td>3548397.0</td>\n",
       "      <td>3548397.0</td>\n",
       "    </tr>\n",
       "  </tbody>\n",
       "</table>\n",
       "</div>"
      ],
      "text/plain": [
       "            POPEST18PLUS2014                                         \\\n",
       "                       count          mean           std        min   \n",
       "REGION NAME                                                           \n",
       "Midwest                 12.0  4.336984e+06  3.145883e+06   570955.0   \n",
       "Northwest                9.0  4.909333e+06  5.165357e+06   504976.0   \n",
       "South                   17.0  5.394036e+06  5.177648e+06   543588.0   \n",
       "West                    13.0  4.411309e+06  7.766443e+06   445830.0   \n",
       "X                        1.0  2.775645e+06           NaN  2775645.0   \n",
       "\n",
       "                                                           POPESTIMATE2014  \\\n",
       "                    25%        50%         75%         max           count   \n",
       "REGION NAME                                                                  \n",
       "Midwest      1989739.75  4316361.0  5682717.75   9892106.0            12.0   \n",
       "Northwest    1059672.00  2821247.0  6926094.00  15517321.0             9.0   \n",
       "South        2262810.00  3741806.0  6457174.00  19841344.0            17.0   \n",
       "West         1111117.00  2038787.0  4109494.00  29649348.0            13.0   \n",
       "X            2775645.00  2775645.0  2775645.00   2775645.0             1.0   \n",
       "\n",
       "                                                                          \\\n",
       "                     mean           std        min        25%        50%   \n",
       "REGION NAME                                                                \n",
       "Midwest      5.645426e+06  4.069933e+06   739482.0  2648391.5  5607368.5   \n",
       "Northwest    6.239148e+06  6.580716e+06   626562.0  1326813.0  3596677.0   \n",
       "South        7.045408e+06  6.859573e+06   658893.0  2994079.0  4832482.0   \n",
       "West         5.783668e+06  1.015746e+07   584153.0  1419561.0  2839099.0   \n",
       "X            3.548397e+06           NaN  3548397.0  3548397.0  3548397.0   \n",
       "\n",
       "                                    \n",
       "                   75%         max  \n",
       "REGION NAME                         \n",
       "Midwest      7425110.5  12880580.0  \n",
       "Northwest    8938175.0  19746227.0  \n",
       "South        8326289.0  26956958.0  \n",
       "West         5355866.0  38802500.0  \n",
       "X            3548397.0   3548397.0  "
      ]
     },
     "execution_count": 151,
     "metadata": {},
     "output_type": "execute_result"
    }
   ],
   "source": [
    "census_pop = census[['POPESTIMATE2014', 'POPEST18PLUS2014', 'REGION NAME']]\n",
    "census_pop_statistics = census_pop.groupby('REGION NAME').describe()\n",
    "census_pop_statistics"
   ]
  },
  {
   "cell_type": "code",
   "execution_count": 152,
   "metadata": {
    "scrolled": true
   },
   "outputs": [
    {
     "data": {
      "text/html": [
       "<div>\n",
       "<style>\n",
       "    .dataframe thead tr:only-child th {\n",
       "        text-align: right;\n",
       "    }\n",
       "\n",
       "    .dataframe thead th {\n",
       "        text-align: left;\n",
       "    }\n",
       "\n",
       "    .dataframe tbody tr th {\n",
       "        vertical-align: top;\n",
       "    }\n",
       "</style>\n",
       "<table border=\"1\" class=\"dataframe\">\n",
       "  <thead>\n",
       "    <tr style=\"text-align: right;\">\n",
       "      <th></th>\n",
       "      <th>POPEST18PLUS2014</th>\n",
       "      <th>POPESTIMATE2014</th>\n",
       "    </tr>\n",
       "  </thead>\n",
       "  <tbody>\n",
       "    <tr>\n",
       "      <th>count</th>\n",
       "      <td>1.200000e+01</td>\n",
       "      <td>1.200000e+01</td>\n",
       "    </tr>\n",
       "    <tr>\n",
       "      <th>mean</th>\n",
       "      <td>4.336984e+06</td>\n",
       "      <td>5.645426e+06</td>\n",
       "    </tr>\n",
       "    <tr>\n",
       "      <th>std</th>\n",
       "      <td>3.145883e+06</td>\n",
       "      <td>4.069933e+06</td>\n",
       "    </tr>\n",
       "    <tr>\n",
       "      <th>min</th>\n",
       "      <td>5.709550e+05</td>\n",
       "      <td>7.394820e+05</td>\n",
       "    </tr>\n",
       "    <tr>\n",
       "      <th>25%</th>\n",
       "      <td>1.989740e+06</td>\n",
       "      <td>2.648392e+06</td>\n",
       "    </tr>\n",
       "    <tr>\n",
       "      <th>50%</th>\n",
       "      <td>4.316361e+06</td>\n",
       "      <td>5.607368e+06</td>\n",
       "    </tr>\n",
       "    <tr>\n",
       "      <th>75%</th>\n",
       "      <td>5.682718e+06</td>\n",
       "      <td>7.425110e+06</td>\n",
       "    </tr>\n",
       "    <tr>\n",
       "      <th>max</th>\n",
       "      <td>9.892106e+06</td>\n",
       "      <td>1.288058e+07</td>\n",
       "    </tr>\n",
       "  </tbody>\n",
       "</table>\n",
       "</div>"
      ],
      "text/plain": [
       "       POPEST18PLUS2014  POPESTIMATE2014\n",
       "count      1.200000e+01     1.200000e+01\n",
       "mean       4.336984e+06     5.645426e+06\n",
       "std        3.145883e+06     4.069933e+06\n",
       "min        5.709550e+05     7.394820e+05\n",
       "25%        1.989740e+06     2.648392e+06\n",
       "50%        4.316361e+06     5.607368e+06\n",
       "75%        5.682718e+06     7.425110e+06\n",
       "max        9.892106e+06     1.288058e+07"
      ]
     },
     "execution_count": 152,
     "metadata": {},
     "output_type": "execute_result"
    }
   ],
   "source": [
    "census_pop_stats_stacked = census_pop_statistics.stack()\n",
    "census_pop_stats_stacked.loc['Midwest']"
   ]
  },
  {
   "cell_type": "markdown",
   "metadata": {},
   "source": [
    "#### Correlation"
   ]
  },
  {
   "cell_type": "code",
   "execution_count": 153,
   "metadata": {},
   "outputs": [
    {
     "data": {
      "text/plain": [
       "0.45876236829282185"
      ]
     },
     "execution_count": 153,
     "metadata": {},
     "output_type": "execute_result"
    }
   ],
   "source": [
    "heights['parent'].corr(heights['child'])"
   ]
  },
  {
   "cell_type": "code",
   "execution_count": 154,
   "metadata": {},
   "outputs": [
    {
     "data": {
      "text/plain": [
       "0.4251344659429212"
      ]
     },
     "execution_count": 154,
     "metadata": {},
     "output_type": "execute_result"
    }
   ],
   "source": [
    "\n",
    "heights['parent'].corr(heights['child'], method='spearman')\n",
    "\n"
   ]
  },
  {
   "cell_type": "code",
   "execution_count": 155,
   "metadata": {
    "collapsed": true
   },
   "outputs": [],
   "source": [
    "start_date = datetime(2011, 1, 1) # January 1, 2011\n",
    "end_date = datetime(2014, 1, 1)   # January 1, 2014\n",
    "\n",
    "aapl = web.DataReader('AAPL', 'google', start_date, end_date)\n",
    "spy = web.DataReader('SPY', 'google', start_date, end_date)"
   ]
  },
  {
   "cell_type": "code",
   "execution_count": 156,
   "metadata": {
    "collapsed": true
   },
   "outputs": [],
   "source": [
    "stocks = DataFrame({'AAPL':aapl['Close'], 'SPY':spy['Close']})"
   ]
  },
  {
   "cell_type": "code",
   "execution_count": 157,
   "metadata": {},
   "outputs": [
    {
     "name": "stdout",
     "output_type": "stream",
     "text": [
      "Correlation of AAPL and S&P 500:\n",
      "\t Standard (Pearson): 0.31449500573\n",
      "\t Spearman: 0.491954060172\n"
     ]
    }
   ],
   "source": [
    "print \"Correlation of AAPL and S&P 500:\"\n",
    "print \"\\t Standard (Pearson):\", stocks['AAPL'].corr(stocks['SPY'])\n",
    "print \"\\t Spearman:\", stocks['AAPL'].corr(stocks['SPY'], method='spearman')\n"
   ]
  },
  {
   "cell_type": "code",
   "execution_count": 158,
   "metadata": {},
   "outputs": [
    {
     "data": {
      "text/plain": [
       "<matplotlib.text.Text at 0x1122a5390>"
      ]
     },
     "execution_count": 158,
     "metadata": {},
     "output_type": "execute_result"
    },
    {
     "data": {
      "image/png": "[encoded data removed]",
      "text/plain": [
       "<matplotlib.figure.Figure at 0x11b547110>"
      ]
     },
     "metadata": {},
     "output_type": "display_data"
    }
   ],
   "source": [
    "plot(stocks['AAPL'], stocks['SPY'], marker='o', linestyle='None')\n",
    "xlabel('AAPL')\n",
    "ylabel('S&P 500')"
   ]
  },
  {
   "cell_type": "code",
   "execution_count": 159,
   "metadata": {},
   "outputs": [
    {
     "data": {
      "text/plain": [
       "Date\n",
       "2011-01-18    0.670922\n",
       "2011-01-19    0.665229\n",
       "2011-01-20    0.618038\n",
       "2011-01-21    0.464789\n",
       "2011-01-24    0.433916\n",
       "2011-01-25    0.455623\n",
       "2011-01-26    0.501056\n",
       "2011-01-27    0.527775\n",
       "2011-01-28    0.533050\n",
       "2011-01-31    0.533730\n",
       "dtype: float64"
      ]
     },
     "execution_count": 159,
     "metadata": {},
     "output_type": "execute_result"
    }
   ],
   "source": [
    "aapl_spy_over_time = stocks['AAPL'].rolling(window=30, min_periods=10).corr(stocks['SPY'])\n",
    "aapl_spy_over_time[10:20]"
   ]
  },
  {
   "cell_type": "code",
   "execution_count": 160,
   "metadata": {},
   "outputs": [
    {
     "data": {
      "text/plain": [
       "<matplotlib.axes._subplots.AxesSubplot at 0x11b1a2ad0>"
      ]
     },
     "execution_count": 160,
     "metadata": {},
     "output_type": "execute_result"
    },
    {
     "data": {
      "image/png": "[encoded data removed]",
      "text/plain": [
       "<matplotlib.figure.Figure at 0x10d176750>"
      ]
     },
     "metadata": {},
     "output_type": "display_data"
    }
   ],
   "source": [
    "fig, (ax1, ax2) = subplots(nrows=2, ncols=1, sharex=True, figsize=(12, 8))\n",
    "\n",
    "# On the first plot, show AAPL and SPY together\n",
    "stocks.plot(ax=ax1, secondary_y=['S&P 500'])\n",
    "\n",
    "# On the second plot, show the rolling correlation over time\n",
    "aapl_spy_over_time.plot(ax=ax2)"
   ]
  }
 ],
 "metadata": {
  "kernelspec": {
   "display_name": "Python 2",
   "language": "python",
   "name": "python2"
  },
  "language_info": {
   "codemirror_mode": {
    "name": "ipython",
    "version": 2
   },
   "file_extension": ".py",
   "mimetype": "text/x-python",
   "name": "python",
   "nbconvert_exporter": "python",
   "pygments_lexer": "ipython2",
   "version": "2.7.13"
  }
 },
 "nbformat": 4,
 "nbformat_minor": 2
}
